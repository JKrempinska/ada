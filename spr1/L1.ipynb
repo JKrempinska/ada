{
 "cells": [
  {
   "cell_type": "markdown",
   "metadata": {},
   "source": [
    "# **Analiza danych ankietowych - Sprawozdanie I**"
   ]
  },
  {
   "cell_type": "markdown",
   "metadata": {},
   "source": [
    "## *Autorzy: Julia Krempińska, Filip Miśkiewicz*"
   ]
  },
  {
   "cell_type": "markdown",
   "metadata": {},
   "source": [
    "## **Biblioteki**"
   ]
  },
  {
   "cell_type": "code",
   "execution_count": 60,
   "metadata": {},
   "outputs": [],
   "source": [
    "import pandas as pd\n",
    "import numpy as np\n",
    "import matplotlib.pyplot as plt\n",
    "import warnings\n",
    "import altair as alt\n",
    "import scipy\n",
    "import math\n",
    "import random\n",
    "\n",
    "from statsmodels.graphics.mosaicplot import mosaic\n",
    "from statsmodels.stats.proportion import proportion_confint\n",
    "from scipy.stats import binomtest\n",
    "from statsmodels.stats.proportion import proportions_ztest\n",
    "\n",
    "warnings.filterwarnings(\"ignore\")\n",
    "%matplotlib inline "
   ]
  },
  {
   "cell_type": "markdown",
   "metadata": {},
   "source": [
    "## **Część I**"
   ]
  },
  {
   "cell_type": "markdown",
   "metadata": {},
   "source": [
    "### **Zadanie 1**"
   ]
  },
  {
   "cell_type": "code",
   "execution_count": 61,
   "metadata": {},
   "outputs": [],
   "source": [
    "df = pd.read_table('ankieta_edit.csv', sep=';')"
   ]
  },
  {
   "cell_type": "code",
   "execution_count": 62,
   "metadata": {},
   "outputs": [
    {
     "data": {
      "text/html": [
       "<div>\n",
       "<style scoped>\n",
       "    .dataframe tbody tr th:only-of-type {\n",
       "        vertical-align: middle;\n",
       "    }\n",
       "\n",
       "    .dataframe tbody tr th {\n",
       "        vertical-align: top;\n",
       "    }\n",
       "\n",
       "    .dataframe thead th {\n",
       "        text-align: right;\n",
       "    }\n",
       "</style>\n",
       "<table border=\"1\" class=\"dataframe\">\n",
       "  <thead>\n",
       "    <tr style=\"text-align: right;\">\n",
       "      <th></th>\n",
       "      <th>DZIAŁ</th>\n",
       "      <th>STAŻ</th>\n",
       "      <th>CZY_KIER</th>\n",
       "      <th>PYT_1</th>\n",
       "      <th>PYT_2</th>\n",
       "      <th>PYT_3</th>\n",
       "      <th>PŁEĆ</th>\n",
       "      <th>WIEK</th>\n",
       "    </tr>\n",
       "  </thead>\n",
       "  <tbody>\n",
       "    <tr>\n",
       "      <th>0</th>\n",
       "      <td>IT</td>\n",
       "      <td>2</td>\n",
       "      <td>Nie</td>\n",
       "      <td>1</td>\n",
       "      <td>-2</td>\n",
       "      <td>1</td>\n",
       "      <td>M</td>\n",
       "      <td>64</td>\n",
       "    </tr>\n",
       "    <tr>\n",
       "      <th>1</th>\n",
       "      <td>IT</td>\n",
       "      <td>2</td>\n",
       "      <td>Nie</td>\n",
       "      <td>0</td>\n",
       "      <td>-2</td>\n",
       "      <td>-2</td>\n",
       "      <td>M</td>\n",
       "      <td>67</td>\n",
       "    </tr>\n",
       "    <tr>\n",
       "      <th>2</th>\n",
       "      <td>IT</td>\n",
       "      <td>2</td>\n",
       "      <td>Nie</td>\n",
       "      <td>1</td>\n",
       "      <td>2</td>\n",
       "      <td>2</td>\n",
       "      <td>M</td>\n",
       "      <td>65</td>\n",
       "    </tr>\n",
       "    <tr>\n",
       "      <th>3</th>\n",
       "      <td>IT</td>\n",
       "      <td>2</td>\n",
       "      <td>Nie</td>\n",
       "      <td>-1</td>\n",
       "      <td>-2</td>\n",
       "      <td>-2</td>\n",
       "      <td>K</td>\n",
       "      <td>68</td>\n",
       "    </tr>\n",
       "    <tr>\n",
       "      <th>4</th>\n",
       "      <td>IT</td>\n",
       "      <td>3</td>\n",
       "      <td>Tak</td>\n",
       "      <td>1</td>\n",
       "      <td>2</td>\n",
       "      <td>-1</td>\n",
       "      <td>K</td>\n",
       "      <td>65</td>\n",
       "    </tr>\n",
       "  </tbody>\n",
       "</table>\n",
       "</div>"
      ],
      "text/plain": [
       "  DZIAŁ  STAŻ CZY_KIER  PYT_1  PYT_2  PYT_3 PŁEĆ  WIEK\n",
       "0    IT     2      Nie      1     -2      1    M    64\n",
       "1    IT     2      Nie      0     -2     -2    M    67\n",
       "2    IT     2      Nie      1      2      2    M    65\n",
       "3    IT     2      Nie     -1     -2     -2    K    68\n",
       "4    IT     3      Tak      1      2     -1    K    65"
      ]
     },
     "execution_count": 62,
     "metadata": {},
     "output_type": "execute_result"
    }
   ],
   "source": [
    "df.head() #układ tabeli"
   ]
  },
  {
   "cell_type": "code",
   "execution_count": 63,
   "metadata": {},
   "outputs": [
    {
     "data": {
      "text/plain": [
       "False"
      ]
     },
     "execution_count": 63,
     "metadata": {},
     "output_type": "execute_result"
    }
   ],
   "source": [
    "df.isnull().values.any() #brak pustych komórek"
   ]
  },
  {
   "cell_type": "markdown",
   "metadata": {},
   "source": [
    "#### W naszych danych nie występują puste wartości. Teraz zajmiemy się przeanalizowaniem czy wszystkie udzielone odpowiedzi pokrywały się z kluczem."
   ]
  },
  {
   "cell_type": "code",
   "execution_count": 64,
   "metadata": {},
   "outputs": [
    {
     "name": "stdout",
     "output_type": "stream",
     "text": [
      "All DZIAŁ values are fine\n",
      "All STAŻ values are fine\n",
      "All CZY_KIER values are fine\n",
      "All PYT_1 values are fine\n",
      "All PYT_2 values are fine\n",
      "All PŁEĆ values are fine\n",
      "int64\n"
     ]
    }
   ],
   "source": [
    "if all(df[\"DZIAŁ\"].isin([\"IT\", \"HR\", \"MK\", \"PD\"])):\n",
    "    print(\"All DZIAŁ values are fine\")\n",
    "\n",
    "if all(df[\"STAŻ\"].isin([1, 0, 1, 2, 3])):\n",
    "    print(\"All STAŻ values are fine\")\n",
    "\n",
    "if all(df[\"CZY_KIER\"].isin([\"Tak\", \"Nie\"])):\n",
    "    print(\"All CZY_KIER values are fine\")\n",
    "\n",
    "if all(df[\"PYT_1\"].isin([-2, -1, 0, 1, 2])):\n",
    "    print(\"All PYT_1 values are fine\")\n",
    "\n",
    "if all(df[\"PYT_2\"].isin([-2, -1, 0, 1, 2])):\n",
    "    print(\"All PYT_2 values are fine\")\n",
    "\n",
    "if all(df[\"PŁEĆ\"].isin([\"K\", \"M\"])):\n",
    "    print(\"All PŁEĆ values are fine\")\n",
    "\n",
    "print(df[\"WIEK\"].dtype)"
   ]
  },
  {
   "cell_type": "markdown",
   "metadata": {},
   "source": [
    "##### Widzimy, że dla każdego pytania udzielone odpowiedzi były zgodne z kluczem."
   ]
  },
  {
   "cell_type": "markdown",
   "metadata": {},
   "source": [
    "### **Zadanie 2**"
   ]
  },
  {
   "cell_type": "markdown",
   "metadata": {},
   "source": [
    "#### Zmienną WIEK_KAT tworzymy według poniższego klucza:\n",
    "* Jeżeli pracownik ma mniej niż 35 lat - zmienna przyjmuje wartość 0;\n",
    "* Jeżeli pracownik ma więcej niż 35 lat, ale nie więcej niż 45 - zmienna przyjmuje wartość 1;\n",
    "* Jeżeli pracownik ma więcej niż 45 lat, ale nie więcej niż 55 - zmienna przyjmuje wartość 2;\n",
    "* Jeżeli pracownik ma więcej niż 55 lat - zmienna przyjmuje wartość 3."
   ]
  },
  {
   "cell_type": "code",
   "execution_count": 65,
   "metadata": {},
   "outputs": [
    {
     "data": {
      "text/html": [
       "<div>\n",
       "<style scoped>\n",
       "    .dataframe tbody tr th:only-of-type {\n",
       "        vertical-align: middle;\n",
       "    }\n",
       "\n",
       "    .dataframe tbody tr th {\n",
       "        vertical-align: top;\n",
       "    }\n",
       "\n",
       "    .dataframe thead th {\n",
       "        text-align: right;\n",
       "    }\n",
       "</style>\n",
       "<table border=\"1\" class=\"dataframe\">\n",
       "  <thead>\n",
       "    <tr style=\"text-align: right;\">\n",
       "      <th></th>\n",
       "      <th>DZIAŁ</th>\n",
       "      <th>STAŻ</th>\n",
       "      <th>CZY_KIER</th>\n",
       "      <th>PYT_1</th>\n",
       "      <th>PYT_2</th>\n",
       "      <th>PYT_3</th>\n",
       "      <th>PŁEĆ</th>\n",
       "      <th>WIEK</th>\n",
       "      <th>WIEK_KAT</th>\n",
       "    </tr>\n",
       "  </thead>\n",
       "  <tbody>\n",
       "    <tr>\n",
       "      <th>195</th>\n",
       "      <td>HR</td>\n",
       "      <td>2</td>\n",
       "      <td>Nie</td>\n",
       "      <td>1</td>\n",
       "      <td>2</td>\n",
       "      <td>2</td>\n",
       "      <td>M</td>\n",
       "      <td>42</td>\n",
       "      <td>1.0</td>\n",
       "    </tr>\n",
       "    <tr>\n",
       "      <th>196</th>\n",
       "      <td>HR</td>\n",
       "      <td>2</td>\n",
       "      <td>Nie</td>\n",
       "      <td>1</td>\n",
       "      <td>-1</td>\n",
       "      <td>-1</td>\n",
       "      <td>K</td>\n",
       "      <td>35</td>\n",
       "      <td>0.0</td>\n",
       "    </tr>\n",
       "    <tr>\n",
       "      <th>197</th>\n",
       "      <td>HR</td>\n",
       "      <td>2</td>\n",
       "      <td>Nie</td>\n",
       "      <td>-1</td>\n",
       "      <td>-2</td>\n",
       "      <td>-2</td>\n",
       "      <td>K</td>\n",
       "      <td>39</td>\n",
       "      <td>1.0</td>\n",
       "    </tr>\n",
       "    <tr>\n",
       "      <th>198</th>\n",
       "      <td>HR</td>\n",
       "      <td>2</td>\n",
       "      <td>Nie</td>\n",
       "      <td>1</td>\n",
       "      <td>2</td>\n",
       "      <td>1</td>\n",
       "      <td>K</td>\n",
       "      <td>48</td>\n",
       "      <td>2.0</td>\n",
       "    </tr>\n",
       "    <tr>\n",
       "      <th>199</th>\n",
       "      <td>HR</td>\n",
       "      <td>2</td>\n",
       "      <td>Nie</td>\n",
       "      <td>1</td>\n",
       "      <td>2</td>\n",
       "      <td>2</td>\n",
       "      <td>K</td>\n",
       "      <td>42</td>\n",
       "      <td>1.0</td>\n",
       "    </tr>\n",
       "  </tbody>\n",
       "</table>\n",
       "</div>"
      ],
      "text/plain": [
       "    DZIAŁ  STAŻ CZY_KIER  PYT_1  PYT_2  PYT_3 PŁEĆ  WIEK  WIEK_KAT\n",
       "195    HR     2      Nie      1      2      2    M    42       1.0\n",
       "196    HR     2      Nie      1     -1     -1    K    35       0.0\n",
       "197    HR     2      Nie     -1     -2     -2    K    39       1.0\n",
       "198    HR     2      Nie      1      2      1    K    48       2.0\n",
       "199    HR     2      Nie      1      2      2    K    42       1.0"
      ]
     },
     "execution_count": 65,
     "metadata": {},
     "output_type": "execute_result"
    }
   ],
   "source": [
    "WIEK_KAT = np.zeros(len(df[\"WIEK\"]))\n",
    "for i in range(len(df[\"WIEK\"])): #sprawdzanie warunków\n",
    "    if 35 < df[\"WIEK\"][i] <= 45:\n",
    "        WIEK_KAT[i] = 1\n",
    "    if 45 < df[\"WIEK\"][i] <= 55:\n",
    "        WIEK_KAT[i] = 2\n",
    "    if df[\"WIEK\"][i] > 55:\n",
    "        WIEK_KAT[i] = 3\n",
    "df[\"WIEK_KAT\"] = WIEK_KAT\n",
    "df.tail() #0 jeśli < 35"
   ]
  },
  {
   "cell_type": "markdown",
   "metadata": {},
   "source": [
    "### **Zadanie 3**"
   ]
  },
  {
   "cell_type": "markdown",
   "metadata": {},
   "source": [
    "#### By przedstawić dane w czytelny sposób, tworzymy tablice liczności."
   ]
  },
  {
   "cell_type": "code",
   "execution_count": 66,
   "metadata": {},
   "outputs": [
    {
     "data": {
      "text/html": [
       "<div>\n",
       "<style scoped>\n",
       "    .dataframe tbody tr th:only-of-type {\n",
       "        vertical-align: middle;\n",
       "    }\n",
       "\n",
       "    .dataframe tbody tr th {\n",
       "        vertical-align: top;\n",
       "    }\n",
       "\n",
       "    .dataframe thead th {\n",
       "        text-align: right;\n",
       "    }\n",
       "</style>\n",
       "<table border=\"1\" class=\"dataframe\">\n",
       "  <thead>\n",
       "    <tr style=\"text-align: right;\">\n",
       "      <th>col_0</th>\n",
       "      <th>Liczba</th>\n",
       "    </tr>\n",
       "    <tr>\n",
       "      <th>DZIAŁ</th>\n",
       "      <th></th>\n",
       "    </tr>\n",
       "  </thead>\n",
       "  <tbody>\n",
       "    <tr>\n",
       "      <th>HR</th>\n",
       "      <td>0.155</td>\n",
       "    </tr>\n",
       "    <tr>\n",
       "      <th>IT</th>\n",
       "      <td>0.130</td>\n",
       "    </tr>\n",
       "    <tr>\n",
       "      <th>MK</th>\n",
       "      <td>0.225</td>\n",
       "    </tr>\n",
       "    <tr>\n",
       "      <th>PD</th>\n",
       "      <td>0.490</td>\n",
       "    </tr>\n",
       "  </tbody>\n",
       "</table>\n",
       "</div>"
      ],
      "text/plain": [
       "col_0  Liczba\n",
       "DZIAŁ        \n",
       "HR      0.155\n",
       "IT      0.130\n",
       "MK      0.225\n",
       "PD      0.490"
      ]
     },
     "metadata": {},
     "output_type": "display_data"
    }
   ],
   "source": [
    "freq_table_dzial = pd.crosstab(df['DZIAŁ'], 'Liczba') / len(df['DZIAŁ'])\n",
    "freq_table_staz = pd.crosstab(df['STAŻ'], 'Liczba') / len(df['DZIAŁ'])\n",
    "freq_table_czy_kier = pd.crosstab(df['CZY_KIER'], 'Liczba') / len(df['DZIAŁ'])\n",
    "freq_table_plec = pd.crosstab(df['PŁEĆ'], 'Liczba') / len(df['DZIAŁ'])\n",
    "freq_table_PYT_1 = pd.crosstab(df['PYT_1'], 'Liczba') / len(df['DZIAŁ'])\n",
    "freq_table_PYT_2 = pd.crosstab(df['PYT_2'], 'Liczba') / len(df['DZIAŁ'])\n",
    "freq_table_wiek_kat = pd.crosstab(df['WIEK_KAT'], 'Liczba') / len(df['DZIAŁ'])\n",
    "\n",
    "display(freq_table_dzial)"
   ]
  },
  {
   "cell_type": "markdown",
   "metadata": {},
   "source": [
    "### TO DO: Wnioski"
   ]
  },
  {
   "cell_type": "code",
   "execution_count": 67,
   "metadata": {},
   "outputs": [
    {
     "data": {
      "text/html": [
       "<div>\n",
       "<style scoped>\n",
       "    .dataframe tbody tr th:only-of-type {\n",
       "        vertical-align: middle;\n",
       "    }\n",
       "\n",
       "    .dataframe tbody tr th {\n",
       "        vertical-align: top;\n",
       "    }\n",
       "\n",
       "    .dataframe thead th {\n",
       "        text-align: right;\n",
       "    }\n",
       "</style>\n",
       "<table border=\"1\" class=\"dataframe\">\n",
       "  <thead>\n",
       "    <tr style=\"text-align: right;\">\n",
       "      <th>col_0</th>\n",
       "      <th>Liczba</th>\n",
       "    </tr>\n",
       "    <tr>\n",
       "      <th>STAŻ</th>\n",
       "      <th></th>\n",
       "    </tr>\n",
       "  </thead>\n",
       "  <tbody>\n",
       "    <tr>\n",
       "      <th>1</th>\n",
       "      <td>0.205</td>\n",
       "    </tr>\n",
       "    <tr>\n",
       "      <th>2</th>\n",
       "      <td>0.700</td>\n",
       "    </tr>\n",
       "    <tr>\n",
       "      <th>3</th>\n",
       "      <td>0.095</td>\n",
       "    </tr>\n",
       "  </tbody>\n",
       "</table>\n",
       "</div>"
      ],
      "text/plain": [
       "col_0  Liczba\n",
       "STAŻ         \n",
       "1       0.205\n",
       "2       0.700\n",
       "3       0.095"
      ]
     },
     "metadata": {},
     "output_type": "display_data"
    }
   ],
   "source": [
    "display(freq_table_staz)"
   ]
  },
  {
   "cell_type": "markdown",
   "metadata": {},
   "source": [
    "### TO DO: Wnioski"
   ]
  },
  {
   "cell_type": "code",
   "execution_count": 68,
   "metadata": {},
   "outputs": [
    {
     "data": {
      "text/html": [
       "<div>\n",
       "<style scoped>\n",
       "    .dataframe tbody tr th:only-of-type {\n",
       "        vertical-align: middle;\n",
       "    }\n",
       "\n",
       "    .dataframe tbody tr th {\n",
       "        vertical-align: top;\n",
       "    }\n",
       "\n",
       "    .dataframe thead th {\n",
       "        text-align: right;\n",
       "    }\n",
       "</style>\n",
       "<table border=\"1\" class=\"dataframe\">\n",
       "  <thead>\n",
       "    <tr style=\"text-align: right;\">\n",
       "      <th>col_0</th>\n",
       "      <th>Liczba</th>\n",
       "    </tr>\n",
       "    <tr>\n",
       "      <th>CZY_KIER</th>\n",
       "      <th></th>\n",
       "    </tr>\n",
       "  </thead>\n",
       "  <tbody>\n",
       "    <tr>\n",
       "      <th>Nie</th>\n",
       "      <td>0.865</td>\n",
       "    </tr>\n",
       "    <tr>\n",
       "      <th>Tak</th>\n",
       "      <td>0.135</td>\n",
       "    </tr>\n",
       "  </tbody>\n",
       "</table>\n",
       "</div>"
      ],
      "text/plain": [
       "col_0     Liczba\n",
       "CZY_KIER        \n",
       "Nie        0.865\n",
       "Tak        0.135"
      ]
     },
     "metadata": {},
     "output_type": "display_data"
    }
   ],
   "source": [
    "display(freq_table_czy_kier)"
   ]
  },
  {
   "cell_type": "markdown",
   "metadata": {},
   "source": [
    "### TO DO: Wnioski"
   ]
  },
  {
   "cell_type": "code",
   "execution_count": 69,
   "metadata": {},
   "outputs": [
    {
     "data": {
      "text/html": [
       "<div>\n",
       "<style scoped>\n",
       "    .dataframe tbody tr th:only-of-type {\n",
       "        vertical-align: middle;\n",
       "    }\n",
       "\n",
       "    .dataframe tbody tr th {\n",
       "        vertical-align: top;\n",
       "    }\n",
       "\n",
       "    .dataframe thead th {\n",
       "        text-align: right;\n",
       "    }\n",
       "</style>\n",
       "<table border=\"1\" class=\"dataframe\">\n",
       "  <thead>\n",
       "    <tr style=\"text-align: right;\">\n",
       "      <th>col_0</th>\n",
       "      <th>Liczba</th>\n",
       "    </tr>\n",
       "    <tr>\n",
       "      <th>PŁEĆ</th>\n",
       "      <th></th>\n",
       "    </tr>\n",
       "  </thead>\n",
       "  <tbody>\n",
       "    <tr>\n",
       "      <th>K</th>\n",
       "      <td>0.355</td>\n",
       "    </tr>\n",
       "    <tr>\n",
       "      <th>M</th>\n",
       "      <td>0.645</td>\n",
       "    </tr>\n",
       "  </tbody>\n",
       "</table>\n",
       "</div>"
      ],
      "text/plain": [
       "col_0  Liczba\n",
       "PŁEĆ         \n",
       "K       0.355\n",
       "M       0.645"
      ]
     },
     "metadata": {},
     "output_type": "display_data"
    }
   ],
   "source": [
    "display(freq_table_plec)"
   ]
  },
  {
   "cell_type": "markdown",
   "metadata": {},
   "source": [
    "### TO DO: WNIOSKI"
   ]
  },
  {
   "cell_type": "code",
   "execution_count": 70,
   "metadata": {},
   "outputs": [
    {
     "data": {
      "text/html": [
       "<div>\n",
       "<style scoped>\n",
       "    .dataframe tbody tr th:only-of-type {\n",
       "        vertical-align: middle;\n",
       "    }\n",
       "\n",
       "    .dataframe tbody tr th {\n",
       "        vertical-align: top;\n",
       "    }\n",
       "\n",
       "    .dataframe thead th {\n",
       "        text-align: right;\n",
       "    }\n",
       "</style>\n",
       "<table border=\"1\" class=\"dataframe\">\n",
       "  <thead>\n",
       "    <tr style=\"text-align: right;\">\n",
       "      <th>col_0</th>\n",
       "      <th>Liczba</th>\n",
       "    </tr>\n",
       "    <tr>\n",
       "      <th>PYT_1</th>\n",
       "      <th></th>\n",
       "    </tr>\n",
       "  </thead>\n",
       "  <tbody>\n",
       "    <tr>\n",
       "      <th>-2</th>\n",
       "      <td>0.070</td>\n",
       "    </tr>\n",
       "    <tr>\n",
       "      <th>-1</th>\n",
       "      <td>0.085</td>\n",
       "    </tr>\n",
       "    <tr>\n",
       "      <th>0</th>\n",
       "      <td>0.200</td>\n",
       "    </tr>\n",
       "    <tr>\n",
       "      <th>1</th>\n",
       "      <td>0.500</td>\n",
       "    </tr>\n",
       "    <tr>\n",
       "      <th>2</th>\n",
       "      <td>0.145</td>\n",
       "    </tr>\n",
       "  </tbody>\n",
       "</table>\n",
       "</div>"
      ],
      "text/plain": [
       "col_0  Liczba\n",
       "PYT_1        \n",
       "-2      0.070\n",
       "-1      0.085\n",
       " 0      0.200\n",
       " 1      0.500\n",
       " 2      0.145"
      ]
     },
     "metadata": {},
     "output_type": "display_data"
    }
   ],
   "source": [
    "display(freq_table_PYT_1)"
   ]
  },
  {
   "cell_type": "markdown",
   "metadata": {},
   "source": [
    "### TO DO: WNIOSKI"
   ]
  },
  {
   "cell_type": "code",
   "execution_count": 71,
   "metadata": {},
   "outputs": [
    {
     "data": {
      "text/html": [
       "<div>\n",
       "<style scoped>\n",
       "    .dataframe tbody tr th:only-of-type {\n",
       "        vertical-align: middle;\n",
       "    }\n",
       "\n",
       "    .dataframe tbody tr th {\n",
       "        vertical-align: top;\n",
       "    }\n",
       "\n",
       "    .dataframe thead th {\n",
       "        text-align: right;\n",
       "    }\n",
       "</style>\n",
       "<table border=\"1\" class=\"dataframe\">\n",
       "  <thead>\n",
       "    <tr style=\"text-align: right;\">\n",
       "      <th>col_0</th>\n",
       "      <th>Liczba</th>\n",
       "    </tr>\n",
       "    <tr>\n",
       "      <th>PYT_2</th>\n",
       "      <th></th>\n",
       "    </tr>\n",
       "  </thead>\n",
       "  <tbody>\n",
       "    <tr>\n",
       "      <th>-2</th>\n",
       "      <td>0.37</td>\n",
       "    </tr>\n",
       "    <tr>\n",
       "      <th>-1</th>\n",
       "      <td>0.10</td>\n",
       "    </tr>\n",
       "    <tr>\n",
       "      <th>1</th>\n",
       "      <td>0.01</td>\n",
       "    </tr>\n",
       "    <tr>\n",
       "      <th>2</th>\n",
       "      <td>0.52</td>\n",
       "    </tr>\n",
       "  </tbody>\n",
       "</table>\n",
       "</div>"
      ],
      "text/plain": [
       "col_0  Liczba\n",
       "PYT_2        \n",
       "-2       0.37\n",
       "-1       0.10\n",
       " 1       0.01\n",
       " 2       0.52"
      ]
     },
     "metadata": {},
     "output_type": "display_data"
    }
   ],
   "source": [
    "display(freq_table_PYT_2)"
   ]
  },
  {
   "cell_type": "markdown",
   "metadata": {},
   "source": [
    "### TO DO: WNIOSKI"
   ]
  },
  {
   "cell_type": "code",
   "execution_count": 72,
   "metadata": {},
   "outputs": [
    {
     "data": {
      "text/html": [
       "<div>\n",
       "<style scoped>\n",
       "    .dataframe tbody tr th:only-of-type {\n",
       "        vertical-align: middle;\n",
       "    }\n",
       "\n",
       "    .dataframe tbody tr th {\n",
       "        vertical-align: top;\n",
       "    }\n",
       "\n",
       "    .dataframe thead th {\n",
       "        text-align: right;\n",
       "    }\n",
       "</style>\n",
       "<table border=\"1\" class=\"dataframe\">\n",
       "  <thead>\n",
       "    <tr style=\"text-align: right;\">\n",
       "      <th>col_0</th>\n",
       "      <th>Liczba</th>\n",
       "    </tr>\n",
       "    <tr>\n",
       "      <th>WIEK_KAT</th>\n",
       "      <th></th>\n",
       "    </tr>\n",
       "  </thead>\n",
       "  <tbody>\n",
       "    <tr>\n",
       "      <th>0.0</th>\n",
       "      <td>0.130</td>\n",
       "    </tr>\n",
       "    <tr>\n",
       "      <th>1.0</th>\n",
       "      <td>0.520</td>\n",
       "    </tr>\n",
       "    <tr>\n",
       "      <th>2.0</th>\n",
       "      <td>0.225</td>\n",
       "    </tr>\n",
       "    <tr>\n",
       "      <th>3.0</th>\n",
       "      <td>0.125</td>\n",
       "    </tr>\n",
       "  </tbody>\n",
       "</table>\n",
       "</div>"
      ],
      "text/plain": [
       "col_0     Liczba\n",
       "WIEK_KAT        \n",
       "0.0        0.130\n",
       "1.0        0.520\n",
       "2.0        0.225\n",
       "3.0        0.125"
      ]
     },
     "metadata": {},
     "output_type": "display_data"
    }
   ],
   "source": [
    "display(freq_table_wiek_kat)"
   ]
  },
  {
   "cell_type": "markdown",
   "metadata": {},
   "source": [
    "### TO DO: WNIOSKI"
   ]
  },
  {
   "cell_type": "markdown",
   "metadata": {},
   "source": [
    "### **Zadanie 4**"
   ]
  },
  {
   "cell_type": "markdown",
   "metadata": {},
   "source": [
    "#### Innym sposobem przedstawienia naszych danych są wykresy kołowe oraz słupkowe."
   ]
  },
  {
   "cell_type": "code",
   "execution_count": 73,
   "metadata": {},
   "outputs": [
    {
     "data": {
      "image/png": "[encoded data removed]",
      "text/plain": [
       "<Figure size 640x480 with 4 Axes>"
      ]
     },
     "metadata": {},
     "output_type": "display_data"
    }
   ],
   "source": [
    "plt.subplot(2,2,1)\n",
    "plt.pie(freq_table_PYT_1[\"Liczba\"], labels = [-2, -1, 0, 1, 2])\n",
    "plt.title(\"PYT1\")\n",
    "\n",
    "\n",
    "plt.subplot(2,2,2)\n",
    "plt.bar([-2, -1, 0, 1, 2], freq_table_PYT_1[\"Liczba\"])\n",
    "plt.title(\"PYT1\")\n",
    "\n",
    "\n",
    "plt.subplot(2,2,3)\n",
    "plt.pie(freq_table_PYT_2[\"Liczba\"], labels = [-2, -1, 1, 2])\n",
    "plt.title(\"PYT2\")\n",
    "\n",
    "\n",
    "plt.subplot(2,2,4)\n",
    "plt.bar([-2, -1, 1, 2], freq_table_PYT_2[\"Liczba\"])\n",
    "plt.title(\"PYT2\")\n",
    "\n",
    "\n",
    "plt.tight_layout()"
   ]
  },
  {
   "cell_type": "markdown",
   "metadata": {},
   "source": [
    "### TO DO: WNIOSKI"
   ]
  },
  {
   "cell_type": "markdown",
   "metadata": {},
   "source": [
    "### **Zadanie 5**"
   ]
  },
  {
   "cell_type": "markdown",
   "metadata": {},
   "source": [
    "#### Tworzymy również tablice wielodzielcze do przedstawienia rozkładu odpowiedzi na pytanie 1 w zależności od działu, stanowiska, płci czy wieku ankietowanych."
   ]
  },
  {
   "cell_type": "code",
   "execution_count": 74,
   "metadata": {},
   "outputs": [],
   "source": [
    "df1 = pd.crosstab(df[\"PYT_1\"], df[\"DZIAŁ\"])\n",
    "df2 = pd.crosstab(df[\"PYT_1\"], df[\"STAŻ\"])\n",
    "df3 = pd.crosstab(df[\"PYT_1\"], df[\"CZY_KIER\"])\n",
    "df4 = pd.crosstab(df[\"PYT_1\"], df[\"PŁEĆ\"])\n",
    "df5 = pd.crosstab(df[\"PYT_1\"], df[\"WIEK_KAT\"])"
   ]
  },
  {
   "cell_type": "code",
   "execution_count": 75,
   "metadata": {},
   "outputs": [
    {
     "data": {
      "text/html": [
       "<div>\n",
       "<style scoped>\n",
       "    .dataframe tbody tr th:only-of-type {\n",
       "        vertical-align: middle;\n",
       "    }\n",
       "\n",
       "    .dataframe tbody tr th {\n",
       "        vertical-align: top;\n",
       "    }\n",
       "\n",
       "    .dataframe thead th {\n",
       "        text-align: right;\n",
       "    }\n",
       "</style>\n",
       "<table border=\"1\" class=\"dataframe\">\n",
       "  <thead>\n",
       "    <tr style=\"text-align: right;\">\n",
       "      <th>DZIAŁ</th>\n",
       "      <th>HR</th>\n",
       "      <th>IT</th>\n",
       "      <th>MK</th>\n",
       "      <th>PD</th>\n",
       "    </tr>\n",
       "    <tr>\n",
       "      <th>PYT_1</th>\n",
       "      <th></th>\n",
       "      <th></th>\n",
       "      <th></th>\n",
       "      <th></th>\n",
       "    </tr>\n",
       "  </thead>\n",
       "  <tbody>\n",
       "    <tr>\n",
       "      <th>-2</th>\n",
       "      <td>2</td>\n",
       "      <td>0</td>\n",
       "      <td>3</td>\n",
       "      <td>9</td>\n",
       "    </tr>\n",
       "    <tr>\n",
       "      <th>-1</th>\n",
       "      <td>2</td>\n",
       "      <td>2</td>\n",
       "      <td>3</td>\n",
       "      <td>10</td>\n",
       "    </tr>\n",
       "    <tr>\n",
       "      <th>0</th>\n",
       "      <td>5</td>\n",
       "      <td>4</td>\n",
       "      <td>14</td>\n",
       "      <td>17</td>\n",
       "    </tr>\n",
       "    <tr>\n",
       "      <th>1</th>\n",
       "      <td>19</td>\n",
       "      <td>15</td>\n",
       "      <td>15</td>\n",
       "      <td>51</td>\n",
       "    </tr>\n",
       "    <tr>\n",
       "      <th>2</th>\n",
       "      <td>3</td>\n",
       "      <td>5</td>\n",
       "      <td>10</td>\n",
       "      <td>11</td>\n",
       "    </tr>\n",
       "  </tbody>\n",
       "</table>\n",
       "</div>"
      ],
      "text/plain": [
       "DZIAŁ  HR  IT  MK  PD\n",
       "PYT_1                \n",
       "-2      2   0   3   9\n",
       "-1      2   2   3  10\n",
       " 0      5   4  14  17\n",
       " 1     19  15  15  51\n",
       " 2      3   5  10  11"
      ]
     },
     "metadata": {},
     "output_type": "display_data"
    }
   ],
   "source": [
    "display(df1)"
   ]
  },
  {
   "cell_type": "markdown",
   "metadata": {},
   "source": [
    "### TO DO: WNIOSKI"
   ]
  },
  {
   "cell_type": "code",
   "execution_count": 76,
   "metadata": {},
   "outputs": [
    {
     "data": {
      "text/html": [
       "<div>\n",
       "<style scoped>\n",
       "    .dataframe tbody tr th:only-of-type {\n",
       "        vertical-align: middle;\n",
       "    }\n",
       "\n",
       "    .dataframe tbody tr th {\n",
       "        vertical-align: top;\n",
       "    }\n",
       "\n",
       "    .dataframe thead th {\n",
       "        text-align: right;\n",
       "    }\n",
       "</style>\n",
       "<table border=\"1\" class=\"dataframe\">\n",
       "  <thead>\n",
       "    <tr style=\"text-align: right;\">\n",
       "      <th>STAŻ</th>\n",
       "      <th>1</th>\n",
       "      <th>2</th>\n",
       "      <th>3</th>\n",
       "    </tr>\n",
       "    <tr>\n",
       "      <th>PYT_1</th>\n",
       "      <th></th>\n",
       "      <th></th>\n",
       "      <th></th>\n",
       "    </tr>\n",
       "  </thead>\n",
       "  <tbody>\n",
       "    <tr>\n",
       "      <th>-2</th>\n",
       "      <td>5</td>\n",
       "      <td>5</td>\n",
       "      <td>4</td>\n",
       "    </tr>\n",
       "    <tr>\n",
       "      <th>-1</th>\n",
       "      <td>6</td>\n",
       "      <td>10</td>\n",
       "      <td>1</td>\n",
       "    </tr>\n",
       "    <tr>\n",
       "      <th>0</th>\n",
       "      <td>8</td>\n",
       "      <td>26</td>\n",
       "      <td>6</td>\n",
       "    </tr>\n",
       "    <tr>\n",
       "      <th>1</th>\n",
       "      <td>19</td>\n",
       "      <td>75</td>\n",
       "      <td>6</td>\n",
       "    </tr>\n",
       "    <tr>\n",
       "      <th>2</th>\n",
       "      <td>3</td>\n",
       "      <td>24</td>\n",
       "      <td>2</td>\n",
       "    </tr>\n",
       "  </tbody>\n",
       "</table>\n",
       "</div>"
      ],
      "text/plain": [
       "STAŻ    1   2  3\n",
       "PYT_1           \n",
       "-2      5   5  4\n",
       "-1      6  10  1\n",
       " 0      8  26  6\n",
       " 1     19  75  6\n",
       " 2      3  24  2"
      ]
     },
     "metadata": {},
     "output_type": "display_data"
    }
   ],
   "source": [
    "display(df2)"
   ]
  },
  {
   "cell_type": "markdown",
   "metadata": {},
   "source": [
    "### TO DO: WNIOSKI"
   ]
  },
  {
   "cell_type": "code",
   "execution_count": 77,
   "metadata": {},
   "outputs": [
    {
     "data": {
      "text/html": [
       "<div>\n",
       "<style scoped>\n",
       "    .dataframe tbody tr th:only-of-type {\n",
       "        vertical-align: middle;\n",
       "    }\n",
       "\n",
       "    .dataframe tbody tr th {\n",
       "        vertical-align: top;\n",
       "    }\n",
       "\n",
       "    .dataframe thead th {\n",
       "        text-align: right;\n",
       "    }\n",
       "</style>\n",
       "<table border=\"1\" class=\"dataframe\">\n",
       "  <thead>\n",
       "    <tr style=\"text-align: right;\">\n",
       "      <th>CZY_KIER</th>\n",
       "      <th>Nie</th>\n",
       "      <th>Tak</th>\n",
       "    </tr>\n",
       "    <tr>\n",
       "      <th>PYT_1</th>\n",
       "      <th></th>\n",
       "      <th></th>\n",
       "    </tr>\n",
       "  </thead>\n",
       "  <tbody>\n",
       "    <tr>\n",
       "      <th>-2</th>\n",
       "      <td>10</td>\n",
       "      <td>4</td>\n",
       "    </tr>\n",
       "    <tr>\n",
       "      <th>-1</th>\n",
       "      <td>14</td>\n",
       "      <td>3</td>\n",
       "    </tr>\n",
       "    <tr>\n",
       "      <th>0</th>\n",
       "      <td>34</td>\n",
       "      <td>6</td>\n",
       "    </tr>\n",
       "    <tr>\n",
       "      <th>1</th>\n",
       "      <td>88</td>\n",
       "      <td>12</td>\n",
       "    </tr>\n",
       "    <tr>\n",
       "      <th>2</th>\n",
       "      <td>27</td>\n",
       "      <td>2</td>\n",
       "    </tr>\n",
       "  </tbody>\n",
       "</table>\n",
       "</div>"
      ],
      "text/plain": [
       "CZY_KIER  Nie  Tak\n",
       "PYT_1             \n",
       "-2         10    4\n",
       "-1         14    3\n",
       " 0         34    6\n",
       " 1         88   12\n",
       " 2         27    2"
      ]
     },
     "metadata": {},
     "output_type": "display_data"
    }
   ],
   "source": [
    "display(df3)"
   ]
  },
  {
   "cell_type": "markdown",
   "metadata": {},
   "source": [
    "### TO DO: WNIOSKI"
   ]
  },
  {
   "cell_type": "code",
   "execution_count": 78,
   "metadata": {},
   "outputs": [
    {
     "data": {
      "text/html": [
       "<div>\n",
       "<style scoped>\n",
       "    .dataframe tbody tr th:only-of-type {\n",
       "        vertical-align: middle;\n",
       "    }\n",
       "\n",
       "    .dataframe tbody tr th {\n",
       "        vertical-align: top;\n",
       "    }\n",
       "\n",
       "    .dataframe thead th {\n",
       "        text-align: right;\n",
       "    }\n",
       "</style>\n",
       "<table border=\"1\" class=\"dataframe\">\n",
       "  <thead>\n",
       "    <tr style=\"text-align: right;\">\n",
       "      <th>PŁEĆ</th>\n",
       "      <th>K</th>\n",
       "      <th>M</th>\n",
       "    </tr>\n",
       "    <tr>\n",
       "      <th>PYT_1</th>\n",
       "      <th></th>\n",
       "      <th></th>\n",
       "    </tr>\n",
       "  </thead>\n",
       "  <tbody>\n",
       "    <tr>\n",
       "      <th>-2</th>\n",
       "      <td>3</td>\n",
       "      <td>11</td>\n",
       "    </tr>\n",
       "    <tr>\n",
       "      <th>-1</th>\n",
       "      <td>7</td>\n",
       "      <td>10</td>\n",
       "    </tr>\n",
       "    <tr>\n",
       "      <th>0</th>\n",
       "      <td>14</td>\n",
       "      <td>26</td>\n",
       "    </tr>\n",
       "    <tr>\n",
       "      <th>1</th>\n",
       "      <td>36</td>\n",
       "      <td>64</td>\n",
       "    </tr>\n",
       "    <tr>\n",
       "      <th>2</th>\n",
       "      <td>11</td>\n",
       "      <td>18</td>\n",
       "    </tr>\n",
       "  </tbody>\n",
       "</table>\n",
       "</div>"
      ],
      "text/plain": [
       "PŁEĆ    K   M\n",
       "PYT_1        \n",
       "-2      3  11\n",
       "-1      7  10\n",
       " 0     14  26\n",
       " 1     36  64\n",
       " 2     11  18"
      ]
     },
     "metadata": {},
     "output_type": "display_data"
    }
   ],
   "source": [
    "display(df4)"
   ]
  },
  {
   "cell_type": "markdown",
   "metadata": {},
   "source": [
    "### TO DO: WNIOSKI"
   ]
  },
  {
   "cell_type": "code",
   "execution_count": 79,
   "metadata": {},
   "outputs": [
    {
     "data": {
      "text/html": [
       "<div>\n",
       "<style scoped>\n",
       "    .dataframe tbody tr th:only-of-type {\n",
       "        vertical-align: middle;\n",
       "    }\n",
       "\n",
       "    .dataframe tbody tr th {\n",
       "        vertical-align: top;\n",
       "    }\n",
       "\n",
       "    .dataframe thead th {\n",
       "        text-align: right;\n",
       "    }\n",
       "</style>\n",
       "<table border=\"1\" class=\"dataframe\">\n",
       "  <thead>\n",
       "    <tr style=\"text-align: right;\">\n",
       "      <th>WIEK_KAT</th>\n",
       "      <th>0.0</th>\n",
       "      <th>1.0</th>\n",
       "      <th>2.0</th>\n",
       "      <th>3.0</th>\n",
       "    </tr>\n",
       "    <tr>\n",
       "      <th>PYT_1</th>\n",
       "      <th></th>\n",
       "      <th></th>\n",
       "      <th></th>\n",
       "      <th></th>\n",
       "    </tr>\n",
       "  </thead>\n",
       "  <tbody>\n",
       "    <tr>\n",
       "      <th>-2</th>\n",
       "      <td>1</td>\n",
       "      <td>11</td>\n",
       "      <td>2</td>\n",
       "      <td>0</td>\n",
       "    </tr>\n",
       "    <tr>\n",
       "      <th>-1</th>\n",
       "      <td>6</td>\n",
       "      <td>7</td>\n",
       "      <td>1</td>\n",
       "      <td>3</td>\n",
       "    </tr>\n",
       "    <tr>\n",
       "      <th>0</th>\n",
       "      <td>3</td>\n",
       "      <td>24</td>\n",
       "      <td>5</td>\n",
       "      <td>8</td>\n",
       "    </tr>\n",
       "    <tr>\n",
       "      <th>1</th>\n",
       "      <td>13</td>\n",
       "      <td>50</td>\n",
       "      <td>25</td>\n",
       "      <td>12</td>\n",
       "    </tr>\n",
       "    <tr>\n",
       "      <th>2</th>\n",
       "      <td>3</td>\n",
       "      <td>12</td>\n",
       "      <td>12</td>\n",
       "      <td>2</td>\n",
       "    </tr>\n",
       "  </tbody>\n",
       "</table>\n",
       "</div>"
      ],
      "text/plain": [
       "WIEK_KAT  0.0  1.0  2.0  3.0\n",
       "PYT_1                       \n",
       "-2          1   11    2    0\n",
       "-1          6    7    1    3\n",
       " 0          3   24    5    8\n",
       " 1         13   50   25   12\n",
       " 2          3   12   12    2"
      ]
     },
     "metadata": {},
     "output_type": "display_data"
    }
   ],
   "source": [
    "display(df5)"
   ]
  },
  {
   "cell_type": "markdown",
   "metadata": {},
   "source": [
    "### TO DO: WNIOSKI"
   ]
  },
  {
   "cell_type": "markdown",
   "metadata": {},
   "source": [
    "### **Zadanie 6**"
   ]
  },
  {
   "cell_type": "code",
   "execution_count": 80,
   "metadata": {},
   "outputs": [
    {
     "data": {
      "text/html": [
       "<div>\n",
       "<style scoped>\n",
       "    .dataframe tbody tr th:only-of-type {\n",
       "        vertical-align: middle;\n",
       "    }\n",
       "\n",
       "    .dataframe tbody tr th {\n",
       "        vertical-align: top;\n",
       "    }\n",
       "\n",
       "    .dataframe thead th {\n",
       "        text-align: right;\n",
       "    }\n",
       "</style>\n",
       "<table border=\"1\" class=\"dataframe\">\n",
       "  <thead>\n",
       "    <tr style=\"text-align: right;\">\n",
       "      <th>PYT_3</th>\n",
       "      <th>-2</th>\n",
       "      <th>-1</th>\n",
       "      <th>1</th>\n",
       "      <th>2</th>\n",
       "    </tr>\n",
       "    <tr>\n",
       "      <th>PYT_2</th>\n",
       "      <th></th>\n",
       "      <th></th>\n",
       "      <th></th>\n",
       "      <th></th>\n",
       "    </tr>\n",
       "  </thead>\n",
       "  <tbody>\n",
       "    <tr>\n",
       "      <th>-2</th>\n",
       "      <td>49</td>\n",
       "      <td>16</td>\n",
       "      <td>5</td>\n",
       "      <td>4</td>\n",
       "    </tr>\n",
       "    <tr>\n",
       "      <th>-1</th>\n",
       "      <td>3</td>\n",
       "      <td>6</td>\n",
       "      <td>10</td>\n",
       "      <td>1</td>\n",
       "    </tr>\n",
       "    <tr>\n",
       "      <th>1</th>\n",
       "      <td>0</td>\n",
       "      <td>0</td>\n",
       "      <td>2</td>\n",
       "      <td>0</td>\n",
       "    </tr>\n",
       "    <tr>\n",
       "      <th>2</th>\n",
       "      <td>0</td>\n",
       "      <td>8</td>\n",
       "      <td>15</td>\n",
       "      <td>81</td>\n",
       "    </tr>\n",
       "  </tbody>\n",
       "</table>\n",
       "</div>"
      ],
      "text/plain": [
       "PYT_3  -2  -1   1   2\n",
       "PYT_2                \n",
       "-2     49  16   5   4\n",
       "-1      3   6  10   1\n",
       " 1      0   0   2   0\n",
       " 2      0   8  15  81"
      ]
     },
     "metadata": {},
     "output_type": "display_data"
    }
   ],
   "source": [
    "df6 = pd.crosstab(df[\"PYT_2\"], df[\"PYT_3\"])\n",
    "\n",
    "display(df6)"
   ]
  },
  {
   "cell_type": "markdown",
   "metadata": {},
   "source": [
    "### TO DO: WNIOSKI"
   ]
  },
  {
   "cell_type": "markdown",
   "metadata": {},
   "source": [
    "### **Zadanie 7**"
   ]
  },
  {
   "cell_type": "markdown",
   "metadata": {},
   "source": [
    "#### Na podstawie odpowiedzi na pytanie 2, tworzymy kolumnę \"CZY_ZADOW\", która informuje czy odpowiedź była pozytywna, czy negatywna."
   ]
  },
  {
   "cell_type": "code",
   "execution_count": 81,
   "metadata": {},
   "outputs": [
    {
     "data": {
      "text/html": [
       "<div>\n",
       "<style scoped>\n",
       "    .dataframe tbody tr th:only-of-type {\n",
       "        vertical-align: middle;\n",
       "    }\n",
       "\n",
       "    .dataframe tbody tr th {\n",
       "        vertical-align: top;\n",
       "    }\n",
       "\n",
       "    .dataframe thead th {\n",
       "        text-align: right;\n",
       "    }\n",
       "</style>\n",
       "<table border=\"1\" class=\"dataframe\">\n",
       "  <thead>\n",
       "    <tr style=\"text-align: right;\">\n",
       "      <th></th>\n",
       "      <th>DZIAŁ</th>\n",
       "      <th>STAŻ</th>\n",
       "      <th>CZY_KIER</th>\n",
       "      <th>PYT_1</th>\n",
       "      <th>PYT_2</th>\n",
       "      <th>PYT_3</th>\n",
       "      <th>PŁEĆ</th>\n",
       "      <th>WIEK</th>\n",
       "      <th>WIEK_KAT</th>\n",
       "      <th>CZY_ZADOW</th>\n",
       "    </tr>\n",
       "  </thead>\n",
       "  <tbody>\n",
       "    <tr>\n",
       "      <th>195</th>\n",
       "      <td>HR</td>\n",
       "      <td>2</td>\n",
       "      <td>Nie</td>\n",
       "      <td>1</td>\n",
       "      <td>2</td>\n",
       "      <td>2</td>\n",
       "      <td>M</td>\n",
       "      <td>42</td>\n",
       "      <td>1.0</td>\n",
       "      <td>1.0</td>\n",
       "    </tr>\n",
       "    <tr>\n",
       "      <th>196</th>\n",
       "      <td>HR</td>\n",
       "      <td>2</td>\n",
       "      <td>Nie</td>\n",
       "      <td>1</td>\n",
       "      <td>-1</td>\n",
       "      <td>-1</td>\n",
       "      <td>K</td>\n",
       "      <td>35</td>\n",
       "      <td>0.0</td>\n",
       "      <td>-1.0</td>\n",
       "    </tr>\n",
       "    <tr>\n",
       "      <th>197</th>\n",
       "      <td>HR</td>\n",
       "      <td>2</td>\n",
       "      <td>Nie</td>\n",
       "      <td>-1</td>\n",
       "      <td>-2</td>\n",
       "      <td>-2</td>\n",
       "      <td>K</td>\n",
       "      <td>39</td>\n",
       "      <td>1.0</td>\n",
       "      <td>-1.0</td>\n",
       "    </tr>\n",
       "    <tr>\n",
       "      <th>198</th>\n",
       "      <td>HR</td>\n",
       "      <td>2</td>\n",
       "      <td>Nie</td>\n",
       "      <td>1</td>\n",
       "      <td>2</td>\n",
       "      <td>1</td>\n",
       "      <td>K</td>\n",
       "      <td>48</td>\n",
       "      <td>2.0</td>\n",
       "      <td>1.0</td>\n",
       "    </tr>\n",
       "    <tr>\n",
       "      <th>199</th>\n",
       "      <td>HR</td>\n",
       "      <td>2</td>\n",
       "      <td>Nie</td>\n",
       "      <td>1</td>\n",
       "      <td>2</td>\n",
       "      <td>2</td>\n",
       "      <td>K</td>\n",
       "      <td>42</td>\n",
       "      <td>1.0</td>\n",
       "      <td>1.0</td>\n",
       "    </tr>\n",
       "  </tbody>\n",
       "</table>\n",
       "</div>"
      ],
      "text/plain": [
       "    DZIAŁ  STAŻ CZY_KIER  PYT_1  PYT_2  PYT_3 PŁEĆ  WIEK  WIEK_KAT  CZY_ZADOW\n",
       "195    HR     2      Nie      1      2      2    M    42       1.0        1.0\n",
       "196    HR     2      Nie      1     -1     -1    K    35       0.0       -1.0\n",
       "197    HR     2      Nie     -1     -2     -2    K    39       1.0       -1.0\n",
       "198    HR     2      Nie      1      2      1    K    48       2.0        1.0\n",
       "199    HR     2      Nie      1      2      2    K    42       1.0        1.0"
      ]
     },
     "execution_count": 81,
     "metadata": {},
     "output_type": "execute_result"
    }
   ],
   "source": [
    "CZY_ZADOW = np.zeros(len(df[\"PYT_2\"]))\n",
    "for i in range(len(df[\"PYT_2\"])):\n",
    "    CZY_ZADOW[i] = np.sign(df[\"PYT_2\"][i]) #pozytywna odpowiedź > 0, negatywna < 0\n",
    "df[\"CZY_ZADOW\"] = CZY_ZADOW\n",
    "df.tail()"
   ]
  },
  {
   "cell_type": "markdown",
   "metadata": {},
   "source": [
    "### **Zadanie 8**"
   ]
  },
  {
   "cell_type": "markdown",
   "metadata": {},
   "source": [
    "#### Dla wybranych par zmiennych tworzymy wykresy mozaikowe."
   ]
  },
  {
   "cell_type": "code",
   "execution_count": 82,
   "metadata": {},
   "outputs": [
    {
     "data": {
      "image/png": "[encoded data removed]",
      "text/plain": [
       "<Figure size 640x480 with 3 Axes>"
      ]
     },
     "metadata": {},
     "output_type": "display_data"
    },
    {
     "data": {
      "image/png": "[encoded data removed]",
      "text/plain": [
       "<Figure size 640x480 with 3 Axes>"
      ]
     },
     "metadata": {},
     "output_type": "display_data"
    },
    {
     "data": {
      "image/png": "[encoded data removed]",
      "text/plain": [
       "<Figure size 640x480 with 3 Axes>"
      ]
     },
     "metadata": {},
     "output_type": "display_data"
    },
    {
     "data": {
      "image/png": "[encoded data removed]",
      "text/plain": [
       "<Figure size 640x480 with 3 Axes>"
      ]
     },
     "metadata": {},
     "output_type": "display_data"
    },
    {
     "data": {
      "image/png": "[encoded data removed]",
      "text/plain": [
       "<Figure size 640x480 with 3 Axes>"
      ]
     },
     "metadata": {},
     "output_type": "display_data"
    }
   ],
   "source": [
    "params = [\"DZIAŁ\", \"STAŻ\", 'CZY_KIER', 'PŁEĆ', 'WIEK_KAT']\n",
    "for i in range(len(params)):\n",
    "    fig = mosaic(df, ['CZY_ZADOW', params[i]], axes_label=True)[0]\n",
    "    plt.suptitle(f\"Czy pracownik jest zadowolony? (w zależności od parametru {params[i]})\")\n",
    "    plt.title(\"(-1.0-nie), (1,0 - tak)\", size=9)\n",
    "    plt.show()"
   ]
  },
  {
   "cell_type": "markdown",
   "metadata": {},
   "source": [
    "### TO DO: Wnioski"
   ]
  },
  {
   "cell_type": "markdown",
   "metadata": {},
   "source": [
    "## **Część II**"
   ]
  },
  {
   "cell_type": "markdown",
   "metadata": {},
   "source": [
    "### **Zadanie 2**"
   ]
  },
  {
   "cell_type": "code",
   "execution_count": 83,
   "metadata": {},
   "outputs": [
    {
     "data": {
      "text/html": [
       "\n",
       "<style>\n",
       "  #altair-viz-e26aceba4a1a4c86ab9c57780e12ce0f.vega-embed {\n",
       "    width: 100%;\n",
       "    display: flex;\n",
       "  }\n",
       "\n",
       "  #altair-viz-e26aceba4a1a4c86ab9c57780e12ce0f.vega-embed details,\n",
       "  #altair-viz-e26aceba4a1a4c86ab9c57780e12ce0f.vega-embed details summary {\n",
       "    position: relative;\n",
       "  }\n",
       "</style>\n",
       "<div id=\"altair-viz-e26aceba4a1a4c86ab9c57780e12ce0f\"></div>\n",
       "<script type=\"text/javascript\">\n",
       "  var VEGA_DEBUG = (typeof VEGA_DEBUG == \"undefined\") ? {} : VEGA_DEBUG;\n",
       "  (function(spec, embedOpt){\n",
       "    let outputDiv = document.currentScript.previousElementSibling;\n",
       "    if (outputDiv.id !== \"altair-viz-e26aceba4a1a4c86ab9c57780e12ce0f\") {\n",
       "      outputDiv = document.getElementById(\"altair-viz-e26aceba4a1a4c86ab9c57780e12ce0f\");\n",
       "    }\n",
       "\n",
       "    const paths = {\n",
       "      \"vega\": \"https://cdn.jsdelivr.net/npm/vega@5?noext\",\n",
       "      \"vega-lib\": \"https://cdn.jsdelivr.net/npm/vega-lib?noext\",\n",
       "      \"vega-lite\": \"https://cdn.jsdelivr.net/npm/vega-lite@5.20.1?noext\",\n",
       "      \"vega-embed\": \"https://cdn.jsdelivr.net/npm/vega-embed@6?noext\",\n",
       "    };\n",
       "\n",
       "    function maybeLoadScript(lib, version) {\n",
       "      var key = `${lib.replace(\"-\", \"\")}_version`;\n",
       "      return (VEGA_DEBUG[key] == version) ?\n",
       "        Promise.resolve(paths[lib]) :\n",
       "        new Promise(function(resolve, reject) {\n",
       "          var s = document.createElement('script');\n",
       "          document.getElementsByTagName(\"head\")[0].appendChild(s);\n",
       "          s.async = true;\n",
       "          s.onload = () => {\n",
       "            VEGA_DEBUG[key] = version;\n",
       "            return resolve(paths[lib]);\n",
       "          };\n",
       "          s.onerror = () => reject(`Error loading script: ${paths[lib]}`);\n",
       "          s.src = paths[lib];\n",
       "        });\n",
       "    }\n",
       "\n",
       "    function showError(err) {\n",
       "      outputDiv.innerHTML = `<div class=\"error\" style=\"color:red;\">${err}</div>`;\n",
       "      throw err;\n",
       "    }\n",
       "\n",
       "    function displayChart(vegaEmbed) {\n",
       "      vegaEmbed(outputDiv, spec, embedOpt)\n",
       "        .catch(err => showError(`Javascript Error: ${err.message}<br>This usually means there's a typo in your chart specification. See the javascript console for the full traceback.`));\n",
       "    }\n",
       "\n",
       "    if(typeof define === \"function\" && define.amd) {\n",
       "      requirejs.config({paths});\n",
       "      let deps = [\"vega-embed\"];\n",
       "      require(deps, displayChart, err => showError(`Error loading script: ${err.message}`));\n",
       "    } else {\n",
       "      maybeLoadScript(\"vega\", \"5\")\n",
       "        .then(() => maybeLoadScript(\"vega-lite\", \"5.20.1\"))\n",
       "        .then(() => maybeLoadScript(\"vega-embed\", \"6\"))\n",
       "        .catch(showError)\n",
       "        .then(() => displayChart(vegaEmbed));\n",
       "    }\n",
       "  })({\"config\": {\"view\": {\"continuousWidth\": 300, \"continuousHeight\": 300}}, \"hconcat\": [{\"mark\": {\"type\": \"bar\"}, \"encoding\": {\"tooltip\": [{\"aggregate\": \"count\", \"type\": \"quantitative\"}], \"x\": {\"field\": \"PYT_1_label\", \"sort\": [\"Zdecydowanie si\\u0119 nie zgadzam\", \"Nie zgadzam si\\u0119\", \"Neutralnie\", \"Zgadzam si\\u0119\", \"Zdecydowanie si\\u0119 zgadzam\"], \"title\": \"Ocena\", \"type\": \"ordinal\"}, \"y\": {\"aggregate\": \"count\", \"title\": \"Liczba odpowiedzi\", \"type\": \"quantitative\"}}, \"title\": \"Rozk\\u0142ad odpowiedzi w ca\\u0142ej grupie\"}, {\"mark\": {\"type\": \"bar\"}, \"encoding\": {\"color\": {\"field\": \"CZY_KIER\", \"type\": \"nominal\"}, \"column\": {\"field\": \"CZY_KIER\", \"title\": \"Czy kierownik?\", \"type\": \"nominal\"}, \"tooltip\": [{\"aggregate\": \"count\", \"type\": \"quantitative\"}], \"x\": {\"field\": \"PYT_1_label\", \"sort\": [\"Zdecydowanie si\\u0119 nie zgadzam\", \"Nie zgadzam si\\u0119\", \"Neutralnie\", \"Zgadzam si\\u0119\", \"Zdecydowanie si\\u0119 zgadzam\"], \"title\": \"Ocena\", \"type\": \"ordinal\"}, \"y\": {\"aggregate\": \"count\", \"title\": \"Liczba odpowiedzi\", \"type\": \"quantitative\"}}, \"title\": \"Rozk\\u0142ad odpowiedzi w podgrupach\"}], \"data\": {\"name\": \"data-0cd4418646f43e3300bd231f56f275b4\"}, \"$schema\": \"https://vega.github.io/schema/vega-lite/v5.20.1.json\", \"datasets\": {\"data-0cd4418646f43e3300bd231f56f275b4\": [{\"PYT_1\": 1, \"CZY_KIER\": \"Nie\", \"PYT_1_label\": \"Zgadzam si\\u0119\"}, {\"PYT_1\": 0, \"CZY_KIER\": \"Nie\", \"PYT_1_label\": \"Neutralnie\"}, {\"PYT_1\": 1, \"CZY_KIER\": \"Nie\", \"PYT_1_label\": \"Zgadzam si\\u0119\"}, {\"PYT_1\": -1, \"CZY_KIER\": \"Nie\", \"PYT_1_label\": \"Nie zgadzam si\\u0119\"}, {\"PYT_1\": 1, \"CZY_KIER\": \"Tak\", \"PYT_1_label\": \"Zgadzam si\\u0119\"}, {\"PYT_1\": 0, \"CZY_KIER\": \"Tak\", \"PYT_1_label\": \"Neutralnie\"}, {\"PYT_1\": 2, \"CZY_KIER\": \"Tak\", \"PYT_1_label\": \"Zdecydowanie si\\u0119 zgadzam\"}, {\"PYT_1\": 1, \"CZY_KIER\": \"Tak\", \"PYT_1_label\": \"Zgadzam si\\u0119\"}, {\"PYT_1\": 1, \"CZY_KIER\": \"Nie\", \"PYT_1_label\": \"Zgadzam si\\u0119\"}, {\"PYT_1\": 2, \"CZY_KIER\": \"Nie\", \"PYT_1_label\": \"Zdecydowanie si\\u0119 zgadzam\"}, {\"PYT_1\": 2, \"CZY_KIER\": \"Nie\", \"PYT_1_label\": \"Zdecydowanie si\\u0119 zgadzam\"}, {\"PYT_1\": 2, \"CZY_KIER\": \"Nie\", \"PYT_1_label\": \"Zdecydowanie si\\u0119 zgadzam\"}, {\"PYT_1\": 1, \"CZY_KIER\": \"Tak\", \"PYT_1_label\": \"Zgadzam si\\u0119\"}, {\"PYT_1\": 1, \"CZY_KIER\": \"Nie\", \"PYT_1_label\": \"Zgadzam si\\u0119\"}, {\"PYT_1\": 0, \"CZY_KIER\": \"Nie\", \"PYT_1_label\": \"Neutralnie\"}, {\"PYT_1\": 1, \"CZY_KIER\": \"Nie\", \"PYT_1_label\": \"Zgadzam si\\u0119\"}, {\"PYT_1\": 0, \"CZY_KIER\": \"Nie\", \"PYT_1_label\": \"Neutralnie\"}, {\"PYT_1\": 1, \"CZY_KIER\": \"Nie\", \"PYT_1_label\": \"Zgadzam si\\u0119\"}, {\"PYT_1\": 1, \"CZY_KIER\": \"Nie\", \"PYT_1_label\": \"Zgadzam si\\u0119\"}, {\"PYT_1\": 1, \"CZY_KIER\": \"Nie\", \"PYT_1_label\": \"Zgadzam si\\u0119\"}, {\"PYT_1\": 1, \"CZY_KIER\": \"Nie\", \"PYT_1_label\": \"Zgadzam si\\u0119\"}, {\"PYT_1\": 1, \"CZY_KIER\": \"Nie\", \"PYT_1_label\": \"Zgadzam si\\u0119\"}, {\"PYT_1\": -1, \"CZY_KIER\": \"Nie\", \"PYT_1_label\": \"Nie zgadzam si\\u0119\"}, {\"PYT_1\": 2, \"CZY_KIER\": \"Nie\", \"PYT_1_label\": \"Zdecydowanie si\\u0119 zgadzam\"}, {\"PYT_1\": 1, \"CZY_KIER\": \"Nie\", \"PYT_1_label\": \"Zgadzam si\\u0119\"}, {\"PYT_1\": 1, \"CZY_KIER\": \"Nie\", \"PYT_1_label\": \"Zgadzam si\\u0119\"}, {\"PYT_1\": 1, \"CZY_KIER\": \"Tak\", \"PYT_1_label\": \"Zgadzam si\\u0119\"}, {\"PYT_1\": 1, \"CZY_KIER\": \"Nie\", \"PYT_1_label\": \"Zgadzam si\\u0119\"}, {\"PYT_1\": -1, \"CZY_KIER\": \"Nie\", \"PYT_1_label\": \"Nie zgadzam si\\u0119\"}, {\"PYT_1\": 0, \"CZY_KIER\": \"Nie\", \"PYT_1_label\": \"Neutralnie\"}, {\"PYT_1\": 1, \"CZY_KIER\": \"Nie\", \"PYT_1_label\": \"Zgadzam si\\u0119\"}, {\"PYT_1\": 0, \"CZY_KIER\": \"Nie\", \"PYT_1_label\": \"Neutralnie\"}, {\"PYT_1\": 1, \"CZY_KIER\": \"Nie\", \"PYT_1_label\": \"Zgadzam si\\u0119\"}, {\"PYT_1\": -1, \"CZY_KIER\": \"Nie\", \"PYT_1_label\": \"Nie zgadzam si\\u0119\"}, {\"PYT_1\": -1, \"CZY_KIER\": \"Nie\", \"PYT_1_label\": \"Nie zgadzam si\\u0119\"}, {\"PYT_1\": -2, \"CZY_KIER\": \"Nie\", \"PYT_1_label\": \"Zdecydowanie si\\u0119 nie zgadzam\"}, {\"PYT_1\": 2, \"CZY_KIER\": \"Nie\", \"PYT_1_label\": \"Zdecydowanie si\\u0119 zgadzam\"}, {\"PYT_1\": 0, \"CZY_KIER\": \"Nie\", \"PYT_1_label\": \"Neutralnie\"}, {\"PYT_1\": 1, \"CZY_KIER\": \"Nie\", \"PYT_1_label\": \"Zgadzam si\\u0119\"}, {\"PYT_1\": 0, \"CZY_KIER\": \"Nie\", \"PYT_1_label\": \"Neutralnie\"}, {\"PYT_1\": 1, \"CZY_KIER\": \"Nie\", \"PYT_1_label\": \"Zgadzam si\\u0119\"}, {\"PYT_1\": 1, \"CZY_KIER\": \"Nie\", \"PYT_1_label\": \"Zgadzam si\\u0119\"}, {\"PYT_1\": 1, \"CZY_KIER\": \"Nie\", \"PYT_1_label\": \"Zgadzam si\\u0119\"}, {\"PYT_1\": -2, \"CZY_KIER\": \"Tak\", \"PYT_1_label\": \"Zdecydowanie si\\u0119 nie zgadzam\"}, {\"PYT_1\": 1, \"CZY_KIER\": \"Nie\", \"PYT_1_label\": \"Zgadzam si\\u0119\"}, {\"PYT_1\": -2, \"CZY_KIER\": \"Nie\", \"PYT_1_label\": \"Zdecydowanie si\\u0119 nie zgadzam\"}, {\"PYT_1\": 1, \"CZY_KIER\": \"Nie\", \"PYT_1_label\": \"Zgadzam si\\u0119\"}, {\"PYT_1\": 0, \"CZY_KIER\": \"Nie\", \"PYT_1_label\": \"Neutralnie\"}, {\"PYT_1\": -2, \"CZY_KIER\": \"Tak\", \"PYT_1_label\": \"Zdecydowanie si\\u0119 nie zgadzam\"}, {\"PYT_1\": 1, \"CZY_KIER\": \"Nie\", \"PYT_1_label\": \"Zgadzam si\\u0119\"}, {\"PYT_1\": -2, \"CZY_KIER\": \"Nie\", \"PYT_1_label\": \"Zdecydowanie si\\u0119 nie zgadzam\"}, {\"PYT_1\": 2, \"CZY_KIER\": \"Nie\", \"PYT_1_label\": \"Zdecydowanie si\\u0119 zgadzam\"}, {\"PYT_1\": 1, \"CZY_KIER\": \"Nie\", \"PYT_1_label\": \"Zgadzam si\\u0119\"}, {\"PYT_1\": 0, \"CZY_KIER\": \"Nie\", \"PYT_1_label\": \"Neutralnie\"}, {\"PYT_1\": 0, \"CZY_KIER\": \"Nie\", \"PYT_1_label\": \"Neutralnie\"}, {\"PYT_1\": 2, \"CZY_KIER\": \"Nie\", \"PYT_1_label\": \"Zdecydowanie si\\u0119 zgadzam\"}, {\"PYT_1\": 1, \"CZY_KIER\": \"Nie\", \"PYT_1_label\": \"Zgadzam si\\u0119\"}, {\"PYT_1\": 1, \"CZY_KIER\": \"Nie\", \"PYT_1_label\": \"Zgadzam si\\u0119\"}, {\"PYT_1\": 1, \"CZY_KIER\": \"Nie\", \"PYT_1_label\": \"Zgadzam si\\u0119\"}, {\"PYT_1\": 1, \"CZY_KIER\": \"Nie\", \"PYT_1_label\": \"Zgadzam si\\u0119\"}, {\"PYT_1\": 1, \"CZY_KIER\": \"Nie\", \"PYT_1_label\": \"Zgadzam si\\u0119\"}, {\"PYT_1\": 2, \"CZY_KIER\": \"Nie\", \"PYT_1_label\": \"Zdecydowanie si\\u0119 zgadzam\"}, {\"PYT_1\": 2, \"CZY_KIER\": \"Nie\", \"PYT_1_label\": \"Zdecydowanie si\\u0119 zgadzam\"}, {\"PYT_1\": 2, \"CZY_KIER\": \"Nie\", \"PYT_1_label\": \"Zdecydowanie si\\u0119 zgadzam\"}, {\"PYT_1\": 0, \"CZY_KIER\": \"Tak\", \"PYT_1_label\": \"Neutralnie\"}, {\"PYT_1\": 1, \"CZY_KIER\": \"Nie\", \"PYT_1_label\": \"Zgadzam si\\u0119\"}, {\"PYT_1\": 1, \"CZY_KIER\": \"Nie\", \"PYT_1_label\": \"Zgadzam si\\u0119\"}, {\"PYT_1\": 1, \"CZY_KIER\": \"Nie\", \"PYT_1_label\": \"Zgadzam si\\u0119\"}, {\"PYT_1\": -1, \"CZY_KIER\": \"Nie\", \"PYT_1_label\": \"Nie zgadzam si\\u0119\"}, {\"PYT_1\": -1, \"CZY_KIER\": \"Tak\", \"PYT_1_label\": \"Nie zgadzam si\\u0119\"}, {\"PYT_1\": 1, \"CZY_KIER\": \"Nie\", \"PYT_1_label\": \"Zgadzam si\\u0119\"}, {\"PYT_1\": 2, \"CZY_KIER\": \"Nie\", \"PYT_1_label\": \"Zdecydowanie si\\u0119 zgadzam\"}, {\"PYT_1\": 1, \"CZY_KIER\": \"Nie\", \"PYT_1_label\": \"Zgadzam si\\u0119\"}, {\"PYT_1\": 2, \"CZY_KIER\": \"Nie\", \"PYT_1_label\": \"Zdecydowanie si\\u0119 zgadzam\"}, {\"PYT_1\": 1, \"CZY_KIER\": \"Nie\", \"PYT_1_label\": \"Zgadzam si\\u0119\"}, {\"PYT_1\": 1, \"CZY_KIER\": \"Nie\", \"PYT_1_label\": \"Zgadzam si\\u0119\"}, {\"PYT_1\": 1, \"CZY_KIER\": \"Nie\", \"PYT_1_label\": \"Zgadzam si\\u0119\"}, {\"PYT_1\": 1, \"CZY_KIER\": \"Nie\", \"PYT_1_label\": \"Zgadzam si\\u0119\"}, {\"PYT_1\": -1, \"CZY_KIER\": \"Nie\", \"PYT_1_label\": \"Nie zgadzam si\\u0119\"}, {\"PYT_1\": 1, \"CZY_KIER\": \"Nie\", \"PYT_1_label\": \"Zgadzam si\\u0119\"}, {\"PYT_1\": 1, \"CZY_KIER\": \"Nie\", \"PYT_1_label\": \"Zgadzam si\\u0119\"}, {\"PYT_1\": -1, \"CZY_KIER\": \"Tak\", \"PYT_1_label\": \"Nie zgadzam si\\u0119\"}, {\"PYT_1\": 1, \"CZY_KIER\": \"Nie\", \"PYT_1_label\": \"Zgadzam si\\u0119\"}, {\"PYT_1\": 1, \"CZY_KIER\": \"Nie\", \"PYT_1_label\": \"Zgadzam si\\u0119\"}, {\"PYT_1\": 2, \"CZY_KIER\": \"Nie\", \"PYT_1_label\": \"Zdecydowanie si\\u0119 zgadzam\"}, {\"PYT_1\": 1, \"CZY_KIER\": \"Tak\", \"PYT_1_label\": \"Zgadzam si\\u0119\"}, {\"PYT_1\": -2, \"CZY_KIER\": \"Nie\", \"PYT_1_label\": \"Zdecydowanie si\\u0119 nie zgadzam\"}, {\"PYT_1\": 1, \"CZY_KIER\": \"Nie\", \"PYT_1_label\": \"Zgadzam si\\u0119\"}, {\"PYT_1\": 1, \"CZY_KIER\": \"Nie\", \"PYT_1_label\": \"Zgadzam si\\u0119\"}, {\"PYT_1\": 1, \"CZY_KIER\": \"Nie\", \"PYT_1_label\": \"Zgadzam si\\u0119\"}, {\"PYT_1\": 1, \"CZY_KIER\": \"Nie\", \"PYT_1_label\": \"Zgadzam si\\u0119\"}, {\"PYT_1\": 1, \"CZY_KIER\": \"Nie\", \"PYT_1_label\": \"Zgadzam si\\u0119\"}, {\"PYT_1\": 2, \"CZY_KIER\": \"Nie\", \"PYT_1_label\": \"Zdecydowanie si\\u0119 zgadzam\"}, {\"PYT_1\": 1, \"CZY_KIER\": \"Nie\", \"PYT_1_label\": \"Zgadzam si\\u0119\"}, {\"PYT_1\": 1, \"CZY_KIER\": \"Nie\", \"PYT_1_label\": \"Zgadzam si\\u0119\"}, {\"PYT_1\": -2, \"CZY_KIER\": \"Nie\", \"PYT_1_label\": \"Zdecydowanie si\\u0119 nie zgadzam\"}, {\"PYT_1\": -1, \"CZY_KIER\": \"Nie\", \"PYT_1_label\": \"Nie zgadzam si\\u0119\"}, {\"PYT_1\": 0, \"CZY_KIER\": \"Nie\", \"PYT_1_label\": \"Neutralnie\"}, {\"PYT_1\": 1, \"CZY_KIER\": \"Nie\", \"PYT_1_label\": \"Zgadzam si\\u0119\"}, {\"PYT_1\": 1, \"CZY_KIER\": \"Nie\", \"PYT_1_label\": \"Zgadzam si\\u0119\"}, {\"PYT_1\": 1, \"CZY_KIER\": \"Nie\", \"PYT_1_label\": \"Zgadzam si\\u0119\"}, {\"PYT_1\": 1, \"CZY_KIER\": \"Nie\", \"PYT_1_label\": \"Zgadzam si\\u0119\"}, {\"PYT_1\": 0, \"CZY_KIER\": \"Nie\", \"PYT_1_label\": \"Neutralnie\"}, {\"PYT_1\": 1, \"CZY_KIER\": \"Tak\", \"PYT_1_label\": \"Zgadzam si\\u0119\"}, {\"PYT_1\": 1, \"CZY_KIER\": \"Nie\", \"PYT_1_label\": \"Zgadzam si\\u0119\"}, {\"PYT_1\": 1, \"CZY_KIER\": \"Nie\", \"PYT_1_label\": \"Zgadzam si\\u0119\"}, {\"PYT_1\": 0, \"CZY_KIER\": \"Nie\", \"PYT_1_label\": \"Neutralnie\"}, {\"PYT_1\": -2, \"CZY_KIER\": \"Tak\", \"PYT_1_label\": \"Zdecydowanie si\\u0119 nie zgadzam\"}, {\"PYT_1\": 0, \"CZY_KIER\": \"Nie\", \"PYT_1_label\": \"Neutralnie\"}, {\"PYT_1\": 0, \"CZY_KIER\": \"Nie\", \"PYT_1_label\": \"Neutralnie\"}, {\"PYT_1\": 0, \"CZY_KIER\": \"Nie\", \"PYT_1_label\": \"Neutralnie\"}, {\"PYT_1\": 1, \"CZY_KIER\": \"Nie\", \"PYT_1_label\": \"Zgadzam si\\u0119\"}, {\"PYT_1\": -1, \"CZY_KIER\": \"Tak\", \"PYT_1_label\": \"Nie zgadzam si\\u0119\"}, {\"PYT_1\": -1, \"CZY_KIER\": \"Nie\", \"PYT_1_label\": \"Nie zgadzam si\\u0119\"}, {\"PYT_1\": -2, \"CZY_KIER\": \"Nie\", \"PYT_1_label\": \"Zdecydowanie si\\u0119 nie zgadzam\"}, {\"PYT_1\": 1, \"CZY_KIER\": \"Nie\", \"PYT_1_label\": \"Zgadzam si\\u0119\"}, {\"PYT_1\": 1, \"CZY_KIER\": \"Nie\", \"PYT_1_label\": \"Zgadzam si\\u0119\"}, {\"PYT_1\": 1, \"CZY_KIER\": \"Tak\", \"PYT_1_label\": \"Zgadzam si\\u0119\"}, {\"PYT_1\": 0, \"CZY_KIER\": \"Nie\", \"PYT_1_label\": \"Neutralnie\"}, {\"PYT_1\": 1, \"CZY_KIER\": \"Nie\", \"PYT_1_label\": \"Zgadzam si\\u0119\"}, {\"PYT_1\": 1, \"CZY_KIER\": \"Tak\", \"PYT_1_label\": \"Zgadzam si\\u0119\"}, {\"PYT_1\": 0, \"CZY_KIER\": \"Tak\", \"PYT_1_label\": \"Neutralnie\"}, {\"PYT_1\": 2, \"CZY_KIER\": \"Nie\", \"PYT_1_label\": \"Zdecydowanie si\\u0119 zgadzam\"}, {\"PYT_1\": 0, \"CZY_KIER\": \"Nie\", \"PYT_1_label\": \"Neutralnie\"}, {\"PYT_1\": 1, \"CZY_KIER\": \"Nie\", \"PYT_1_label\": \"Zgadzam si\\u0119\"}, {\"PYT_1\": 1, \"CZY_KIER\": \"Nie\", \"PYT_1_label\": \"Zgadzam si\\u0119\"}, {\"PYT_1\": 1, \"CZY_KIER\": \"Nie\", \"PYT_1_label\": \"Zgadzam si\\u0119\"}, {\"PYT_1\": 0, \"CZY_KIER\": \"Nie\", \"PYT_1_label\": \"Neutralnie\"}, {\"PYT_1\": -1, \"CZY_KIER\": \"Nie\", \"PYT_1_label\": \"Nie zgadzam si\\u0119\"}, {\"PYT_1\": -2, \"CZY_KIER\": \"Nie\", \"PYT_1_label\": \"Zdecydowanie si\\u0119 nie zgadzam\"}, {\"PYT_1\": 0, \"CZY_KIER\": \"Nie\", \"PYT_1_label\": \"Neutralnie\"}, {\"PYT_1\": 0, \"CZY_KIER\": \"Tak\", \"PYT_1_label\": \"Neutralnie\"}, {\"PYT_1\": 1, \"CZY_KIER\": \"Nie\", \"PYT_1_label\": \"Zgadzam si\\u0119\"}, {\"PYT_1\": 2, \"CZY_KIER\": \"Nie\", \"PYT_1_label\": \"Zdecydowanie si\\u0119 zgadzam\"}, {\"PYT_1\": 0, \"CZY_KIER\": \"Nie\", \"PYT_1_label\": \"Neutralnie\"}, {\"PYT_1\": -2, \"CZY_KIER\": \"Nie\", \"PYT_1_label\": \"Zdecydowanie si\\u0119 nie zgadzam\"}, {\"PYT_1\": 2, \"CZY_KIER\": \"Nie\", \"PYT_1_label\": \"Zdecydowanie si\\u0119 zgadzam\"}, {\"PYT_1\": 2, \"CZY_KIER\": \"Nie\", \"PYT_1_label\": \"Zdecydowanie si\\u0119 zgadzam\"}, {\"PYT_1\": -1, \"CZY_KIER\": \"Nie\", \"PYT_1_label\": \"Nie zgadzam si\\u0119\"}, {\"PYT_1\": 2, \"CZY_KIER\": \"Nie\", \"PYT_1_label\": \"Zdecydowanie si\\u0119 zgadzam\"}, {\"PYT_1\": 1, \"CZY_KIER\": \"Nie\", \"PYT_1_label\": \"Zgadzam si\\u0119\"}, {\"PYT_1\": -1, \"CZY_KIER\": \"Nie\", \"PYT_1_label\": \"Nie zgadzam si\\u0119\"}, {\"PYT_1\": 1, \"CZY_KIER\": \"Nie\", \"PYT_1_label\": \"Zgadzam si\\u0119\"}, {\"PYT_1\": 0, \"CZY_KIER\": \"Nie\", \"PYT_1_label\": \"Neutralnie\"}, {\"PYT_1\": 0, \"CZY_KIER\": \"Nie\", \"PYT_1_label\": \"Neutralnie\"}, {\"PYT_1\": 1, \"CZY_KIER\": \"Nie\", \"PYT_1_label\": \"Zgadzam si\\u0119\"}, {\"PYT_1\": 2, \"CZY_KIER\": \"Nie\", \"PYT_1_label\": \"Zdecydowanie si\\u0119 zgadzam\"}, {\"PYT_1\": 1, \"CZY_KIER\": \"Nie\", \"PYT_1_label\": \"Zgadzam si\\u0119\"}, {\"PYT_1\": 0, \"CZY_KIER\": \"Nie\", \"PYT_1_label\": \"Neutralnie\"}, {\"PYT_1\": 0, \"CZY_KIER\": \"Tak\", \"PYT_1_label\": \"Neutralnie\"}, {\"PYT_1\": -2, \"CZY_KIER\": \"Nie\", \"PYT_1_label\": \"Zdecydowanie si\\u0119 nie zgadzam\"}, {\"PYT_1\": 0, \"CZY_KIER\": \"Nie\", \"PYT_1_label\": \"Neutralnie\"}, {\"PYT_1\": 1, \"CZY_KIER\": \"Nie\", \"PYT_1_label\": \"Zgadzam si\\u0119\"}, {\"PYT_1\": 1, \"CZY_KIER\": \"Nie\", \"PYT_1_label\": \"Zgadzam si\\u0119\"}, {\"PYT_1\": 2, \"CZY_KIER\": \"Nie\", \"PYT_1_label\": \"Zdecydowanie si\\u0119 zgadzam\"}, {\"PYT_1\": 0, \"CZY_KIER\": \"Nie\", \"PYT_1_label\": \"Neutralnie\"}, {\"PYT_1\": 1, \"CZY_KIER\": \"Nie\", \"PYT_1_label\": \"Zgadzam si\\u0119\"}, {\"PYT_1\": 0, \"CZY_KIER\": \"Nie\", \"PYT_1_label\": \"Neutralnie\"}, {\"PYT_1\": 0, \"CZY_KIER\": \"Nie\", \"PYT_1_label\": \"Neutralnie\"}, {\"PYT_1\": 1, \"CZY_KIER\": \"Nie\", \"PYT_1_label\": \"Zgadzam si\\u0119\"}, {\"PYT_1\": 1, \"CZY_KIER\": \"Nie\", \"PYT_1_label\": \"Zgadzam si\\u0119\"}, {\"PYT_1\": 2, \"CZY_KIER\": \"Nie\", \"PYT_1_label\": \"Zdecydowanie si\\u0119 zgadzam\"}, {\"PYT_1\": 2, \"CZY_KIER\": \"Nie\", \"PYT_1_label\": \"Zdecydowanie si\\u0119 zgadzam\"}, {\"PYT_1\": 0, \"CZY_KIER\": \"Nie\", \"PYT_1_label\": \"Neutralnie\"}, {\"PYT_1\": 1, \"CZY_KIER\": \"Nie\", \"PYT_1_label\": \"Zgadzam si\\u0119\"}, {\"PYT_1\": 1, \"CZY_KIER\": \"Tak\", \"PYT_1_label\": \"Zgadzam si\\u0119\"}, {\"PYT_1\": 0, \"CZY_KIER\": \"Nie\", \"PYT_1_label\": \"Neutralnie\"}, {\"PYT_1\": 2, \"CZY_KIER\": \"Nie\", \"PYT_1_label\": \"Zdecydowanie si\\u0119 zgadzam\"}, {\"PYT_1\": 2, \"CZY_KIER\": \"Nie\", \"PYT_1_label\": \"Zdecydowanie si\\u0119 zgadzam\"}, {\"PYT_1\": 1, \"CZY_KIER\": \"Nie\", \"PYT_1_label\": \"Zgadzam si\\u0119\"}, {\"PYT_1\": -2, \"CZY_KIER\": \"Nie\", \"PYT_1_label\": \"Zdecydowanie si\\u0119 nie zgadzam\"}, {\"PYT_1\": 2, \"CZY_KIER\": \"Nie\", \"PYT_1_label\": \"Zdecydowanie si\\u0119 zgadzam\"}, {\"PYT_1\": 1, \"CZY_KIER\": \"Tak\", \"PYT_1_label\": \"Zgadzam si\\u0119\"}, {\"PYT_1\": 1, \"CZY_KIER\": \"Nie\", \"PYT_1_label\": \"Zgadzam si\\u0119\"}, {\"PYT_1\": 1, \"CZY_KIER\": \"Nie\", \"PYT_1_label\": \"Zgadzam si\\u0119\"}, {\"PYT_1\": 1, \"CZY_KIER\": \"Nie\", \"PYT_1_label\": \"Zgadzam si\\u0119\"}, {\"PYT_1\": 0, \"CZY_KIER\": \"Tak\", \"PYT_1_label\": \"Neutralnie\"}, {\"PYT_1\": 1, \"CZY_KIER\": \"Nie\", \"PYT_1_label\": \"Zgadzam si\\u0119\"}, {\"PYT_1\": 0, \"CZY_KIER\": \"Nie\", \"PYT_1_label\": \"Neutralnie\"}, {\"PYT_1\": 0, \"CZY_KIER\": \"Nie\", \"PYT_1_label\": \"Neutralnie\"}, {\"PYT_1\": -2, \"CZY_KIER\": \"Tak\", \"PYT_1_label\": \"Zdecydowanie si\\u0119 nie zgadzam\"}, {\"PYT_1\": 1, \"CZY_KIER\": \"Nie\", \"PYT_1_label\": \"Zgadzam si\\u0119\"}, {\"PYT_1\": 2, \"CZY_KIER\": \"Nie\", \"PYT_1_label\": \"Zdecydowanie si\\u0119 zgadzam\"}, {\"PYT_1\": 1, \"CZY_KIER\": \"Nie\", \"PYT_1_label\": \"Zgadzam si\\u0119\"}, {\"PYT_1\": 1, \"CZY_KIER\": \"Nie\", \"PYT_1_label\": \"Zgadzam si\\u0119\"}, {\"PYT_1\": 1, \"CZY_KIER\": \"Nie\", \"PYT_1_label\": \"Zgadzam si\\u0119\"}, {\"PYT_1\": 2, \"CZY_KIER\": \"Tak\", \"PYT_1_label\": \"Zdecydowanie si\\u0119 zgadzam\"}, {\"PYT_1\": 1, \"CZY_KIER\": \"Nie\", \"PYT_1_label\": \"Zgadzam si\\u0119\"}, {\"PYT_1\": 1, \"CZY_KIER\": \"Nie\", \"PYT_1_label\": \"Zgadzam si\\u0119\"}, {\"PYT_1\": 1, \"CZY_KIER\": \"Nie\", \"PYT_1_label\": \"Zgadzam si\\u0119\"}, {\"PYT_1\": -1, \"CZY_KIER\": \"Nie\", \"PYT_1_label\": \"Nie zgadzam si\\u0119\"}, {\"PYT_1\": 0, \"CZY_KIER\": \"Nie\", \"PYT_1_label\": \"Neutralnie\"}, {\"PYT_1\": 1, \"CZY_KIER\": \"Tak\", \"PYT_1_label\": \"Zgadzam si\\u0119\"}, {\"PYT_1\": 0, \"CZY_KIER\": \"Nie\", \"PYT_1_label\": \"Neutralnie\"}, {\"PYT_1\": 1, \"CZY_KIER\": \"Tak\", \"PYT_1_label\": \"Zgadzam si\\u0119\"}, {\"PYT_1\": 1, \"CZY_KIER\": \"Nie\", \"PYT_1_label\": \"Zgadzam si\\u0119\"}, {\"PYT_1\": 1, \"CZY_KIER\": \"Nie\", \"PYT_1_label\": \"Zgadzam si\\u0119\"}, {\"PYT_1\": -1, \"CZY_KIER\": \"Nie\", \"PYT_1_label\": \"Nie zgadzam si\\u0119\"}, {\"PYT_1\": 1, \"CZY_KIER\": \"Nie\", \"PYT_1_label\": \"Zgadzam si\\u0119\"}, {\"PYT_1\": 1, \"CZY_KIER\": \"Nie\", \"PYT_1_label\": \"Zgadzam si\\u0119\"}]}}, {\"mode\": \"vega-lite\"});\n",
       "</script>"
      ],
      "text/plain": [
       "alt.HConcatChart(...)"
      ]
     },
     "execution_count": 83,
     "metadata": {},
     "output_type": "execute_result"
    }
   ],
   "source": [
    "df1 = df[['PYT_1', 'CZY_KIER']]\n",
    "\n",
    "labels = {\n",
    "    -2: \"Zdecydowanie się nie zgadzam\",\n",
    "    -1: \"Nie zgadzam się\",\n",
    "    0: \"Neutralnie\",\n",
    "    1: \"Zgadzam się\",\n",
    "    2: \"Zdecydowanie się zgadzam\"\n",
    "}\n",
    "df1['PYT_1_label'] = df1['PYT_1'].map(labels)\n",
    "\n",
    "overall_chart = (\n",
    "    alt.Chart(df1)\n",
    "    .mark_bar()\n",
    "    .encode(\n",
    "        x=alt.X('PYT_1_label:O', title='Ocena', sort=list(labels.values())),\n",
    "        y=alt.Y('count()', title='Liczba odpowiedzi'),\n",
    "        tooltip=['count()']\n",
    "    )\n",
    "    .properties(title='Rozkład odpowiedzi w całej grupie')\n",
    ")\n",
    "\n",
    "subgroup_chart = (\n",
    "    alt.Chart(df1)\n",
    "    .mark_bar()\n",
    "    .encode(\n",
    "        x=alt.X('PYT_1_label:O', title='Ocena', sort=list(labels.values())),\n",
    "        y=alt.Y('count()', title='Liczba odpowiedzi'),\n",
    "        color='CZY_KIER:N',\n",
    "        column=alt.Column('CZY_KIER:N', title='Czy kierownik?'),\n",
    "        tooltip=['count()']\n",
    "    )\n",
    "    .properties(title='Rozkład odpowiedzi w podgrupach')\n",
    ")\n",
    "\n",
    "alt.hconcat(overall_chart, subgroup_chart)"
   ]
  },
  {
   "cell_type": "markdown",
   "metadata": {},
   "source": [
    "### **Zadanie 3**"
   ]
  },
  {
   "cell_type": "code",
   "execution_count": 84,
   "metadata": {},
   "outputs": [
    {
     "data": {
      "text/plain": [
       "'Ze zwracaniem:'"
      ]
     },
     "metadata": {},
     "output_type": "display_data"
    },
    {
     "data": {
      "text/html": [
       "<div>\n",
       "<style scoped>\n",
       "    .dataframe tbody tr th:only-of-type {\n",
       "        vertical-align: middle;\n",
       "    }\n",
       "\n",
       "    .dataframe tbody tr th {\n",
       "        vertical-align: top;\n",
       "    }\n",
       "\n",
       "    .dataframe thead th {\n",
       "        text-align: right;\n",
       "    }\n",
       "</style>\n",
       "<table border=\"1\" class=\"dataframe\">\n",
       "  <thead>\n",
       "    <tr style=\"text-align: right;\">\n",
       "      <th></th>\n",
       "      <th>DZIAŁ</th>\n",
       "      <th>STAŻ</th>\n",
       "      <th>CZY_KIER</th>\n",
       "      <th>PYT_1</th>\n",
       "      <th>PYT_2</th>\n",
       "      <th>PYT_3</th>\n",
       "      <th>PŁEĆ</th>\n",
       "      <th>WIEK</th>\n",
       "      <th>WIEK_KAT</th>\n",
       "      <th>CZY_ZADOW</th>\n",
       "    </tr>\n",
       "  </thead>\n",
       "  <tbody>\n",
       "    <tr>\n",
       "      <th>98</th>\n",
       "      <td>PD</td>\n",
       "      <td>2</td>\n",
       "      <td>Nie</td>\n",
       "      <td>1</td>\n",
       "      <td>2</td>\n",
       "      <td>2</td>\n",
       "      <td>M</td>\n",
       "      <td>40</td>\n",
       "      <td>1.0</td>\n",
       "      <td>1.0</td>\n",
       "    </tr>\n",
       "    <tr>\n",
       "      <th>88</th>\n",
       "      <td>PD</td>\n",
       "      <td>1</td>\n",
       "      <td>Nie</td>\n",
       "      <td>1</td>\n",
       "      <td>2</td>\n",
       "      <td>2</td>\n",
       "      <td>M</td>\n",
       "      <td>55</td>\n",
       "      <td>2.0</td>\n",
       "      <td>1.0</td>\n",
       "    </tr>\n",
       "    <tr>\n",
       "      <th>62</th>\n",
       "      <td>PD</td>\n",
       "      <td>2</td>\n",
       "      <td>Nie</td>\n",
       "      <td>2</td>\n",
       "      <td>2</td>\n",
       "      <td>2</td>\n",
       "      <td>M</td>\n",
       "      <td>50</td>\n",
       "      <td>2.0</td>\n",
       "      <td>1.0</td>\n",
       "    </tr>\n",
       "    <tr>\n",
       "      <th>31</th>\n",
       "      <td>PD</td>\n",
       "      <td>1</td>\n",
       "      <td>Nie</td>\n",
       "      <td>0</td>\n",
       "      <td>-2</td>\n",
       "      <td>-2</td>\n",
       "      <td>M</td>\n",
       "      <td>33</td>\n",
       "      <td>0.0</td>\n",
       "      <td>-1.0</td>\n",
       "    </tr>\n",
       "    <tr>\n",
       "      <th>16</th>\n",
       "      <td>IT</td>\n",
       "      <td>2</td>\n",
       "      <td>Nie</td>\n",
       "      <td>0</td>\n",
       "      <td>-2</td>\n",
       "      <td>-2</td>\n",
       "      <td>K</td>\n",
       "      <td>45</td>\n",
       "      <td>1.0</td>\n",
       "      <td>-1.0</td>\n",
       "    </tr>\n",
       "    <tr>\n",
       "      <th>10</th>\n",
       "      <td>IT</td>\n",
       "      <td>2</td>\n",
       "      <td>Nie</td>\n",
       "      <td>2</td>\n",
       "      <td>-2</td>\n",
       "      <td>-2</td>\n",
       "      <td>K</td>\n",
       "      <td>48</td>\n",
       "      <td>2.0</td>\n",
       "      <td>-1.0</td>\n",
       "    </tr>\n",
       "    <tr>\n",
       "      <th>31</th>\n",
       "      <td>PD</td>\n",
       "      <td>1</td>\n",
       "      <td>Nie</td>\n",
       "      <td>0</td>\n",
       "      <td>-2</td>\n",
       "      <td>-2</td>\n",
       "      <td>M</td>\n",
       "      <td>33</td>\n",
       "      <td>0.0</td>\n",
       "      <td>-1.0</td>\n",
       "    </tr>\n",
       "    <tr>\n",
       "      <th>15</th>\n",
       "      <td>IT</td>\n",
       "      <td>2</td>\n",
       "      <td>Nie</td>\n",
       "      <td>1</td>\n",
       "      <td>2</td>\n",
       "      <td>2</td>\n",
       "      <td>K</td>\n",
       "      <td>37</td>\n",
       "      <td>1.0</td>\n",
       "      <td>1.0</td>\n",
       "    </tr>\n",
       "    <tr>\n",
       "      <th>194</th>\n",
       "      <td>HR</td>\n",
       "      <td>3</td>\n",
       "      <td>Tak</td>\n",
       "      <td>1</td>\n",
       "      <td>2</td>\n",
       "      <td>-1</td>\n",
       "      <td>M</td>\n",
       "      <td>26</td>\n",
       "      <td>0.0</td>\n",
       "      <td>1.0</td>\n",
       "    </tr>\n",
       "    <tr>\n",
       "      <th>167</th>\n",
       "      <td>MK</td>\n",
       "      <td>2</td>\n",
       "      <td>Nie</td>\n",
       "      <td>2</td>\n",
       "      <td>2</td>\n",
       "      <td>2</td>\n",
       "      <td>M</td>\n",
       "      <td>38</td>\n",
       "      <td>1.0</td>\n",
       "      <td>1.0</td>\n",
       "    </tr>\n",
       "    <tr>\n",
       "      <th>30</th>\n",
       "      <td>PD</td>\n",
       "      <td>1</td>\n",
       "      <td>Nie</td>\n",
       "      <td>1</td>\n",
       "      <td>2</td>\n",
       "      <td>2</td>\n",
       "      <td>M</td>\n",
       "      <td>32</td>\n",
       "      <td>0.0</td>\n",
       "      <td>1.0</td>\n",
       "    </tr>\n",
       "    <tr>\n",
       "      <th>30</th>\n",
       "      <td>PD</td>\n",
       "      <td>1</td>\n",
       "      <td>Nie</td>\n",
       "      <td>1</td>\n",
       "      <td>2</td>\n",
       "      <td>2</td>\n",
       "      <td>M</td>\n",
       "      <td>32</td>\n",
       "      <td>0.0</td>\n",
       "      <td>1.0</td>\n",
       "    </tr>\n",
       "    <tr>\n",
       "      <th>54</th>\n",
       "      <td>PD</td>\n",
       "      <td>2</td>\n",
       "      <td>Nie</td>\n",
       "      <td>0</td>\n",
       "      <td>-2</td>\n",
       "      <td>-2</td>\n",
       "      <td>M</td>\n",
       "      <td>41</td>\n",
       "      <td>1.0</td>\n",
       "      <td>-1.0</td>\n",
       "    </tr>\n",
       "    <tr>\n",
       "      <th>102</th>\n",
       "      <td>PD</td>\n",
       "      <td>2</td>\n",
       "      <td>Nie</td>\n",
       "      <td>0</td>\n",
       "      <td>-2</td>\n",
       "      <td>-2</td>\n",
       "      <td>K</td>\n",
       "      <td>40</td>\n",
       "      <td>1.0</td>\n",
       "      <td>-1.0</td>\n",
       "    </tr>\n",
       "    <tr>\n",
       "      <th>102</th>\n",
       "      <td>PD</td>\n",
       "      <td>2</td>\n",
       "      <td>Nie</td>\n",
       "      <td>0</td>\n",
       "      <td>-2</td>\n",
       "      <td>-2</td>\n",
       "      <td>K</td>\n",
       "      <td>40</td>\n",
       "      <td>1.0</td>\n",
       "      <td>-1.0</td>\n",
       "    </tr>\n",
       "    <tr>\n",
       "      <th>172</th>\n",
       "      <td>HR</td>\n",
       "      <td>2</td>\n",
       "      <td>Tak</td>\n",
       "      <td>1</td>\n",
       "      <td>2</td>\n",
       "      <td>1</td>\n",
       "      <td>M</td>\n",
       "      <td>39</td>\n",
       "      <td>1.0</td>\n",
       "      <td>1.0</td>\n",
       "    </tr>\n",
       "    <tr>\n",
       "      <th>195</th>\n",
       "      <td>HR</td>\n",
       "      <td>2</td>\n",
       "      <td>Nie</td>\n",
       "      <td>1</td>\n",
       "      <td>2</td>\n",
       "      <td>2</td>\n",
       "      <td>M</td>\n",
       "      <td>42</td>\n",
       "      <td>1.0</td>\n",
       "      <td>1.0</td>\n",
       "    </tr>\n",
       "    <tr>\n",
       "      <th>26</th>\n",
       "      <td>PD</td>\n",
       "      <td>2</td>\n",
       "      <td>Tak</td>\n",
       "      <td>1</td>\n",
       "      <td>2</td>\n",
       "      <td>2</td>\n",
       "      <td>M</td>\n",
       "      <td>28</td>\n",
       "      <td>0.0</td>\n",
       "      <td>1.0</td>\n",
       "    </tr>\n",
       "    <tr>\n",
       "      <th>56</th>\n",
       "      <td>PD</td>\n",
       "      <td>2</td>\n",
       "      <td>Nie</td>\n",
       "      <td>1</td>\n",
       "      <td>2</td>\n",
       "      <td>2</td>\n",
       "      <td>M</td>\n",
       "      <td>47</td>\n",
       "      <td>2.0</td>\n",
       "      <td>1.0</td>\n",
       "    </tr>\n",
       "    <tr>\n",
       "      <th>86</th>\n",
       "      <td>PD</td>\n",
       "      <td>1</td>\n",
       "      <td>Nie</td>\n",
       "      <td>-2</td>\n",
       "      <td>-2</td>\n",
       "      <td>-2</td>\n",
       "      <td>M</td>\n",
       "      <td>49</td>\n",
       "      <td>2.0</td>\n",
       "      <td>-1.0</td>\n",
       "    </tr>\n",
       "  </tbody>\n",
       "</table>\n",
       "</div>"
      ],
      "text/plain": [
       "    DZIAŁ  STAŻ CZY_KIER  PYT_1  PYT_2  PYT_3 PŁEĆ  WIEK  WIEK_KAT  CZY_ZADOW\n",
       "98     PD     2      Nie      1      2      2    M    40       1.0        1.0\n",
       "88     PD     1      Nie      1      2      2    M    55       2.0        1.0\n",
       "62     PD     2      Nie      2      2      2    M    50       2.0        1.0\n",
       "31     PD     1      Nie      0     -2     -2    M    33       0.0       -1.0\n",
       "16     IT     2      Nie      0     -2     -2    K    45       1.0       -1.0\n",
       "10     IT     2      Nie      2     -2     -2    K    48       2.0       -1.0\n",
       "31     PD     1      Nie      0     -2     -2    M    33       0.0       -1.0\n",
       "15     IT     2      Nie      1      2      2    K    37       1.0        1.0\n",
       "194    HR     3      Tak      1      2     -1    M    26       0.0        1.0\n",
       "167    MK     2      Nie      2      2      2    M    38       1.0        1.0\n",
       "30     PD     1      Nie      1      2      2    M    32       0.0        1.0\n",
       "30     PD     1      Nie      1      2      2    M    32       0.0        1.0\n",
       "54     PD     2      Nie      0     -2     -2    M    41       1.0       -1.0\n",
       "102    PD     2      Nie      0     -2     -2    K    40       1.0       -1.0\n",
       "102    PD     2      Nie      0     -2     -2    K    40       1.0       -1.0\n",
       "172    HR     2      Tak      1      2      1    M    39       1.0        1.0\n",
       "195    HR     2      Nie      1      2      2    M    42       1.0        1.0\n",
       "26     PD     2      Tak      1      2      2    M    28       0.0        1.0\n",
       "56     PD     2      Nie      1      2      2    M    47       2.0        1.0\n",
       "86     PD     1      Nie     -2     -2     -2    M    49       2.0       -1.0"
      ]
     },
     "metadata": {},
     "output_type": "display_data"
    },
    {
     "name": "stdout",
     "output_type": "stream",
     "text": [
      "Powtórzenia (ze zwracaniem): 3\n"
     ]
    },
    {
     "data": {
      "text/plain": [
       "'Bez zwracania:'"
      ]
     },
     "metadata": {},
     "output_type": "display_data"
    },
    {
     "data": {
      "text/html": [
       "<div>\n",
       "<style scoped>\n",
       "    .dataframe tbody tr th:only-of-type {\n",
       "        vertical-align: middle;\n",
       "    }\n",
       "\n",
       "    .dataframe tbody tr th {\n",
       "        vertical-align: top;\n",
       "    }\n",
       "\n",
       "    .dataframe thead th {\n",
       "        text-align: right;\n",
       "    }\n",
       "</style>\n",
       "<table border=\"1\" class=\"dataframe\">\n",
       "  <thead>\n",
       "    <tr style=\"text-align: right;\">\n",
       "      <th></th>\n",
       "      <th>DZIAŁ</th>\n",
       "      <th>STAŻ</th>\n",
       "      <th>CZY_KIER</th>\n",
       "      <th>PYT_1</th>\n",
       "      <th>PYT_2</th>\n",
       "      <th>PYT_3</th>\n",
       "      <th>PŁEĆ</th>\n",
       "      <th>WIEK</th>\n",
       "      <th>WIEK_KAT</th>\n",
       "      <th>CZY_ZADOW</th>\n",
       "    </tr>\n",
       "  </thead>\n",
       "  <tbody>\n",
       "    <tr>\n",
       "      <th>195</th>\n",
       "      <td>HR</td>\n",
       "      <td>2</td>\n",
       "      <td>Nie</td>\n",
       "      <td>1</td>\n",
       "      <td>2</td>\n",
       "      <td>2</td>\n",
       "      <td>M</td>\n",
       "      <td>42</td>\n",
       "      <td>1.0</td>\n",
       "      <td>1.0</td>\n",
       "    </tr>\n",
       "    <tr>\n",
       "      <th>105</th>\n",
       "      <td>PD</td>\n",
       "      <td>2</td>\n",
       "      <td>Nie</td>\n",
       "      <td>1</td>\n",
       "      <td>2</td>\n",
       "      <td>2</td>\n",
       "      <td>K</td>\n",
       "      <td>36</td>\n",
       "      <td>1.0</td>\n",
       "      <td>1.0</td>\n",
       "    </tr>\n",
       "    <tr>\n",
       "      <th>36</th>\n",
       "      <td>PD</td>\n",
       "      <td>1</td>\n",
       "      <td>Nie</td>\n",
       "      <td>2</td>\n",
       "      <td>2</td>\n",
       "      <td>2</td>\n",
       "      <td>M</td>\n",
       "      <td>33</td>\n",
       "      <td>0.0</td>\n",
       "      <td>1.0</td>\n",
       "    </tr>\n",
       "    <tr>\n",
       "      <th>191</th>\n",
       "      <td>HR</td>\n",
       "      <td>2</td>\n",
       "      <td>Nie</td>\n",
       "      <td>0</td>\n",
       "      <td>-2</td>\n",
       "      <td>-1</td>\n",
       "      <td>M</td>\n",
       "      <td>64</td>\n",
       "      <td>3.0</td>\n",
       "      <td>-1.0</td>\n",
       "    </tr>\n",
       "    <tr>\n",
       "      <th>24</th>\n",
       "      <td>IT</td>\n",
       "      <td>2</td>\n",
       "      <td>Nie</td>\n",
       "      <td>1</td>\n",
       "      <td>-1</td>\n",
       "      <td>-1</td>\n",
       "      <td>K</td>\n",
       "      <td>50</td>\n",
       "      <td>2.0</td>\n",
       "      <td>-1.0</td>\n",
       "    </tr>\n",
       "    <tr>\n",
       "      <th>170</th>\n",
       "      <td>HR</td>\n",
       "      <td>3</td>\n",
       "      <td>Nie</td>\n",
       "      <td>-2</td>\n",
       "      <td>-2</td>\n",
       "      <td>-2</td>\n",
       "      <td>M</td>\n",
       "      <td>49</td>\n",
       "      <td>2.0</td>\n",
       "      <td>-1.0</td>\n",
       "    </tr>\n",
       "    <tr>\n",
       "      <th>69</th>\n",
       "      <td>PD</td>\n",
       "      <td>2</td>\n",
       "      <td>Tak</td>\n",
       "      <td>-1</td>\n",
       "      <td>2</td>\n",
       "      <td>2</td>\n",
       "      <td>M</td>\n",
       "      <td>34</td>\n",
       "      <td>0.0</td>\n",
       "      <td>1.0</td>\n",
       "    </tr>\n",
       "    <tr>\n",
       "      <th>96</th>\n",
       "      <td>PD</td>\n",
       "      <td>2</td>\n",
       "      <td>Nie</td>\n",
       "      <td>-1</td>\n",
       "      <td>-2</td>\n",
       "      <td>-1</td>\n",
       "      <td>M</td>\n",
       "      <td>39</td>\n",
       "      <td>1.0</td>\n",
       "      <td>-1.0</td>\n",
       "    </tr>\n",
       "    <tr>\n",
       "      <th>55</th>\n",
       "      <td>PD</td>\n",
       "      <td>2</td>\n",
       "      <td>Nie</td>\n",
       "      <td>2</td>\n",
       "      <td>2</td>\n",
       "      <td>2</td>\n",
       "      <td>M</td>\n",
       "      <td>47</td>\n",
       "      <td>2.0</td>\n",
       "      <td>1.0</td>\n",
       "    </tr>\n",
       "    <tr>\n",
       "      <th>50</th>\n",
       "      <td>PD</td>\n",
       "      <td>1</td>\n",
       "      <td>Nie</td>\n",
       "      <td>-2</td>\n",
       "      <td>-2</td>\n",
       "      <td>-1</td>\n",
       "      <td>M</td>\n",
       "      <td>43</td>\n",
       "      <td>1.0</td>\n",
       "      <td>-1.0</td>\n",
       "    </tr>\n",
       "    <tr>\n",
       "      <th>67</th>\n",
       "      <td>PD</td>\n",
       "      <td>1</td>\n",
       "      <td>Nie</td>\n",
       "      <td>1</td>\n",
       "      <td>2</td>\n",
       "      <td>2</td>\n",
       "      <td>M</td>\n",
       "      <td>28</td>\n",
       "      <td>0.0</td>\n",
       "      <td>1.0</td>\n",
       "    </tr>\n",
       "    <tr>\n",
       "      <th>119</th>\n",
       "      <td>PD</td>\n",
       "      <td>2</td>\n",
       "      <td>Nie</td>\n",
       "      <td>1</td>\n",
       "      <td>2</td>\n",
       "      <td>2</td>\n",
       "      <td>M</td>\n",
       "      <td>38</td>\n",
       "      <td>1.0</td>\n",
       "      <td>1.0</td>\n",
       "    </tr>\n",
       "    <tr>\n",
       "      <th>185</th>\n",
       "      <td>HR</td>\n",
       "      <td>2</td>\n",
       "      <td>Nie</td>\n",
       "      <td>1</td>\n",
       "      <td>2</td>\n",
       "      <td>1</td>\n",
       "      <td>M</td>\n",
       "      <td>42</td>\n",
       "      <td>1.0</td>\n",
       "      <td>1.0</td>\n",
       "    </tr>\n",
       "    <tr>\n",
       "      <th>150</th>\n",
       "      <td>MK</td>\n",
       "      <td>3</td>\n",
       "      <td>Nie</td>\n",
       "      <td>-2</td>\n",
       "      <td>-2</td>\n",
       "      <td>1</td>\n",
       "      <td>M</td>\n",
       "      <td>40</td>\n",
       "      <td>1.0</td>\n",
       "      <td>-1.0</td>\n",
       "    </tr>\n",
       "    <tr>\n",
       "      <th>38</th>\n",
       "      <td>PD</td>\n",
       "      <td>1</td>\n",
       "      <td>Nie</td>\n",
       "      <td>1</td>\n",
       "      <td>2</td>\n",
       "      <td>2</td>\n",
       "      <td>M</td>\n",
       "      <td>40</td>\n",
       "      <td>1.0</td>\n",
       "      <td>1.0</td>\n",
       "    </tr>\n",
       "    <tr>\n",
       "      <th>82</th>\n",
       "      <td>PD</td>\n",
       "      <td>1</td>\n",
       "      <td>Nie</td>\n",
       "      <td>1</td>\n",
       "      <td>-2</td>\n",
       "      <td>-1</td>\n",
       "      <td>M</td>\n",
       "      <td>52</td>\n",
       "      <td>2.0</td>\n",
       "      <td>-1.0</td>\n",
       "    </tr>\n",
       "    <tr>\n",
       "      <th>124</th>\n",
       "      <td>MK</td>\n",
       "      <td>2</td>\n",
       "      <td>Nie</td>\n",
       "      <td>1</td>\n",
       "      <td>2</td>\n",
       "      <td>2</td>\n",
       "      <td>K</td>\n",
       "      <td>40</td>\n",
       "      <td>1.0</td>\n",
       "      <td>1.0</td>\n",
       "    </tr>\n",
       "    <tr>\n",
       "      <th>163</th>\n",
       "      <td>MK</td>\n",
       "      <td>2</td>\n",
       "      <td>Nie</td>\n",
       "      <td>0</td>\n",
       "      <td>-2</td>\n",
       "      <td>-2</td>\n",
       "      <td>M</td>\n",
       "      <td>54</td>\n",
       "      <td>2.0</td>\n",
       "      <td>-1.0</td>\n",
       "    </tr>\n",
       "    <tr>\n",
       "      <th>190</th>\n",
       "      <td>HR</td>\n",
       "      <td>2</td>\n",
       "      <td>Nie</td>\n",
       "      <td>-1</td>\n",
       "      <td>-2</td>\n",
       "      <td>-2</td>\n",
       "      <td>M</td>\n",
       "      <td>64</td>\n",
       "      <td>3.0</td>\n",
       "      <td>-1.0</td>\n",
       "    </tr>\n",
       "    <tr>\n",
       "      <th>143</th>\n",
       "      <td>MK</td>\n",
       "      <td>2</td>\n",
       "      <td>Nie</td>\n",
       "      <td>0</td>\n",
       "      <td>-2</td>\n",
       "      <td>-2</td>\n",
       "      <td>K</td>\n",
       "      <td>46</td>\n",
       "      <td>2.0</td>\n",
       "      <td>-1.0</td>\n",
       "    </tr>\n",
       "  </tbody>\n",
       "</table>\n",
       "</div>"
      ],
      "text/plain": [
       "    DZIAŁ  STAŻ CZY_KIER  PYT_1  PYT_2  PYT_3 PŁEĆ  WIEK  WIEK_KAT  CZY_ZADOW\n",
       "195    HR     2      Nie      1      2      2    M    42       1.0        1.0\n",
       "105    PD     2      Nie      1      2      2    K    36       1.0        1.0\n",
       "36     PD     1      Nie      2      2      2    M    33       0.0        1.0\n",
       "191    HR     2      Nie      0     -2     -1    M    64       3.0       -1.0\n",
       "24     IT     2      Nie      1     -1     -1    K    50       2.0       -1.0\n",
       "170    HR     3      Nie     -2     -2     -2    M    49       2.0       -1.0\n",
       "69     PD     2      Tak     -1      2      2    M    34       0.0        1.0\n",
       "96     PD     2      Nie     -1     -2     -1    M    39       1.0       -1.0\n",
       "55     PD     2      Nie      2      2      2    M    47       2.0        1.0\n",
       "50     PD     1      Nie     -2     -2     -1    M    43       1.0       -1.0\n",
       "67     PD     1      Nie      1      2      2    M    28       0.0        1.0\n",
       "119    PD     2      Nie      1      2      2    M    38       1.0        1.0\n",
       "185    HR     2      Nie      1      2      1    M    42       1.0        1.0\n",
       "150    MK     3      Nie     -2     -2      1    M    40       1.0       -1.0\n",
       "38     PD     1      Nie      1      2      2    M    40       1.0        1.0\n",
       "82     PD     1      Nie      1     -2     -1    M    52       2.0       -1.0\n",
       "124    MK     2      Nie      1      2      2    K    40       1.0        1.0\n",
       "163    MK     2      Nie      0     -2     -2    M    54       2.0       -1.0\n",
       "190    HR     2      Nie     -1     -2     -2    M    64       3.0       -1.0\n",
       "143    MK     2      Nie      0     -2     -2    K    46       2.0       -1.0"
      ]
     },
     "metadata": {},
     "output_type": "display_data"
    },
    {
     "name": "stdout",
     "output_type": "stream",
     "text": [
      "Powtórzenia (bez zwracania): 0\n"
     ]
    }
   ],
   "source": [
    "with_replacement = np.random.choice(df.index, size=int(0.1 * len(df)), replace=True)\n",
    "sample_with_replacement = df.loc[with_replacement]\n",
    "\n",
    "duplicates_with = pd.Series(with_replacement).value_counts()\n",
    "repeated_with = duplicates_with[duplicates_with > 1]\n",
    "\n",
    "without_replacement = np.random.choice(df.index, size=int(0.1 * len(df)), replace=False)\n",
    "sample_without_replacement = df.loc[without_replacement]\n",
    "\n",
    "duplicates_without = pd.Series(without_replacement).value_counts()\n",
    "repeated_without = duplicates_without[duplicates_without > 1]\n",
    "\n",
    "display('Ze zwracaniem:', sample_with_replacement)\n",
    "print('Powtórzenia (ze zwracaniem):', len(repeated_with))\n",
    "\n",
    "display('Bez zwracania:', sample_without_replacement)\n",
    "print('Powtórzenia (bez zwracania):', len(repeated_without))\n"
   ]
  },
  {
   "cell_type": "markdown",
   "metadata": {},
   "source": [
    "### **Zadanie 4**"
   ]
  },
  {
   "cell_type": "markdown",
   "metadata": {},
   "source": [
    "#### Gęstość rozkładu dwumianowego opisujemy za pomocą wzoru\n",
    "#### $$ P(N) = \\binom{n}{N}p^N(1-p)^{n-N},$$\n",
    "#### gdzie $n$ oznacza liczbę prób, $N$ liczbę sukcesów oraz $p$ prawdopodobieńśtwo sukcesu."
   ]
  },
  {
   "cell_type": "code",
   "execution_count": 85,
   "metadata": {},
   "outputs": [
    {
     "data": {
      "image/png": "[encoded data removed]",
      "text/plain": [
       "<Figure size 1200x600 with 2 Axes>"
      ]
     },
     "metadata": {},
     "output_type": "display_data"
    }
   ],
   "source": [
    "def binomial_coeff(n, k):\n",
    "    return math.comb(n, k)\n",
    "\n",
    "def binomial_pdf(n, p, k):\n",
    "    return binomial_coeff(n, k) * (p ** k) * ((1 - p) ** (n - k))\n",
    "\n",
    "def empirical_pdf(n, p, M):\n",
    "    successes_count = [0] * (n + 1)\n",
    "    \n",
    "    for _ in range(M):\n",
    "        successes = binomial_trial(n, p)\n",
    "        successes_count[successes] += 1\n",
    "    \n",
    "    return [count / M for count in successes_count]\n",
    "\n",
    "def binomial_trial(n, p):\n",
    "    successes = 0\n",
    "    for _ in range(n):\n",
    "        if random.random() < p:\n",
    "            successes += 1\n",
    "    return successes\n",
    "\n",
    "def binomial_cdf(n, p, k):\n",
    "    return sum(binomial_pdf(n, p, i) for i in range(k + 1))\n",
    "\n",
    "def empirical_cdf(n, p, M):\n",
    "    successes_count = [0] * (n + 1)\n",
    "    \n",
    "    for _ in range(M):\n",
    "        successes = binomial_trial(n, p)\n",
    "        successes_count[successes] += 1\n",
    "    \n",
    "    cumulative_count = np.cumsum(successes_count)\n",
    "    return cumulative_count / M\n",
    "\n",
    "# Parametry\n",
    "n = 100  # liczba prób\n",
    "p = 0.5  # prawdopodobieństwo sukcesu\n",
    "M = 10000  # liczba prób do symulacji\n",
    "\n",
    "\n",
    "k_values = list(range(n + 1))\n",
    "theoretical_pdf = [binomial_pdf(n, p, k) for k in k_values]\n",
    "theoretical_cdf = [binomial_cdf(n, p, k) for k in k_values]\n",
    "\n",
    "empirical_pdf_values = empirical_pdf(n, p, M)\n",
    "empirical_cdf_values = empirical_cdf(n, p, M)\n",
    "\n",
    "\n",
    "\n",
    "plt.figure(figsize=(12, 6))\n",
    "\n",
    "plt.subplot(1, 2, 1)\n",
    "plt.bar(k_values, empirical_pdf_values, width=0.4, alpha=0.6, label=\"Empiryczna Gęstość\")\n",
    "plt.plot(k_values, theoretical_pdf, label=\"Teoretyczna Gęstość\")\n",
    "plt.xlabel(\"Liczba sukcesów\")\n",
    "plt.ylabel(\"Prawdopodobieństwo\")\n",
    "plt.title(f\"Porównanie Gęstości Prawdopodobieństwa (n = {n}, p = {p})\")\n",
    "plt.legend()\n",
    "\n",
    "plt.subplot(1, 2, 2)\n",
    "plt.step(k_values, empirical_cdf_values, where=\"post\", label=\"Empiryczna Dystrybuanta\")\n",
    "plt.plot(k_values, theoretical_cdf, label=\"Teoretyczna Dystrybuanta\")\n",
    "plt.xlabel(\"Liczba sukcesów\")\n",
    "plt.ylabel(\"Prawdopodobieństwo skumulowane\")\n",
    "plt.title(f\"Porównanie Dystrybuanty (n = {n}, p = {p})\")\n",
    "plt.legend()\n",
    "\n",
    "plt.tight_layout()\n",
    "plt.show()\n"
   ]
  },
  {
   "cell_type": "markdown",
   "metadata": {},
   "source": [
    "### **Zadanie 5**"
   ]
  },
  {
   "cell_type": "code",
   "execution_count": 86,
   "metadata": {},
   "outputs": [
    {
     "data": {
      "image/png": "[encoded data removed]",
      "text/plain": [
       "<Figure size 800x500 with 1 Axes>"
      ]
     },
     "metadata": {},
     "output_type": "display_data"
    },
    {
     "data": {
      "image/png": "[encoded data removed]",
      "text/plain": [
       "<Figure size 1200x500 with 4 Axes>"
      ]
     },
     "metadata": {},
     "output_type": "display_data"
    }
   ],
   "source": [
    "def simulate_multinomial_manual(n, p, num_samples):\n",
    "    \"\"\"\n",
    "    Symuluje próbki z rozkładu wielomianowego bez użycia gotowych funkcji.\n",
    "    \n",
    "    Parameters:\n",
    "        n (int): liczba prób w jednym eksperymencie\n",
    "        p (list): lista prawdopodobieństw dla każdej kategorii (suma = 1)\n",
    "        num_samples (int): liczba próbek (eksperymentów)\n",
    "        \n",
    "    Returns:\n",
    "        samples (ndarray): macierz wyników (num_samples x len(p))\n",
    "    \"\"\"\n",
    "    categories = len(p)\n",
    "    p = np.array(p)\n",
    "    cumulative_p = np.cumsum(p)\n",
    "    \n",
    "    samples = np.zeros((num_samples, categories), dtype=int)\n",
    "    \n",
    "    for i in range(num_samples):\n",
    "        count = np.zeros(categories, dtype=int)\n",
    "        for _ in range(n):\n",
    "            r = np.random.rand()\n",
    "            for j in range(categories):\n",
    "                if r < cumulative_p[j]:\n",
    "                    count[j] += 1\n",
    "                    break\n",
    "        samples[i] = count\n",
    "        \n",
    "    return samples\n",
    "\n",
    "import numpy as np\n",
    "import matplotlib.pyplot as plt\n",
    "import seaborn as sns\n",
    "\n",
    "# Parametry\n",
    "n = 10\n",
    "p = [0.1, 0.3, 0.4, 0.2]\n",
    "num_samples = 10000\n",
    "\n",
    "samples = simulate_multinomial_manual(n, p, num_samples)\n",
    "\n",
    "mean_theoretical = n * np.array(p)\n",
    "cov_theoretical = n * (np.diag(p) - np.outer(p, p))\n",
    "mean_empirical = np.mean(samples, axis=0)\n",
    "cov_empirical = np.cov(samples, rowvar=False)\n",
    "\n",
    "categories = [f\"Kategoria {i+1}\" for i in range(len(p))]\n",
    "x = np.arange(len(p))\n",
    "\n",
    "plt.figure(figsize=(8, 5))\n",
    "plt.bar(x - 0.2, mean_theoretical, width=0.4, label='Teoretyczna')\n",
    "plt.bar(x + 0.2, mean_empirical, color=\"lightsteelblue\", width=0.4, label='Empiryczna')\n",
    "plt.xticks(x, categories)\n",
    "plt.ylabel(\"Wartość oczekiwana\")\n",
    "plt.title(\"Porównanie wartości oczekiwanej\")\n",
    "plt.legend()\n",
    "plt.tight_layout()\n",
    "plt.show()\n",
    "\n",
    "fig, axes = plt.subplots(1, 2, figsize=(12, 5))\n",
    "\n",
    "sns.heatmap(cov_theoretical, annot=True, fmt=\".2f\", cmap=\"Blues\", ax=axes[0])\n",
    "axes[0].set_title(\"Kowariancja teoretyczna\")\n",
    "\n",
    "sns.heatmap(cov_empirical, annot=True, fmt=\".2f\", cmap=\"Oranges\", ax=axes[1])\n",
    "axes[1].set_title(\"Kowariancja empiryczna\")\n",
    "\n",
    "plt.tight_layout()\n",
    "plt.show()\n"
   ]
  },
  {
   "cell_type": "markdown",
   "metadata": {},
   "source": [
    "## **Część III i IV**"
   ]
  },
  {
   "cell_type": "markdown",
   "metadata": {},
   "source": [
    "### **Zadanie 6**"
   ]
  },
  {
   "cell_type": "markdown",
   "metadata": {},
   "source": [
    "#### Definiujemy funkcję do wyznaczania realizacji przedziałów ufności Cloppera-Pearsona."
   ]
  },
  {
   "cell_type": "code",
   "execution_count": 87,
   "metadata": {},
   "outputs": [],
   "source": [
    "def clopper_pearson(successes, trials, alpha=0.05): #liczba sukcesów, liczba prób, poziom ufności\n",
    "    beta_ppf = scipy.stats.beta.ppf #punktowa funkcja procentowa zmiennej beta\n",
    "    low = beta_ppf(alpha / 2, successes, trials - successes + 1) #dolna granica\n",
    "    high = beta_ppf(1 - alpha / 2, successes + 1, trials - successes) # górna granica\n",
    "    \n",
    "    if math.isnan(low): \n",
    "        low = 0\n",
    "    if math.isnan(high):\n",
    "        high = 1\n",
    "    \n",
    "    return [low, high]"
   ]
  },
  {
   "cell_type": "markdown",
   "metadata": {},
   "source": [
    "### **Zadanie 7**"
   ]
  },
  {
   "cell_type": "markdown",
   "metadata": {},
   "source": [
    "#### Przed wyznaczeniem realizacji przedziałów ufności, tworzymy kolumnę \"CZY_ZADOW_2\", która informuje czy ankietowany był zadowolony na podstawie jego odpowiedzi do pytania numer 3."
   ]
  },
  {
   "cell_type": "code",
   "execution_count": 88,
   "metadata": {},
   "outputs": [
    {
     "data": {
      "text/html": [
       "<div>\n",
       "<style scoped>\n",
       "    .dataframe tbody tr th:only-of-type {\n",
       "        vertical-align: middle;\n",
       "    }\n",
       "\n",
       "    .dataframe tbody tr th {\n",
       "        vertical-align: top;\n",
       "    }\n",
       "\n",
       "    .dataframe thead th {\n",
       "        text-align: right;\n",
       "    }\n",
       "</style>\n",
       "<table border=\"1\" class=\"dataframe\">\n",
       "  <thead>\n",
       "    <tr style=\"text-align: right;\">\n",
       "      <th></th>\n",
       "      <th>DZIAŁ</th>\n",
       "      <th>STAŻ</th>\n",
       "      <th>CZY_KIER</th>\n",
       "      <th>PYT_1</th>\n",
       "      <th>PYT_2</th>\n",
       "      <th>PYT_3</th>\n",
       "      <th>PŁEĆ</th>\n",
       "      <th>WIEK</th>\n",
       "      <th>WIEK_KAT</th>\n",
       "      <th>CZY_ZADOW</th>\n",
       "      <th>CZY_ZADOW_2</th>\n",
       "    </tr>\n",
       "  </thead>\n",
       "  <tbody>\n",
       "    <tr>\n",
       "      <th>195</th>\n",
       "      <td>HR</td>\n",
       "      <td>2</td>\n",
       "      <td>Nie</td>\n",
       "      <td>1</td>\n",
       "      <td>2</td>\n",
       "      <td>2</td>\n",
       "      <td>M</td>\n",
       "      <td>42</td>\n",
       "      <td>1.0</td>\n",
       "      <td>1.0</td>\n",
       "      <td>1.0</td>\n",
       "    </tr>\n",
       "    <tr>\n",
       "      <th>196</th>\n",
       "      <td>HR</td>\n",
       "      <td>2</td>\n",
       "      <td>Nie</td>\n",
       "      <td>1</td>\n",
       "      <td>-1</td>\n",
       "      <td>-1</td>\n",
       "      <td>K</td>\n",
       "      <td>35</td>\n",
       "      <td>0.0</td>\n",
       "      <td>-1.0</td>\n",
       "      <td>-1.0</td>\n",
       "    </tr>\n",
       "    <tr>\n",
       "      <th>197</th>\n",
       "      <td>HR</td>\n",
       "      <td>2</td>\n",
       "      <td>Nie</td>\n",
       "      <td>-1</td>\n",
       "      <td>-2</td>\n",
       "      <td>-2</td>\n",
       "      <td>K</td>\n",
       "      <td>39</td>\n",
       "      <td>1.0</td>\n",
       "      <td>-1.0</td>\n",
       "      <td>-1.0</td>\n",
       "    </tr>\n",
       "    <tr>\n",
       "      <th>198</th>\n",
       "      <td>HR</td>\n",
       "      <td>2</td>\n",
       "      <td>Nie</td>\n",
       "      <td>1</td>\n",
       "      <td>2</td>\n",
       "      <td>1</td>\n",
       "      <td>K</td>\n",
       "      <td>48</td>\n",
       "      <td>2.0</td>\n",
       "      <td>1.0</td>\n",
       "      <td>1.0</td>\n",
       "    </tr>\n",
       "    <tr>\n",
       "      <th>199</th>\n",
       "      <td>HR</td>\n",
       "      <td>2</td>\n",
       "      <td>Nie</td>\n",
       "      <td>1</td>\n",
       "      <td>2</td>\n",
       "      <td>2</td>\n",
       "      <td>K</td>\n",
       "      <td>42</td>\n",
       "      <td>1.0</td>\n",
       "      <td>1.0</td>\n",
       "      <td>1.0</td>\n",
       "    </tr>\n",
       "  </tbody>\n",
       "</table>\n",
       "</div>"
      ],
      "text/plain": [
       "    DZIAŁ  STAŻ CZY_KIER  PYT_1  PYT_2  PYT_3 PŁEĆ  WIEK  WIEK_KAT  CZY_ZADOW   \n",
       "195    HR     2      Nie      1      2      2    M    42       1.0        1.0  \\\n",
       "196    HR     2      Nie      1     -1     -1    K    35       0.0       -1.0   \n",
       "197    HR     2      Nie     -1     -2     -2    K    39       1.0       -1.0   \n",
       "198    HR     2      Nie      1      2      1    K    48       2.0        1.0   \n",
       "199    HR     2      Nie      1      2      2    K    42       1.0        1.0   \n",
       "\n",
       "     CZY_ZADOW_2  \n",
       "195          1.0  \n",
       "196         -1.0  \n",
       "197         -1.0  \n",
       "198          1.0  \n",
       "199          1.0  "
      ]
     },
     "execution_count": 88,
     "metadata": {},
     "output_type": "execute_result"
    }
   ],
   "source": [
    "CZY_ZADOW_2 = np.zeros(len(df[\"PYT_3\"]))\n",
    "for i in range(len(df[\"PYT_3\"])):\n",
    "    CZY_ZADOW_2[i] = np.sign(df[\"PYT_3\"][i]) #jeżeli ankietowany jest zadowolony, to jego odpowiedź jest dodatnia\n",
    "df[\"CZY_ZADOW_2\"] = CZY_ZADOW_2\n",
    "df.tail()"
   ]
  },
  {
   "cell_type": "markdown",
   "metadata": {},
   "source": [
    "#### W analizowanym przypadku liczba prób jest równa liczbie udzielonych odpowiedzi, natomiast za sukces traktujemy każdą pozytywną odpowiedź."
   ]
  },
  {
   "cell_type": "code",
   "execution_count": 89,
   "metadata": {},
   "outputs": [],
   "source": [
    "n_1 = len(df[\"PYT_2\"])\n",
    "n_2 = len(df[\"PYT_3\"])\n",
    "positive_1 = len(df.query('CZY_ZADOW > 0')) #sumujemy liczbę dodatnich wartości (zadowolonych ankietowanych)\n",
    "positive_2 = len(df.query('CZY_ZADOW_2 > 0')) #sumujemy liczbę dodatnich wartości (zadowolonych ankietowanych)"
   ]
  },
  {
   "cell_type": "code",
   "execution_count": 90,
   "metadata": {},
   "outputs": [
    {
     "name": "stdout",
     "output_type": "stream",
     "text": [
      "For CZY_ZADOW confidence interval is: low: 0.458330500411475, high: 0.6007670588028855\n",
      "For CZY_ZADOW_2 confidence interval is: low: 0.5184215852127789, high: 0.6588693543285322\n"
     ]
    }
   ],
   "source": [
    "confidence_interval_czy_zadow = clopper_pearson(positive_1, n_1)\n",
    "print(f\"For CZY_ZADOW confidence interval is: low: {confidence_interval_czy_zadow[0]}, high: {confidence_interval_czy_zadow[1]}\")\n",
    "\n",
    "confidence_interval_czy_zadow_2 = clopper_pearson(positive_2, n_2)\n",
    "print(f\"For CZY_ZADOW_2 confidence interval is: low: {confidence_interval_czy_zadow_2[0]}, high: {confidence_interval_czy_zadow_2[1]}\")"
   ]
  },
  {
   "cell_type": "markdown",
   "metadata": {},
   "source": [
    "### TO DO: WNIOSKI"
   ]
  },
  {
   "cell_type": "markdown",
   "metadata": {},
   "source": [
    "### **Zadanie 8**"
   ]
  },
  {
   "cell_type": "markdown",
   "metadata": {},
   "source": [
    "#### Aby generować próbki z rozkładu dwumianowego w Pythonie, możemy użyć biblioteki NumPy."
   ]
  },
  {
   "cell_type": "code",
   "execution_count": 91,
   "metadata": {},
   "outputs": [
    {
     "data": {
      "text/plain": [
       "<matplotlib.legend.Legend at 0x162379effa0>"
      ]
     },
     "execution_count": 91,
     "metadata": {},
     "output_type": "execute_result"
    },
    {
     "data": {
      "image/png": "[encoded data removed]",
      "text/plain": [
       "<Figure size 640x480 with 1 Axes>"
      ]
     },
     "metadata": {},
     "output_type": "display_data"
    }
   ],
   "source": [
    "n = 100 #liczba prób\n",
    "N = np.linspace(0,n, 101, endpoint=True) #0,1,2,...,100\n",
    "p = 1/3 #prawdopodobieńśtwo sukcesu\n",
    "\n",
    "theoretical_density = np.zeros(n)\n",
    "for i in range(n):\n",
    "    theoretical_density[i] = scipy.special.binom(n, N[i])*p**N[i]*(1-p)**(n-N[i]) #teoretyczna gęstość wyznaczona ze wzoru powyżej\n",
    "\n",
    "samples = np.random.binomial(n, p, 100000) #wygenerowanie dużej liczby próbek\n",
    "\n",
    "plt.hist(samples, density=True, label = \"rozkład próbki\", bins=20)\n",
    "plt.plot(theoretical_density, label = \"teoretyczna gęstość\")\n",
    "plt.grid(alpha=0.3)\n",
    "plt.title(\"Porównanie histogramu wygenerowanych próbek z teoretyczną gęstością rozkładu dwumianowego\")\n",
    "plt.legend()"
   ]
  },
  {
   "cell_type": "markdown",
   "metadata": {},
   "source": [
    "### **Zadanie 9**"
   ]
  },
  {
   "cell_type": "code",
   "execution_count": null,
   "metadata": {},
   "outputs": [],
   "source": []
  },
  {
   "cell_type": "markdown",
   "metadata": {},
   "source": [
    "## **Część V**"
   ]
  },
  {
   "cell_type": "markdown",
   "metadata": {},
   "source": [
    "### **Zadanie 10**"
   ]
  },
  {
   "cell_type": "code",
   "execution_count": 92,
   "metadata": {},
   "outputs": [
    {
     "data": {
      "text/plain": [
       "0.18406106910639122"
      ]
     },
     "metadata": {},
     "output_type": "display_data"
    }
   ],
   "source": [
    "result = binomtest(3, n=15, p=0.1, alternative='greater')\n",
    "display(result.pvalue)"
   ]
  },
  {
   "cell_type": "code",
   "execution_count": 93,
   "metadata": {},
   "outputs": [
    {
     "name": "stdout",
     "output_type": "stream",
     "text": [
      "0.159\n"
     ]
    }
   ],
   "source": [
    "count = np.array([5, 12])\n",
    "nobs = np.array([83, 99])\n",
    "stat, pval = proportions_ztest(count, nobs)\n",
    "print('{0:0.3f}'.format(pval))"
   ]
  },
  {
   "cell_type": "markdown",
   "metadata": {},
   "source": [
    "### **Zadanie 11**"
   ]
  },
  {
   "cell_type": "markdown",
   "metadata": {},
   "source": [
    "#### 1. Prawdopodobieństwo, że w firmie pracuje kobieta wynosi 0.5."
   ]
  },
  {
   "cell_type": "code",
   "execution_count": 94,
   "metadata": {},
   "outputs": [],
   "source": [
    "def check_p_value(p_value):\n",
    "    if p_value < 0.05:\n",
    "        print('Hipoteza zerowa może zostać odrzucona')\n",
    "    else:\n",
    "        print('Hipoteza zerowa nie może zostać odrzucona')"
   ]
  },
  {
   "cell_type": "code",
   "execution_count": 95,
   "metadata": {},
   "outputs": [
    {
     "name": "stdout",
     "output_type": "stream",
     "text": [
      "4.97297347921355e-05\n",
      "Hipoteza zerowa może zostać odrzucona\n"
     ]
    }
   ],
   "source": [
    "k = len(df[df['PŁEĆ'] == 'K'])\n",
    "n = len(df)\n",
    "p = 0.5\n",
    "result = binomtest(k, n, p, alternative='two-sided')\n",
    "p_value = result.pvalue\n",
    "print(p_value)\n",
    "check_p_value(p_value)"
   ]
  },
  {
   "cell_type": "code",
   "execution_count": 96,
   "metadata": {},
   "outputs": [
    {
     "name": "stdout",
     "output_type": "stream",
     "text": [
      "1.8243011136745864e-05\n",
      "Hipoteza zerowa może zostać odrzucona\n"
     ]
    }
   ],
   "source": [
    "stat, pval = proportions_ztest(k, n, p, alternative='two-sided')\n",
    "print(pval)\n",
    "check_p_value(pval)"
   ]
  },
  {
   "cell_type": "markdown",
   "metadata": {},
   "source": [
    "#### 2. Prawdopodobieństwo, że pracownik uważa szkolenia za przystosowane do swoich potrzeb w pierwszym badanym okresie jest większe bądź równe 0.7."
   ]
  },
  {
   "cell_type": "code",
   "execution_count": 97,
   "metadata": {},
   "outputs": [
    {
     "name": "stdout",
     "output_type": "stream",
     "text": [
      "3.212876740960112e-07\n",
      "Hipoteza zerowa może zostać odrzucona\n"
     ]
    }
   ],
   "source": [
    "k = len(df[(df['PYT_2'] == 1) | (df['PYT_2'] == 2)])\n",
    "n = len(df)\n",
    "p = 0.7\n",
    "result = binomtest(k, n, p, alternative='less')\n",
    "p_value = result.pvalue\n",
    "print(p_value)\n",
    "check_p_value(p_value)"
   ]
  },
  {
   "cell_type": "code",
   "execution_count": 98,
   "metadata": {},
   "outputs": [
    {
     "name": "stdout",
     "output_type": "stream",
     "text": [
      "7.286468776023958e-07\n",
      "Hipoteza zerowa może zostać odrzucona\n"
     ]
    }
   ],
   "source": [
    "stat, pval = proportions_ztest(k, n, p, alternative='smaller')\n",
    "print(pval)\n",
    "check_p_value(pval)"
   ]
  },
  {
   "cell_type": "markdown",
   "metadata": {},
   "source": [
    "#### 3. Prawdopodobieństwo, że kobieta pracuje na stanowisku kierowniczym jest równe prawdopodobieństwu, że mężczyzna pracuje na stanowisku kierowniczym."
   ]
  },
  {
   "cell_type": "code",
   "execution_count": 99,
   "metadata": {},
   "outputs": [
    {
     "name": "stdout",
     "output_type": "stream",
     "text": [
      "0.5040620681066837\n",
      "Hipoteza zerowa nie może zostać odrzucona\n"
     ]
    }
   ],
   "source": [
    "k1 = len(df[(df['CZY_KIER'] == 'Tak') & (df['PŁEĆ'] == 'M')])\n",
    "n1 = len(df[df['PŁEĆ'] == 'M'])\n",
    "p = k1/n1\n",
    "k = len(df[(df['CZY_KIER'] == 'Tak') & (df['PŁEĆ'] == 'K')])\n",
    "n = len(df[df['PŁEĆ'] == 'K'])\n",
    "result = binomtest(k, n, p, alternative='two-sided')\n",
    "p_value = result.pvalue\n",
    "print(p_value)\n",
    "check_p_value(p_value)"
   ]
  },
  {
   "cell_type": "code",
   "execution_count": 100,
   "metadata": {},
   "outputs": [
    {
     "name": "stdout",
     "output_type": "stream",
     "text": [
      "0.35635965611973397\n",
      "Hipoteza zerowa nie może zostać odrzucona\n"
     ]
    }
   ],
   "source": [
    "stat, pval = proportions_ztest(k, n, p, alternative='two-sided')\n",
    "print(pval)\n",
    "check_p_value(pval)"
   ]
  },
  {
   "cell_type": "markdown",
   "metadata": {},
   "source": [
    "#### 4. Prawdopodobieństwo, że kobieta uważa szkolenia za przystosowane do swoich potrzeb w pierwszym badanym okresie jest równe prawdopodobieństwu, że mężczyzna uważa szkolenia za przystosowane do swoich potrzeb w pierwszym badanym okresie."
   ]
  },
  {
   "cell_type": "code",
   "execution_count": 101,
   "metadata": {},
   "outputs": [
    {
     "name": "stdout",
     "output_type": "stream",
     "text": [
      "0.47862248077440184\n",
      "Hipoteza zerowa nie może zostać odrzucona\n"
     ]
    }
   ],
   "source": [
    "k1 = len(df[(df['PYT_2'] <= 1) & (df['PŁEĆ'] == 'M')])\n",
    "n1 = len(df[df['PŁEĆ'] == 'M'])\n",
    "p = k1/n1\n",
    "k = len(df[(df['PYT_2'] <= 1) & (df['PŁEĆ'] == 'K')])\n",
    "n = len(df[df['PŁEĆ'] == 'K'])\n",
    "result = binomtest(k, n, p, alternative='two-sided')\n",
    "p_value = result.pvalue\n",
    "print(p_value)\n",
    "check_p_value(p_value)"
   ]
  },
  {
   "cell_type": "code",
   "execution_count": 102,
   "metadata": {},
   "outputs": [
    {
     "name": "stdout",
     "output_type": "stream",
     "text": [
      "0.4798031720910073\n",
      "Hipoteza zerowa nie może zostać odrzucona\n"
     ]
    }
   ],
   "source": [
    "stat, pval = proportions_ztest(k, n, p, alternative='two-sided')\n",
    "print(pval)\n",
    "check_p_value(pval)"
   ]
  },
  {
   "cell_type": "markdown",
   "metadata": {},
   "source": [
    "#### 5. Prawdopodobieństwo, że kobieta pracuje w dziale zasobów ludzkich jest większe lub równe prawdopodobieństwu, że mężczyzna pracuje w dziale zasobów ludzkich."
   ]
  },
  {
   "cell_type": "code",
   "execution_count": 103,
   "metadata": {},
   "outputs": [
    {
     "name": "stdout",
     "output_type": "stream",
     "text": [
      "0.0003456683038890572\n",
      "Hipoteza zerowa może zostać odrzucona\n"
     ]
    }
   ],
   "source": [
    "k1 = len(df[(df['DZIAŁ'] == 'HR') & (df['PŁEĆ'] == 'M')])\n",
    "n1 = len(df[df['PŁEĆ'] == 'M'])\n",
    "p = k1/n1\n",
    "k = len(df[(df['DZIAŁ'] == 'HR') & (df['PŁEĆ'] == 'K')])\n",
    "n = len(df[df['PŁEĆ'] == 'K'])\n",
    "result = binomtest(k, n, p, alternative='less')\n",
    "p_value = result.pvalue\n",
    "print(p_value)\n",
    "check_p_value(p_value)"
   ]
  },
  {
   "cell_type": "code",
   "execution_count": 104,
   "metadata": {},
   "outputs": [
    {
     "name": "stdout",
     "output_type": "stream",
     "text": [
      "1.135483190810861e-08\n",
      "Hipoteza zerowa może zostać odrzucona\n"
     ]
    }
   ],
   "source": [
    "stat, pval = proportions_ztest(k, n, p, alternative='smaller')\n",
    "print(pval)\n",
    "check_p_value(pval)"
   ]
  },
  {
   "cell_type": "markdown",
   "metadata": {},
   "source": [
    "### **Zadanie 11**"
   ]
  },
  {
   "cell_type": "code",
   "execution_count": 107,
   "metadata": {},
   "outputs": [
    {
     "data": {
      "image/png": "[encoded data removed]",
      "text/plain": [
       "<Figure size 1000x600 with 1 Axes>"
      ]
     },
     "metadata": {},
     "output_type": "display_data"
    }
   ],
   "source": [
    "alpha = 0.05\n",
    "p_null = 0.9\n",
    "alternative_ps = [0.85, 0.87, 0.92, 0.95]\n",
    "sample_sizes = [20, 50, 100, 200]\n",
    "n_simulations = 1000\n",
    "\n",
    "results = []\n",
    "\n",
    "for p_alt in alternative_ps:\n",
    "    for n in sample_sizes:\n",
    "        rejections_binom = 0\n",
    "        rejections_z = 0\n",
    "\n",
    "        for _ in range(n_simulations):\n",
    "            sample = np.random.binomial(n, p_alt)\n",
    "\n",
    "            test_binom = binomtest(sample, n, p=p_null, alternative='two-sided')\n",
    "            if test_binom.pvalue < alpha:\n",
    "                rejections_binom += 1\n",
    "\n",
    "            stat, pval = proportions_ztest(sample, n, value=p_null, alternative='two-sided')\n",
    "            if pval < alpha:\n",
    "                rejections_z += 1\n",
    "\n",
    "        power_binom = rejections_binom / n_simulations\n",
    "        power_z = rejections_z / n_simulations\n",
    "        results.append((p_alt, n, power_binom, power_z))\n",
    "\n",
    "df = pd.DataFrame(results, columns=['p_alt', 'sample_size', 'power_binom', 'power_z'])\n",
    "\n",
    "fig, ax = plt.subplots(figsize=(10, 6))\n",
    "\n",
    "for p in alternative_ps:\n",
    "    subset = df[df['p_alt'] == p]\n",
    "    ax.plot(subset['sample_size'], subset['power_binom'], marker='o', label=f'Binom test, p={p}')\n",
    "    ax.plot(subset['sample_size'], subset['power_z'], marker='x', linestyle='--', label=f'Z test, p={p}')\n",
    "\n",
    "ax.set_title('Moc testu dokładnego vs. asymptotycznego')\n",
    "ax.set_xlabel('Rozmiar próby')\n",
    "ax.set_ylabel('Moc testu')\n",
    "ax.axhline(0.05, color='gray', linestyle=':', label='Poziom istotności α=0.05')\n",
    "ax.legend()\n",
    "ax.grid(True)\n",
    "\n",
    "plt.tight_layout()\n",
    "plt.show()"
   ]
  },
  {
   "cell_type": "markdown",
   "metadata": {},
   "source": [
    "##### Wnioski\n",
    "\n",
    "1. Moc testu rośnie wraz z rozmiarem próby\n",
    "Zarówno dla testów dokładnych, jak i asymptotycznych, im większy rozmiar próby, tym większa moc testu.\n",
    "Szczególnie widoczne dla wartości p=0.95, gdzie moc testu Z i testu dokładnego wzrasta do ponad 0.6 i 0.9.\n",
    "\n",
    "2. Test Z zazwyczaj ma większą moc dla większych wartości p (np. p=0.95)\n",
    "Dla p=0.95, Z test znacznie szybciej osiąga wysoką moc niż Binom test.\n",
    "Sugeruje to, że test Z może być bardziej czuły przy większych efektach (większe różnice od hipotezy zerowej).\n",
    "\n",
    "3. Test dokładny (Binom) może być bardziej konserwatywny dla małych p\n",
    "Dla p=0.85 i p=0.87 test Binom ma większą moc niż test Z.\n",
    "Szczególnie dla małych prób (np. 25, 50), test Binom wypada lepiej lub porównywalnie.\n",
    "\n",
    "4. Dla niskich wartości p i małych prób test Z może mieć zawyżoną moc\n",
    "Widać, że test Z dla p=0.92 przy próbie 25 ma relatywnie wysoką moc (~0.2), a potem maleje.\n",
    "Może to wskazywać na niestabilność oszacowania mocy przy małych próbach – test Z nie jest zalecany dla bardzo małych próbek.\n",
    "\n",
    "5. Linia przerywana – poziom istotności (α=0.05)\n",
    "Przypomina, że moc testu powinna być znacznie większa niż poziom istotności, aby test był użyteczny.\n",
    "Gdy linie znajdują się poniżej tej wartości, oznacza to praktycznie brak mocy (duża szansa na błąd II rodzaju – nie wykrycie efektu, który istnieje)."
   ]
  }
 ],
 "metadata": {
  "kernelspec": {
   "display_name": "Python 3",
   "language": "python",
   "name": "python3"
  },
  "language_info": {
   "codemirror_mode": {
    "name": "ipython",
    "version": 3
   },
   "file_extension": ".py",
   "mimetype": "text/x-python",
   "name": "python",
   "nbconvert_exporter": "python",
   "pygments_lexer": "ipython3",
   "version": "3.10.11"
  }
 },
 "nbformat": 4,
 "nbformat_minor": 2
}
