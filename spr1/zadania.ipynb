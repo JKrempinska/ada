{
 "cells": [
  {
   "cell_type": "markdown",
   "metadata": {},
   "source": [
    "# Część I"
   ]
  },
  {
   "cell_type": "markdown",
   "metadata": {},
   "source": [
    "### Zadanie 1.\n"
   ]
  },
  {
   "cell_type": "code",
   "execution_count": 2,
   "metadata": {},
   "outputs": [],
   "source": [
    "import pandas as pd\n",
    "import matplotlib.pyplot as plt\n",
    "import numpy as np\n",
    "from statsmodels.graphics.mosaicplot import mosaic"
   ]
  },
  {
   "cell_type": "code",
   "execution_count": 3,
   "metadata": {},
   "outputs": [],
   "source": [
    "df = pd.read_csv('ankieta.csv', sep=';')"
   ]
  },
  {
   "cell_type": "code",
   "execution_count": 4,
   "metadata": {},
   "outputs": [
    {
     "name": "stdout",
     "output_type": "stream",
     "text": [
      "<class 'pandas.core.frame.DataFrame'>\n",
      "RangeIndex: 200 entries, 0 to 199\n",
      "Data columns (total 8 columns):\n",
      " #   Column    Non-Null Count  Dtype \n",
      "---  ------    --------------  ----- \n",
      " 0   DZIAL     200 non-null    object\n",
      " 1   STAZ      200 non-null    int64 \n",
      " 2   CZY_KIER  200 non-null    object\n",
      " 3   PYT_1     200 non-null    int64 \n",
      " 4   PYT_2     200 non-null    int64 \n",
      " 5   PYT_3     200 non-null    int64 \n",
      " 6   PLEC      200 non-null    object\n",
      " 7   WIEK      200 non-null    int64 \n",
      "dtypes: int64(5), object(3)\n",
      "memory usage: 12.6+ KB\n"
     ]
    }
   ],
   "source": [
    "df.info()"
   ]
  },
  {
   "cell_type": "code",
   "execution_count": 5,
   "metadata": {},
   "outputs": [
    {
     "name": "stdout",
     "output_type": "stream",
     "text": [
      "Index(['HR', 'IT', 'MK', 'PD'], dtype='object')\n"
     ]
    }
   ],
   "source": [
    "df['DZIAL'] = df['DZIAL'].astype('category')\n",
    "print(df['DZIAL'].cat.categories)"
   ]
  },
  {
   "cell_type": "code",
   "execution_count": 6,
   "metadata": {},
   "outputs": [
    {
     "name": "stdout",
     "output_type": "stream",
     "text": [
      "Index([1, 2, 3], dtype='int64')\n"
     ]
    }
   ],
   "source": [
    "df['STAZ'] = df['STAZ'].astype('category')\n",
    "print(df['STAZ'].cat.categories)"
   ]
  },
  {
   "cell_type": "code",
   "execution_count": 7,
   "metadata": {},
   "outputs": [
    {
     "name": "stdout",
     "output_type": "stream",
     "text": [
      "Index(['Nie', 'Tak'], dtype='object')\n"
     ]
    }
   ],
   "source": [
    "df['CZY_KIER'] = df['CZY_KIER'].astype('category')\n",
    "print(df['CZY_KIER'].cat.categories)"
   ]
  },
  {
   "cell_type": "code",
   "execution_count": 8,
   "metadata": {},
   "outputs": [
    {
     "name": "stdout",
     "output_type": "stream",
     "text": [
      "Index(['K', 'M'], dtype='object')\n"
     ]
    }
   ],
   "source": [
    "df['PLEC'] = df['PLEC'].astype('category')\n",
    "print(df['PLEC'].cat.categories)"
   ]
  },
  {
   "cell_type": "code",
   "execution_count": 9,
   "metadata": {},
   "outputs": [
    {
     "name": "stdout",
     "output_type": "stream",
     "text": [
      "Index(['<35', '36-45', '46-55', '>55'], dtype='object')\n",
      "<class 'pandas.core.frame.DataFrame'>\n",
      "RangeIndex: 200 entries, 0 to 199\n",
      "Data columns (total 9 columns):\n",
      " #   Column    Non-Null Count  Dtype   \n",
      "---  ------    --------------  -----   \n",
      " 0   DZIAL     200 non-null    category\n",
      " 1   STAZ      200 non-null    category\n",
      " 2   CZY_KIER  200 non-null    category\n",
      " 3   PYT_1     200 non-null    int64   \n",
      " 4   PYT_2     200 non-null    int64   \n",
      " 5   PYT_3     200 non-null    int64   \n",
      " 6   PLEC      200 non-null    category\n",
      " 7   WIEK      200 non-null    int64   \n",
      " 8   WIEK_KAT  200 non-null    category\n",
      "dtypes: category(5), int64(4)\n",
      "memory usage: 8.1 KB\n"
     ]
    }
   ],
   "source": [
    "bins = [0, 35, 45, 55, float('inf')]  \n",
    "labels = ['<35', '36-45', '46-55', '>55']\n",
    "\n",
    "df['WIEK_KAT'] = pd.cut(df['WIEK'], bins=bins, labels=labels, right=True)\n",
    "\n",
    "df['WIEK_KAT'] = df['WIEK_KAT'].astype('category')\n",
    "print(df['WIEK_KAT'].cat.categories)\n",
    "df.info()"
   ]
  },
  {
   "cell_type": "code",
   "execution_count": 10,
   "metadata": {},
   "outputs": [
    {
     "data": {
      "text/plain": [
       "DZIAL\n",
       "PD    98\n",
       "MK    45\n",
       "HR    31\n",
       "IT    26\n",
       "Name: count, dtype: int64"
      ]
     },
     "execution_count": 10,
     "metadata": {},
     "output_type": "execute_result"
    }
   ],
   "source": [
    "df['DZIAL'].value_counts()"
   ]
  },
  {
   "cell_type": "code",
   "execution_count": 11,
   "metadata": {},
   "outputs": [
    {
     "data": {
      "text/plain": [
       "STAZ\n",
       "2    140\n",
       "1     41\n",
       "3     19\n",
       "Name: count, dtype: int64"
      ]
     },
     "execution_count": 11,
     "metadata": {},
     "output_type": "execute_result"
    }
   ],
   "source": [
    "df['STAZ'].value_counts()"
   ]
  },
  {
   "cell_type": "code",
   "execution_count": 12,
   "metadata": {},
   "outputs": [
    {
     "data": {
      "text/plain": [
       "CZY_KIER\n",
       "Nie    173\n",
       "Tak     27\n",
       "Name: count, dtype: int64"
      ]
     },
     "execution_count": 12,
     "metadata": {},
     "output_type": "execute_result"
    }
   ],
   "source": [
    "df['CZY_KIER'].value_counts()"
   ]
  },
  {
   "cell_type": "code",
   "execution_count": 13,
   "metadata": {},
   "outputs": [
    {
     "data": {
      "text/plain": [
       "PLEC\n",
       "M    129\n",
       "K     71\n",
       "Name: count, dtype: int64"
      ]
     },
     "execution_count": 13,
     "metadata": {},
     "output_type": "execute_result"
    }
   ],
   "source": [
    "df['PLEC'].value_counts()"
   ]
  },
  {
   "cell_type": "code",
   "execution_count": 14,
   "metadata": {},
   "outputs": [
    {
     "data": {
      "text/plain": [
       "WIEK_KAT\n",
       "36-45    104\n",
       "46-55     45\n",
       "<35       26\n",
       ">55       25\n",
       "Name: count, dtype: int64"
      ]
     },
     "execution_count": 14,
     "metadata": {},
     "output_type": "execute_result"
    }
   ],
   "source": [
    "df['WIEK_KAT'].value_counts()"
   ]
  },
  {
   "cell_type": "code",
   "execution_count": 15,
   "metadata": {},
   "outputs": [
    {
     "data": {
      "text/plain": [
       "<AxesSubplot: xlabel='PYT_1'>"
      ]
     },
     "execution_count": 15,
     "metadata": {},
     "output_type": "execute_result"
    },
    {
     "data": {
      "image/png": "[encoded data removed]",
      "text/plain": [
       "<Figure size 640x480 with 1 Axes>"
      ]
     },
     "metadata": {},
     "output_type": "display_data"
    }
   ],
   "source": [
    "ft = df['PYT_1'].value_counts().sort_index()\n",
    "ft.plot(kind='bar')"
   ]
  },
  {
   "cell_type": "code",
   "execution_count": 16,
   "metadata": {},
   "outputs": [
    {
     "data": {
      "text/plain": [
       "<AxesSubplot: ylabel='count'>"
      ]
     },
     "execution_count": 16,
     "metadata": {},
     "output_type": "execute_result"
    },
    {
     "data": {
      "image/png": "[encoded data removed]",
      "text/plain": [
       "<Figure size 640x480 with 1 Axes>"
      ]
     },
     "metadata": {},
     "output_type": "display_data"
    }
   ],
   "source": [
    "ft.plot(kind='pie')"
   ]
  },
  {
   "cell_type": "code",
   "execution_count": 17,
   "metadata": {},
   "outputs": [
    {
     "data": {
      "text/plain": [
       "<AxesSubplot: xlabel='PYT_2'>"
      ]
     },
     "execution_count": 17,
     "metadata": {},
     "output_type": "execute_result"
    },
    {
     "data": {
      "image/png": "[encoded data removed]",
      "text/plain": [
       "<Figure size 640x480 with 1 Axes>"
      ]
     },
     "metadata": {},
     "output_type": "display_data"
    }
   ],
   "source": [
    "ft = df['PYT_2'].value_counts().sort_index()\n",
    "ft.plot(kind='bar')"
   ]
  },
  {
   "cell_type": "code",
   "execution_count": 18,
   "metadata": {},
   "outputs": [
    {
     "data": {
      "text/plain": [
       "<AxesSubplot: ylabel='count'>"
      ]
     },
     "execution_count": 18,
     "metadata": {},
     "output_type": "execute_result"
    },
    {
     "data": {
      "image/png": "[encoded data removed]",
      "text/plain": [
       "<Figure size 640x480 with 1 Axes>"
      ]
     },
     "metadata": {},
     "output_type": "display_data"
    }
   ],
   "source": [
    "ft.plot(kind='pie')"
   ]
  },
  {
   "cell_type": "code",
   "execution_count": 19,
   "metadata": {},
   "outputs": [
    {
     "data": {
      "text/html": [
       "<div>\n",
       "<style scoped>\n",
       "    .dataframe tbody tr th:only-of-type {\n",
       "        vertical-align: middle;\n",
       "    }\n",
       "\n",
       "    .dataframe tbody tr th {\n",
       "        vertical-align: top;\n",
       "    }\n",
       "\n",
       "    .dataframe thead th {\n",
       "        text-align: right;\n",
       "    }\n",
       "</style>\n",
       "<table border=\"1\" class=\"dataframe\">\n",
       "  <thead>\n",
       "    <tr style=\"text-align: right;\">\n",
       "      <th>DZIAL</th>\n",
       "      <th>HR</th>\n",
       "      <th>IT</th>\n",
       "      <th>MK</th>\n",
       "      <th>PD</th>\n",
       "    </tr>\n",
       "    <tr>\n",
       "      <th>PYT_1</th>\n",
       "      <th></th>\n",
       "      <th></th>\n",
       "      <th></th>\n",
       "      <th></th>\n",
       "    </tr>\n",
       "  </thead>\n",
       "  <tbody>\n",
       "    <tr>\n",
       "      <th>-2</th>\n",
       "      <td>2</td>\n",
       "      <td>0</td>\n",
       "      <td>3</td>\n",
       "      <td>9</td>\n",
       "    </tr>\n",
       "    <tr>\n",
       "      <th>-1</th>\n",
       "      <td>2</td>\n",
       "      <td>2</td>\n",
       "      <td>3</td>\n",
       "      <td>10</td>\n",
       "    </tr>\n",
       "    <tr>\n",
       "      <th>0</th>\n",
       "      <td>5</td>\n",
       "      <td>4</td>\n",
       "      <td>14</td>\n",
       "      <td>17</td>\n",
       "    </tr>\n",
       "    <tr>\n",
       "      <th>1</th>\n",
       "      <td>19</td>\n",
       "      <td>15</td>\n",
       "      <td>15</td>\n",
       "      <td>51</td>\n",
       "    </tr>\n",
       "    <tr>\n",
       "      <th>2</th>\n",
       "      <td>3</td>\n",
       "      <td>5</td>\n",
       "      <td>10</td>\n",
       "      <td>11</td>\n",
       "    </tr>\n",
       "  </tbody>\n",
       "</table>\n",
       "</div>"
      ],
      "text/plain": [
       "DZIAL  HR  IT  MK  PD\n",
       "PYT_1                \n",
       "-2      2   0   3   9\n",
       "-1      2   2   3  10\n",
       " 0      5   4  14  17\n",
       " 1     19  15  15  51\n",
       " 2      3   5  10  11"
      ]
     },
     "execution_count": 19,
     "metadata": {},
     "output_type": "execute_result"
    }
   ],
   "source": [
    "pd.crosstab(df['PYT_1'], df['DZIAL'])"
   ]
  },
  {
   "cell_type": "code",
   "execution_count": 20,
   "metadata": {},
   "outputs": [
    {
     "data": {
      "text/html": [
       "<div>\n",
       "<style scoped>\n",
       "    .dataframe tbody tr th:only-of-type {\n",
       "        vertical-align: middle;\n",
       "    }\n",
       "\n",
       "    .dataframe tbody tr th {\n",
       "        vertical-align: top;\n",
       "    }\n",
       "\n",
       "    .dataframe thead th {\n",
       "        text-align: right;\n",
       "    }\n",
       "</style>\n",
       "<table border=\"1\" class=\"dataframe\">\n",
       "  <thead>\n",
       "    <tr style=\"text-align: right;\">\n",
       "      <th>STAZ</th>\n",
       "      <th>1</th>\n",
       "      <th>2</th>\n",
       "      <th>3</th>\n",
       "    </tr>\n",
       "    <tr>\n",
       "      <th>PYT_1</th>\n",
       "      <th></th>\n",
       "      <th></th>\n",
       "      <th></th>\n",
       "    </tr>\n",
       "  </thead>\n",
       "  <tbody>\n",
       "    <tr>\n",
       "      <th>-2</th>\n",
       "      <td>5</td>\n",
       "      <td>5</td>\n",
       "      <td>4</td>\n",
       "    </tr>\n",
       "    <tr>\n",
       "      <th>-1</th>\n",
       "      <td>6</td>\n",
       "      <td>10</td>\n",
       "      <td>1</td>\n",
       "    </tr>\n",
       "    <tr>\n",
       "      <th>0</th>\n",
       "      <td>8</td>\n",
       "      <td>26</td>\n",
       "      <td>6</td>\n",
       "    </tr>\n",
       "    <tr>\n",
       "      <th>1</th>\n",
       "      <td>19</td>\n",
       "      <td>75</td>\n",
       "      <td>6</td>\n",
       "    </tr>\n",
       "    <tr>\n",
       "      <th>2</th>\n",
       "      <td>3</td>\n",
       "      <td>24</td>\n",
       "      <td>2</td>\n",
       "    </tr>\n",
       "  </tbody>\n",
       "</table>\n",
       "</div>"
      ],
      "text/plain": [
       "STAZ    1   2  3\n",
       "PYT_1           \n",
       "-2      5   5  4\n",
       "-1      6  10  1\n",
       " 0      8  26  6\n",
       " 1     19  75  6\n",
       " 2      3  24  2"
      ]
     },
     "execution_count": 20,
     "metadata": {},
     "output_type": "execute_result"
    }
   ],
   "source": [
    "pd.crosstab(df['PYT_1'], df['STAZ'])"
   ]
  },
  {
   "cell_type": "code",
   "execution_count": 21,
   "metadata": {},
   "outputs": [
    {
     "data": {
      "text/html": [
       "<div>\n",
       "<style scoped>\n",
       "    .dataframe tbody tr th:only-of-type {\n",
       "        vertical-align: middle;\n",
       "    }\n",
       "\n",
       "    .dataframe tbody tr th {\n",
       "        vertical-align: top;\n",
       "    }\n",
       "\n",
       "    .dataframe thead th {\n",
       "        text-align: right;\n",
       "    }\n",
       "</style>\n",
       "<table border=\"1\" class=\"dataframe\">\n",
       "  <thead>\n",
       "    <tr style=\"text-align: right;\">\n",
       "      <th>CZY_KIER</th>\n",
       "      <th>Nie</th>\n",
       "      <th>Tak</th>\n",
       "    </tr>\n",
       "    <tr>\n",
       "      <th>PYT_1</th>\n",
       "      <th></th>\n",
       "      <th></th>\n",
       "    </tr>\n",
       "  </thead>\n",
       "  <tbody>\n",
       "    <tr>\n",
       "      <th>-2</th>\n",
       "      <td>10</td>\n",
       "      <td>4</td>\n",
       "    </tr>\n",
       "    <tr>\n",
       "      <th>-1</th>\n",
       "      <td>14</td>\n",
       "      <td>3</td>\n",
       "    </tr>\n",
       "    <tr>\n",
       "      <th>0</th>\n",
       "      <td>34</td>\n",
       "      <td>6</td>\n",
       "    </tr>\n",
       "    <tr>\n",
       "      <th>1</th>\n",
       "      <td>88</td>\n",
       "      <td>12</td>\n",
       "    </tr>\n",
       "    <tr>\n",
       "      <th>2</th>\n",
       "      <td>27</td>\n",
       "      <td>2</td>\n",
       "    </tr>\n",
       "  </tbody>\n",
       "</table>\n",
       "</div>"
      ],
      "text/plain": [
       "CZY_KIER  Nie  Tak\n",
       "PYT_1             \n",
       "-2         10    4\n",
       "-1         14    3\n",
       " 0         34    6\n",
       " 1         88   12\n",
       " 2         27    2"
      ]
     },
     "execution_count": 21,
     "metadata": {},
     "output_type": "execute_result"
    }
   ],
   "source": [
    "pd.crosstab(df['PYT_1'], df['CZY_KIER'])"
   ]
  },
  {
   "cell_type": "code",
   "execution_count": 22,
   "metadata": {},
   "outputs": [
    {
     "data": {
      "text/html": [
       "<div>\n",
       "<style scoped>\n",
       "    .dataframe tbody tr th:only-of-type {\n",
       "        vertical-align: middle;\n",
       "    }\n",
       "\n",
       "    .dataframe tbody tr th {\n",
       "        vertical-align: top;\n",
       "    }\n",
       "\n",
       "    .dataframe thead th {\n",
       "        text-align: right;\n",
       "    }\n",
       "</style>\n",
       "<table border=\"1\" class=\"dataframe\">\n",
       "  <thead>\n",
       "    <tr style=\"text-align: right;\">\n",
       "      <th>PLEC</th>\n",
       "      <th>K</th>\n",
       "      <th>M</th>\n",
       "    </tr>\n",
       "    <tr>\n",
       "      <th>PYT_1</th>\n",
       "      <th></th>\n",
       "      <th></th>\n",
       "    </tr>\n",
       "  </thead>\n",
       "  <tbody>\n",
       "    <tr>\n",
       "      <th>-2</th>\n",
       "      <td>3</td>\n",
       "      <td>11</td>\n",
       "    </tr>\n",
       "    <tr>\n",
       "      <th>-1</th>\n",
       "      <td>7</td>\n",
       "      <td>10</td>\n",
       "    </tr>\n",
       "    <tr>\n",
       "      <th>0</th>\n",
       "      <td>14</td>\n",
       "      <td>26</td>\n",
       "    </tr>\n",
       "    <tr>\n",
       "      <th>1</th>\n",
       "      <td>36</td>\n",
       "      <td>64</td>\n",
       "    </tr>\n",
       "    <tr>\n",
       "      <th>2</th>\n",
       "      <td>11</td>\n",
       "      <td>18</td>\n",
       "    </tr>\n",
       "  </tbody>\n",
       "</table>\n",
       "</div>"
      ],
      "text/plain": [
       "PLEC    K   M\n",
       "PYT_1        \n",
       "-2      3  11\n",
       "-1      7  10\n",
       " 0     14  26\n",
       " 1     36  64\n",
       " 2     11  18"
      ]
     },
     "execution_count": 22,
     "metadata": {},
     "output_type": "execute_result"
    }
   ],
   "source": [
    "pd.crosstab(df['PYT_1'], df['PLEC'])"
   ]
  },
  {
   "cell_type": "code",
   "execution_count": 23,
   "metadata": {},
   "outputs": [
    {
     "data": {
      "text/html": [
       "<div>\n",
       "<style scoped>\n",
       "    .dataframe tbody tr th:only-of-type {\n",
       "        vertical-align: middle;\n",
       "    }\n",
       "\n",
       "    .dataframe tbody tr th {\n",
       "        vertical-align: top;\n",
       "    }\n",
       "\n",
       "    .dataframe thead th {\n",
       "        text-align: right;\n",
       "    }\n",
       "</style>\n",
       "<table border=\"1\" class=\"dataframe\">\n",
       "  <thead>\n",
       "    <tr style=\"text-align: right;\">\n",
       "      <th>WIEK_KAT</th>\n",
       "      <th>&lt;35</th>\n",
       "      <th>36-45</th>\n",
       "      <th>46-55</th>\n",
       "      <th>&gt;55</th>\n",
       "    </tr>\n",
       "    <tr>\n",
       "      <th>PYT_1</th>\n",
       "      <th></th>\n",
       "      <th></th>\n",
       "      <th></th>\n",
       "      <th></th>\n",
       "    </tr>\n",
       "  </thead>\n",
       "  <tbody>\n",
       "    <tr>\n",
       "      <th>-2</th>\n",
       "      <td>1</td>\n",
       "      <td>11</td>\n",
       "      <td>2</td>\n",
       "      <td>0</td>\n",
       "    </tr>\n",
       "    <tr>\n",
       "      <th>-1</th>\n",
       "      <td>6</td>\n",
       "      <td>7</td>\n",
       "      <td>1</td>\n",
       "      <td>3</td>\n",
       "    </tr>\n",
       "    <tr>\n",
       "      <th>0</th>\n",
       "      <td>3</td>\n",
       "      <td>24</td>\n",
       "      <td>5</td>\n",
       "      <td>8</td>\n",
       "    </tr>\n",
       "    <tr>\n",
       "      <th>1</th>\n",
       "      <td>13</td>\n",
       "      <td>50</td>\n",
       "      <td>25</td>\n",
       "      <td>12</td>\n",
       "    </tr>\n",
       "    <tr>\n",
       "      <th>2</th>\n",
       "      <td>3</td>\n",
       "      <td>12</td>\n",
       "      <td>12</td>\n",
       "      <td>2</td>\n",
       "    </tr>\n",
       "  </tbody>\n",
       "</table>\n",
       "</div>"
      ],
      "text/plain": [
       "WIEK_KAT  <35  36-45  46-55  >55\n",
       "PYT_1                           \n",
       "-2          1     11      2    0\n",
       "-1          6      7      1    3\n",
       " 0          3     24      5    8\n",
       " 1         13     50     25   12\n",
       " 2          3     12     12    2"
      ]
     },
     "execution_count": 23,
     "metadata": {},
     "output_type": "execute_result"
    }
   ],
   "source": [
    "pd.crosstab(df['PYT_1'], df['WIEK_KAT'])"
   ]
  },
  {
   "cell_type": "code",
   "execution_count": 24,
   "metadata": {},
   "outputs": [
    {
     "data": {
      "text/html": [
       "<div>\n",
       "<style scoped>\n",
       "    .dataframe tbody tr th:only-of-type {\n",
       "        vertical-align: middle;\n",
       "    }\n",
       "\n",
       "    .dataframe tbody tr th {\n",
       "        vertical-align: top;\n",
       "    }\n",
       "\n",
       "    .dataframe thead th {\n",
       "        text-align: right;\n",
       "    }\n",
       "</style>\n",
       "<table border=\"1\" class=\"dataframe\">\n",
       "  <thead>\n",
       "    <tr style=\"text-align: right;\">\n",
       "      <th>PYT_3</th>\n",
       "      <th>-2</th>\n",
       "      <th>-1</th>\n",
       "      <th>1</th>\n",
       "      <th>2</th>\n",
       "    </tr>\n",
       "    <tr>\n",
       "      <th>PYT_2</th>\n",
       "      <th></th>\n",
       "      <th></th>\n",
       "      <th></th>\n",
       "      <th></th>\n",
       "    </tr>\n",
       "  </thead>\n",
       "  <tbody>\n",
       "    <tr>\n",
       "      <th>-2</th>\n",
       "      <td>49</td>\n",
       "      <td>16</td>\n",
       "      <td>5</td>\n",
       "      <td>4</td>\n",
       "    </tr>\n",
       "    <tr>\n",
       "      <th>-1</th>\n",
       "      <td>3</td>\n",
       "      <td>6</td>\n",
       "      <td>10</td>\n",
       "      <td>1</td>\n",
       "    </tr>\n",
       "    <tr>\n",
       "      <th>1</th>\n",
       "      <td>0</td>\n",
       "      <td>0</td>\n",
       "      <td>2</td>\n",
       "      <td>0</td>\n",
       "    </tr>\n",
       "    <tr>\n",
       "      <th>2</th>\n",
       "      <td>0</td>\n",
       "      <td>8</td>\n",
       "      <td>15</td>\n",
       "      <td>81</td>\n",
       "    </tr>\n",
       "  </tbody>\n",
       "</table>\n",
       "</div>"
      ],
      "text/plain": [
       "PYT_3  -2  -1   1   2\n",
       "PYT_2                \n",
       "-2     49  16   5   4\n",
       "-1      3   6  10   1\n",
       " 1      0   0   2   0\n",
       " 2      0   8  15  81"
      ]
     },
     "execution_count": 24,
     "metadata": {},
     "output_type": "execute_result"
    }
   ],
   "source": [
    "pd.crosstab(df['PYT_2'], df['PYT_3'])"
   ]
  },
  {
   "cell_type": "code",
   "execution_count": 25,
   "metadata": {},
   "outputs": [
    {
     "name": "stdout",
     "output_type": "stream",
     "text": [
      "Index(['nie zgadzam się', 'zdecydowanie się nie zgadzam',\n",
      "       'zdecydowanie się zgadzam', 'zgadzam się'],\n",
      "      dtype='object')\n",
      "<class 'pandas.core.frame.DataFrame'>\n",
      "RangeIndex: 200 entries, 0 to 199\n",
      "Data columns (total 10 columns):\n",
      " #   Column     Non-Null Count  Dtype   \n",
      "---  ------     --------------  -----   \n",
      " 0   DZIAL      200 non-null    category\n",
      " 1   STAZ       200 non-null    category\n",
      " 2   CZY_KIER   200 non-null    category\n",
      " 3   PYT_1      200 non-null    int64   \n",
      " 4   PYT_2      200 non-null    int64   \n",
      " 5   PYT_3      200 non-null    int64   \n",
      " 6   PLEC       200 non-null    category\n",
      " 7   WIEK       200 non-null    int64   \n",
      " 8   WIEK_KAT   200 non-null    category\n",
      " 9   CZY_ZADOW  200 non-null    category\n",
      "dtypes: category(6), int64(4)\n",
      "memory usage: 8.5 KB\n"
     ]
    }
   ],
   "source": [
    "labels = ['zdecydowanie się nie zgadzam', 'nie zgadzam się', 'zgadzam się', 'zdecydowanie się zgadzam']  \n",
    "\n",
    "conditions = [\n",
    "    (df['PYT_2'] == -2), \n",
    "    (df['PYT_2'] == -1),  \n",
    "    (df['PYT_2'] == 1),   \n",
    "    (df['PYT_2'] == 2)   \n",
    "]\n",
    "\n",
    "df['CZY_ZADOW'] = np.select(conditions, labels, default='Nieokreślone')\n",
    "df['CZY_ZADOW'] = df['CZY_ZADOW'].astype('category')\n",
    "print(df['CZY_ZADOW'].cat.categories)\n",
    "df.info()"
   ]
  },
  {
   "cell_type": "code",
   "execution_count": 26,
   "metadata": {},
   "outputs": [
    {
     "data": {
      "image/png": "[encoded data removed]",
      "text/plain": [
       "<Figure size 640x480 with 1 Axes>"
      ]
     },
     "metadata": {},
     "output_type": "display_data"
    }
   ],
   "source": [
    "fig = mosaic(df, ['CZY_ZADOW', 'DZIAL'], axes_label=False)[0]\n",
    "plt.show()"
   ]
  },
  {
   "cell_type": "code",
   "execution_count": 27,
   "metadata": {},
   "outputs": [
    {
     "data": {
      "image/png": "[encoded data removed]",
      "text/plain": [
       "<Figure size 640x480 with 1 Axes>"
      ]
     },
     "metadata": {},
     "output_type": "display_data"
    }
   ],
   "source": [
    "mosaic(df, ['CZY_ZADOW', 'STAZ'], axes_label=False)\n",
    "plt.show()"
   ]
  },
  {
   "cell_type": "code",
   "execution_count": 28,
   "metadata": {},
   "outputs": [
    {
     "data": {
      "image/png": "[encoded data removed]",
      "text/plain": [
       "<Figure size 640x480 with 1 Axes>"
      ]
     },
     "metadata": {},
     "output_type": "display_data"
    }
   ],
   "source": [
    "mosaic(df, ['CZY_ZADOW', 'CZY_KIER'], axes_label=False)\n",
    "plt.show()"
   ]
  },
  {
   "cell_type": "code",
   "execution_count": 29,
   "metadata": {},
   "outputs": [
    {
     "data": {
      "image/png": "[encoded data removed]",
      "text/plain": [
       "<Figure size 640x480 with 1 Axes>"
      ]
     },
     "metadata": {},
     "output_type": "display_data"
    }
   ],
   "source": [
    "mosaic(df, ['CZY_ZADOW', 'PLEC'], axes_label=False)\n",
    "plt.show()"
   ]
  },
  {
   "cell_type": "code",
   "execution_count": 30,
   "metadata": {},
   "outputs": [
    {
     "data": {
      "image/png": "[encoded data removed]",
      "text/plain": [
       "<Figure size 640x480 with 1 Axes>"
      ]
     },
     "metadata": {},
     "output_type": "display_data"
    }
   ],
   "source": [
    "mosaic(df, ['CZY_ZADOW', 'WIEK_KAT'], axes_label=False)\n",
    "plt.show()"
   ]
  },
  {
   "cell_type": "markdown",
   "metadata": {},
   "source": [
    "# Część II"
   ]
  },
  {
   "cell_type": "markdown",
   "metadata": {},
   "source": [
    "### Zadanie 2."
   ]
  },
  {
   "cell_type": "code",
   "execution_count": 36,
   "metadata": {},
   "outputs": [],
   "source": [
    "import altair as alt"
   ]
  },
  {
   "cell_type": "code",
   "execution_count": 53,
   "metadata": {},
   "outputs": [
    {
     "name": "stderr",
     "output_type": "stream",
     "text": [
      "C:\\Users\\julka\\AppData\\Local\\Temp\\ipykernel_3272\\2964558530.py:10: SettingWithCopyWarning: \n",
      "A value is trying to be set on a copy of a slice from a DataFrame.\n",
      "Try using .loc[row_indexer,col_indexer] = value instead\n",
      "\n",
      "See the caveats in the documentation: https://pandas.pydata.org/pandas-docs/stable/user_guide/indexing.html#returning-a-view-versus-a-copy\n",
      "  df1['PYT_1_label'] = df1['PYT_1'].map(labels)\n"
     ]
    },
    {
     "data": {
      "text/html": [
       "\n",
       "<style>\n",
       "  #altair-viz-fe80a9ad28954cd8afd820c9ffc972d7.vega-embed {\n",
       "    width: 100%;\n",
       "    display: flex;\n",
       "  }\n",
       "\n",
       "  #altair-viz-fe80a9ad28954cd8afd820c9ffc972d7.vega-embed details,\n",
       "  #altair-viz-fe80a9ad28954cd8afd820c9ffc972d7.vega-embed details summary {\n",
       "    position: relative;\n",
       "  }\n",
       "</style>\n",
       "<div id=\"altair-viz-fe80a9ad28954cd8afd820c9ffc972d7\"></div>\n",
       "<script type=\"text/javascript\">\n",
       "  var VEGA_DEBUG = (typeof VEGA_DEBUG == \"undefined\") ? {} : VEGA_DEBUG;\n",
       "  (function(spec, embedOpt){\n",
       "    let outputDiv = document.currentScript.previousElementSibling;\n",
       "    if (outputDiv.id !== \"altair-viz-fe80a9ad28954cd8afd820c9ffc972d7\") {\n",
       "      outputDiv = document.getElementById(\"altair-viz-fe80a9ad28954cd8afd820c9ffc972d7\");\n",
       "    }\n",
       "\n",
       "    const paths = {\n",
       "      \"vega\": \"https://cdn.jsdelivr.net/npm/vega@5?noext\",\n",
       "      \"vega-lib\": \"https://cdn.jsdelivr.net/npm/vega-lib?noext\",\n",
       "      \"vega-lite\": \"https://cdn.jsdelivr.net/npm/vega-lite@5.20.1?noext\",\n",
       "      \"vega-embed\": \"https://cdn.jsdelivr.net/npm/vega-embed@6?noext\",\n",
       "    };\n",
       "\n",
       "    function maybeLoadScript(lib, version) {\n",
       "      var key = `${lib.replace(\"-\", \"\")}_version`;\n",
       "      return (VEGA_DEBUG[key] == version) ?\n",
       "        Promise.resolve(paths[lib]) :\n",
       "        new Promise(function(resolve, reject) {\n",
       "          var s = document.createElement('script');\n",
       "          document.getElementsByTagName(\"head\")[0].appendChild(s);\n",
       "          s.async = true;\n",
       "          s.onload = () => {\n",
       "            VEGA_DEBUG[key] = version;\n",
       "            return resolve(paths[lib]);\n",
       "          };\n",
       "          s.onerror = () => reject(`Error loading script: ${paths[lib]}`);\n",
       "          s.src = paths[lib];\n",
       "        });\n",
       "    }\n",
       "\n",
       "    function showError(err) {\n",
       "      outputDiv.innerHTML = `<div class=\"error\" style=\"color:red;\">${err}</div>`;\n",
       "      throw err;\n",
       "    }\n",
       "\n",
       "    function displayChart(vegaEmbed) {\n",
       "      vegaEmbed(outputDiv, spec, embedOpt)\n",
       "        .catch(err => showError(`Javascript Error: ${err.message}<br>This usually means there's a typo in your chart specification. See the javascript console for the full traceback.`));\n",
       "    }\n",
       "\n",
       "    if(typeof define === \"function\" && define.amd) {\n",
       "      requirejs.config({paths});\n",
       "      let deps = [\"vega-embed\"];\n",
       "      require(deps, displayChart, err => showError(`Error loading script: ${err.message}`));\n",
       "    } else {\n",
       "      maybeLoadScript(\"vega\", \"5\")\n",
       "        .then(() => maybeLoadScript(\"vega-lite\", \"5.20.1\"))\n",
       "        .then(() => maybeLoadScript(\"vega-embed\", \"6\"))\n",
       "        .catch(showError)\n",
       "        .then(() => displayChart(vegaEmbed));\n",
       "    }\n",
       "  })({\"config\": {\"view\": {\"continuousWidth\": 300, \"continuousHeight\": 300}}, \"hconcat\": [{\"mark\": {\"type\": \"bar\"}, \"encoding\": {\"tooltip\": [{\"aggregate\": \"count\", \"type\": \"quantitative\"}], \"x\": {\"field\": \"PYT_1_label\", \"sort\": [\"Zdecydowanie si\\u0119 nie zgadzam\", \"Nie zgadzam si\\u0119\", \"Neutralnie\", \"Zgadzam si\\u0119\", \"Zdecydowanie si\\u0119 zgadzam\"], \"title\": \"Ocena\", \"type\": \"ordinal\"}, \"y\": {\"aggregate\": \"count\", \"title\": \"Liczba odpowiedzi\", \"type\": \"quantitative\"}}, \"title\": \"Rozk\\u0142ad odpowiedzi w ca\\u0142ej grupie\"}, {\"mark\": {\"type\": \"bar\"}, \"encoding\": {\"color\": {\"field\": \"CZY_KIER\", \"type\": \"nominal\"}, \"column\": {\"field\": \"CZY_KIER\", \"title\": \"Czy kierownik?\", \"type\": \"nominal\"}, \"tooltip\": [{\"aggregate\": \"count\", \"type\": \"quantitative\"}], \"x\": {\"field\": \"PYT_1_label\", \"sort\": [\"Zdecydowanie si\\u0119 nie zgadzam\", \"Nie zgadzam si\\u0119\", \"Neutralnie\", \"Zgadzam si\\u0119\", \"Zdecydowanie si\\u0119 zgadzam\"], \"title\": \"Ocena\", \"type\": \"ordinal\"}, \"y\": {\"aggregate\": \"count\", \"title\": \"Liczba odpowiedzi\", \"type\": \"quantitative\"}}, \"title\": \"Rozk\\u0142ad odpowiedzi w podgrupach\"}], \"data\": {\"name\": \"data-0cd4418646f43e3300bd231f56f275b4\"}, \"$schema\": \"https://vega.github.io/schema/vega-lite/v5.20.1.json\", \"datasets\": {\"data-0cd4418646f43e3300bd231f56f275b4\": [{\"PYT_1\": 1, \"CZY_KIER\": \"Nie\", \"PYT_1_label\": \"Zgadzam si\\u0119\"}, {\"PYT_1\": 0, \"CZY_KIER\": \"Nie\", \"PYT_1_label\": \"Neutralnie\"}, {\"PYT_1\": 1, \"CZY_KIER\": \"Nie\", \"PYT_1_label\": \"Zgadzam si\\u0119\"}, {\"PYT_1\": -1, \"CZY_KIER\": \"Nie\", \"PYT_1_label\": \"Nie zgadzam si\\u0119\"}, {\"PYT_1\": 1, \"CZY_KIER\": \"Tak\", \"PYT_1_label\": \"Zgadzam si\\u0119\"}, {\"PYT_1\": 0, \"CZY_KIER\": \"Tak\", \"PYT_1_label\": \"Neutralnie\"}, {\"PYT_1\": 2, \"CZY_KIER\": \"Tak\", \"PYT_1_label\": \"Zdecydowanie si\\u0119 zgadzam\"}, {\"PYT_1\": 1, \"CZY_KIER\": \"Tak\", \"PYT_1_label\": \"Zgadzam si\\u0119\"}, {\"PYT_1\": 1, \"CZY_KIER\": \"Nie\", \"PYT_1_label\": \"Zgadzam si\\u0119\"}, {\"PYT_1\": 2, \"CZY_KIER\": \"Nie\", \"PYT_1_label\": \"Zdecydowanie si\\u0119 zgadzam\"}, {\"PYT_1\": 2, \"CZY_KIER\": \"Nie\", \"PYT_1_label\": \"Zdecydowanie si\\u0119 zgadzam\"}, {\"PYT_1\": 2, \"CZY_KIER\": \"Nie\", \"PYT_1_label\": \"Zdecydowanie si\\u0119 zgadzam\"}, {\"PYT_1\": 1, \"CZY_KIER\": \"Tak\", \"PYT_1_label\": \"Zgadzam si\\u0119\"}, {\"PYT_1\": 1, \"CZY_KIER\": \"Nie\", \"PYT_1_label\": \"Zgadzam si\\u0119\"}, {\"PYT_1\": 0, \"CZY_KIER\": \"Nie\", \"PYT_1_label\": \"Neutralnie\"}, {\"PYT_1\": 1, \"CZY_KIER\": \"Nie\", \"PYT_1_label\": \"Zgadzam si\\u0119\"}, {\"PYT_1\": 0, \"CZY_KIER\": \"Nie\", \"PYT_1_label\": \"Neutralnie\"}, {\"PYT_1\": 1, \"CZY_KIER\": \"Nie\", \"PYT_1_label\": \"Zgadzam si\\u0119\"}, {\"PYT_1\": 1, \"CZY_KIER\": \"Nie\", \"PYT_1_label\": \"Zgadzam si\\u0119\"}, {\"PYT_1\": 1, \"CZY_KIER\": \"Nie\", \"PYT_1_label\": \"Zgadzam si\\u0119\"}, {\"PYT_1\": 1, \"CZY_KIER\": \"Nie\", \"PYT_1_label\": \"Zgadzam si\\u0119\"}, {\"PYT_1\": 1, \"CZY_KIER\": \"Nie\", \"PYT_1_label\": \"Zgadzam si\\u0119\"}, {\"PYT_1\": -1, \"CZY_KIER\": \"Nie\", \"PYT_1_label\": \"Nie zgadzam si\\u0119\"}, {\"PYT_1\": 2, \"CZY_KIER\": \"Nie\", \"PYT_1_label\": \"Zdecydowanie si\\u0119 zgadzam\"}, {\"PYT_1\": 1, \"CZY_KIER\": \"Nie\", \"PYT_1_label\": \"Zgadzam si\\u0119\"}, {\"PYT_1\": 1, \"CZY_KIER\": \"Nie\", \"PYT_1_label\": \"Zgadzam si\\u0119\"}, {\"PYT_1\": 1, \"CZY_KIER\": \"Tak\", \"PYT_1_label\": \"Zgadzam si\\u0119\"}, {\"PYT_1\": 1, \"CZY_KIER\": \"Nie\", \"PYT_1_label\": \"Zgadzam si\\u0119\"}, {\"PYT_1\": -1, \"CZY_KIER\": \"Nie\", \"PYT_1_label\": \"Nie zgadzam si\\u0119\"}, {\"PYT_1\": 0, \"CZY_KIER\": \"Nie\", \"PYT_1_label\": \"Neutralnie\"}, {\"PYT_1\": 1, \"CZY_KIER\": \"Nie\", \"PYT_1_label\": \"Zgadzam si\\u0119\"}, {\"PYT_1\": 0, \"CZY_KIER\": \"Nie\", \"PYT_1_label\": \"Neutralnie\"}, {\"PYT_1\": 1, \"CZY_KIER\": \"Nie\", \"PYT_1_label\": \"Zgadzam si\\u0119\"}, {\"PYT_1\": -1, \"CZY_KIER\": \"Nie\", \"PYT_1_label\": \"Nie zgadzam si\\u0119\"}, {\"PYT_1\": -1, \"CZY_KIER\": \"Nie\", \"PYT_1_label\": \"Nie zgadzam si\\u0119\"}, {\"PYT_1\": -2, \"CZY_KIER\": \"Nie\", \"PYT_1_label\": \"Zdecydowanie si\\u0119 nie zgadzam\"}, {\"PYT_1\": 2, \"CZY_KIER\": \"Nie\", \"PYT_1_label\": \"Zdecydowanie si\\u0119 zgadzam\"}, {\"PYT_1\": 0, \"CZY_KIER\": \"Nie\", \"PYT_1_label\": \"Neutralnie\"}, {\"PYT_1\": 1, \"CZY_KIER\": \"Nie\", \"PYT_1_label\": \"Zgadzam si\\u0119\"}, {\"PYT_1\": 0, \"CZY_KIER\": \"Nie\", \"PYT_1_label\": \"Neutralnie\"}, {\"PYT_1\": 1, \"CZY_KIER\": \"Nie\", \"PYT_1_label\": \"Zgadzam si\\u0119\"}, {\"PYT_1\": 1, \"CZY_KIER\": \"Nie\", \"PYT_1_label\": \"Zgadzam si\\u0119\"}, {\"PYT_1\": 1, \"CZY_KIER\": \"Nie\", \"PYT_1_label\": \"Zgadzam si\\u0119\"}, {\"PYT_1\": -2, \"CZY_KIER\": \"Tak\", \"PYT_1_label\": \"Zdecydowanie si\\u0119 nie zgadzam\"}, {\"PYT_1\": 1, \"CZY_KIER\": \"Nie\", \"PYT_1_label\": \"Zgadzam si\\u0119\"}, {\"PYT_1\": -2, \"CZY_KIER\": \"Nie\", \"PYT_1_label\": \"Zdecydowanie si\\u0119 nie zgadzam\"}, {\"PYT_1\": 1, \"CZY_KIER\": \"Nie\", \"PYT_1_label\": \"Zgadzam si\\u0119\"}, {\"PYT_1\": 0, \"CZY_KIER\": \"Nie\", \"PYT_1_label\": \"Neutralnie\"}, {\"PYT_1\": -2, \"CZY_KIER\": \"Tak\", \"PYT_1_label\": \"Zdecydowanie si\\u0119 nie zgadzam\"}, {\"PYT_1\": 1, \"CZY_KIER\": \"Nie\", \"PYT_1_label\": \"Zgadzam si\\u0119\"}, {\"PYT_1\": -2, \"CZY_KIER\": \"Nie\", \"PYT_1_label\": \"Zdecydowanie si\\u0119 nie zgadzam\"}, {\"PYT_1\": 2, \"CZY_KIER\": \"Nie\", \"PYT_1_label\": \"Zdecydowanie si\\u0119 zgadzam\"}, {\"PYT_1\": 1, \"CZY_KIER\": \"Nie\", \"PYT_1_label\": \"Zgadzam si\\u0119\"}, {\"PYT_1\": 0, \"CZY_KIER\": \"Nie\", \"PYT_1_label\": \"Neutralnie\"}, {\"PYT_1\": 0, \"CZY_KIER\": \"Nie\", \"PYT_1_label\": \"Neutralnie\"}, {\"PYT_1\": 2, \"CZY_KIER\": \"Nie\", \"PYT_1_label\": \"Zdecydowanie si\\u0119 zgadzam\"}, {\"PYT_1\": 1, \"CZY_KIER\": \"Nie\", \"PYT_1_label\": \"Zgadzam si\\u0119\"}, {\"PYT_1\": 1, \"CZY_KIER\": \"Nie\", \"PYT_1_label\": \"Zgadzam si\\u0119\"}, {\"PYT_1\": 1, \"CZY_KIER\": \"Nie\", \"PYT_1_label\": \"Zgadzam si\\u0119\"}, {\"PYT_1\": 1, \"CZY_KIER\": \"Nie\", \"PYT_1_label\": \"Zgadzam si\\u0119\"}, {\"PYT_1\": 1, \"CZY_KIER\": \"Nie\", \"PYT_1_label\": \"Zgadzam si\\u0119\"}, {\"PYT_1\": 2, \"CZY_KIER\": \"Nie\", \"PYT_1_label\": \"Zdecydowanie si\\u0119 zgadzam\"}, {\"PYT_1\": 2, \"CZY_KIER\": \"Nie\", \"PYT_1_label\": \"Zdecydowanie si\\u0119 zgadzam\"}, {\"PYT_1\": 2, \"CZY_KIER\": \"Nie\", \"PYT_1_label\": \"Zdecydowanie si\\u0119 zgadzam\"}, {\"PYT_1\": 0, \"CZY_KIER\": \"Tak\", \"PYT_1_label\": \"Neutralnie\"}, {\"PYT_1\": 1, \"CZY_KIER\": \"Nie\", \"PYT_1_label\": \"Zgadzam si\\u0119\"}, {\"PYT_1\": 1, \"CZY_KIER\": \"Nie\", \"PYT_1_label\": \"Zgadzam si\\u0119\"}, {\"PYT_1\": 1, \"CZY_KIER\": \"Nie\", \"PYT_1_label\": \"Zgadzam si\\u0119\"}, {\"PYT_1\": -1, \"CZY_KIER\": \"Nie\", \"PYT_1_label\": \"Nie zgadzam si\\u0119\"}, {\"PYT_1\": -1, \"CZY_KIER\": \"Tak\", \"PYT_1_label\": \"Nie zgadzam si\\u0119\"}, {\"PYT_1\": 1, \"CZY_KIER\": \"Nie\", \"PYT_1_label\": \"Zgadzam si\\u0119\"}, {\"PYT_1\": 2, \"CZY_KIER\": \"Nie\", \"PYT_1_label\": \"Zdecydowanie si\\u0119 zgadzam\"}, {\"PYT_1\": 1, \"CZY_KIER\": \"Nie\", \"PYT_1_label\": \"Zgadzam si\\u0119\"}, {\"PYT_1\": 2, \"CZY_KIER\": \"Nie\", \"PYT_1_label\": \"Zdecydowanie si\\u0119 zgadzam\"}, {\"PYT_1\": 1, \"CZY_KIER\": \"Nie\", \"PYT_1_label\": \"Zgadzam si\\u0119\"}, {\"PYT_1\": 1, \"CZY_KIER\": \"Nie\", \"PYT_1_label\": \"Zgadzam si\\u0119\"}, {\"PYT_1\": 1, \"CZY_KIER\": \"Nie\", \"PYT_1_label\": \"Zgadzam si\\u0119\"}, {\"PYT_1\": 1, \"CZY_KIER\": \"Nie\", \"PYT_1_label\": \"Zgadzam si\\u0119\"}, {\"PYT_1\": -1, \"CZY_KIER\": \"Nie\", \"PYT_1_label\": \"Nie zgadzam si\\u0119\"}, {\"PYT_1\": 1, \"CZY_KIER\": \"Nie\", \"PYT_1_label\": \"Zgadzam si\\u0119\"}, {\"PYT_1\": 1, \"CZY_KIER\": \"Nie\", \"PYT_1_label\": \"Zgadzam si\\u0119\"}, {\"PYT_1\": -1, \"CZY_KIER\": \"Tak\", \"PYT_1_label\": \"Nie zgadzam si\\u0119\"}, {\"PYT_1\": 1, \"CZY_KIER\": \"Nie\", \"PYT_1_label\": \"Zgadzam si\\u0119\"}, {\"PYT_1\": 1, \"CZY_KIER\": \"Nie\", \"PYT_1_label\": \"Zgadzam si\\u0119\"}, {\"PYT_1\": 2, \"CZY_KIER\": \"Nie\", \"PYT_1_label\": \"Zdecydowanie si\\u0119 zgadzam\"}, {\"PYT_1\": 1, \"CZY_KIER\": \"Tak\", \"PYT_1_label\": \"Zgadzam si\\u0119\"}, {\"PYT_1\": -2, \"CZY_KIER\": \"Nie\", \"PYT_1_label\": \"Zdecydowanie si\\u0119 nie zgadzam\"}, {\"PYT_1\": 1, \"CZY_KIER\": \"Nie\", \"PYT_1_label\": \"Zgadzam si\\u0119\"}, {\"PYT_1\": 1, \"CZY_KIER\": \"Nie\", \"PYT_1_label\": \"Zgadzam si\\u0119\"}, {\"PYT_1\": 1, \"CZY_KIER\": \"Nie\", \"PYT_1_label\": \"Zgadzam si\\u0119\"}, {\"PYT_1\": 1, \"CZY_KIER\": \"Nie\", \"PYT_1_label\": \"Zgadzam si\\u0119\"}, {\"PYT_1\": 1, \"CZY_KIER\": \"Nie\", \"PYT_1_label\": \"Zgadzam si\\u0119\"}, {\"PYT_1\": 2, \"CZY_KIER\": \"Nie\", \"PYT_1_label\": \"Zdecydowanie si\\u0119 zgadzam\"}, {\"PYT_1\": 1, \"CZY_KIER\": \"Nie\", \"PYT_1_label\": \"Zgadzam si\\u0119\"}, {\"PYT_1\": 1, \"CZY_KIER\": \"Nie\", \"PYT_1_label\": \"Zgadzam si\\u0119\"}, {\"PYT_1\": -2, \"CZY_KIER\": \"Nie\", \"PYT_1_label\": \"Zdecydowanie si\\u0119 nie zgadzam\"}, {\"PYT_1\": -1, \"CZY_KIER\": \"Nie\", \"PYT_1_label\": \"Nie zgadzam si\\u0119\"}, {\"PYT_1\": 0, \"CZY_KIER\": \"Nie\", \"PYT_1_label\": \"Neutralnie\"}, {\"PYT_1\": 1, \"CZY_KIER\": \"Nie\", \"PYT_1_label\": \"Zgadzam si\\u0119\"}, {\"PYT_1\": 1, \"CZY_KIER\": \"Nie\", \"PYT_1_label\": \"Zgadzam si\\u0119\"}, {\"PYT_1\": 1, \"CZY_KIER\": \"Nie\", \"PYT_1_label\": \"Zgadzam si\\u0119\"}, {\"PYT_1\": 1, \"CZY_KIER\": \"Nie\", \"PYT_1_label\": \"Zgadzam si\\u0119\"}, {\"PYT_1\": 0, \"CZY_KIER\": \"Nie\", \"PYT_1_label\": \"Neutralnie\"}, {\"PYT_1\": 1, \"CZY_KIER\": \"Tak\", \"PYT_1_label\": \"Zgadzam si\\u0119\"}, {\"PYT_1\": 1, \"CZY_KIER\": \"Nie\", \"PYT_1_label\": \"Zgadzam si\\u0119\"}, {\"PYT_1\": 1, \"CZY_KIER\": \"Nie\", \"PYT_1_label\": \"Zgadzam si\\u0119\"}, {\"PYT_1\": 0, \"CZY_KIER\": \"Nie\", \"PYT_1_label\": \"Neutralnie\"}, {\"PYT_1\": -2, \"CZY_KIER\": \"Tak\", \"PYT_1_label\": \"Zdecydowanie si\\u0119 nie zgadzam\"}, {\"PYT_1\": 0, \"CZY_KIER\": \"Nie\", \"PYT_1_label\": \"Neutralnie\"}, {\"PYT_1\": 0, \"CZY_KIER\": \"Nie\", \"PYT_1_label\": \"Neutralnie\"}, {\"PYT_1\": 0, \"CZY_KIER\": \"Nie\", \"PYT_1_label\": \"Neutralnie\"}, {\"PYT_1\": 1, \"CZY_KIER\": \"Nie\", \"PYT_1_label\": \"Zgadzam si\\u0119\"}, {\"PYT_1\": -1, \"CZY_KIER\": \"Tak\", \"PYT_1_label\": \"Nie zgadzam si\\u0119\"}, {\"PYT_1\": -1, \"CZY_KIER\": \"Nie\", \"PYT_1_label\": \"Nie zgadzam si\\u0119\"}, {\"PYT_1\": -2, \"CZY_KIER\": \"Nie\", \"PYT_1_label\": \"Zdecydowanie si\\u0119 nie zgadzam\"}, {\"PYT_1\": 1, \"CZY_KIER\": \"Nie\", \"PYT_1_label\": \"Zgadzam si\\u0119\"}, {\"PYT_1\": 1, \"CZY_KIER\": \"Nie\", \"PYT_1_label\": \"Zgadzam si\\u0119\"}, {\"PYT_1\": 1, \"CZY_KIER\": \"Tak\", \"PYT_1_label\": \"Zgadzam si\\u0119\"}, {\"PYT_1\": 0, \"CZY_KIER\": \"Nie\", \"PYT_1_label\": \"Neutralnie\"}, {\"PYT_1\": 1, \"CZY_KIER\": \"Nie\", \"PYT_1_label\": \"Zgadzam si\\u0119\"}, {\"PYT_1\": 1, \"CZY_KIER\": \"Tak\", \"PYT_1_label\": \"Zgadzam si\\u0119\"}, {\"PYT_1\": 0, \"CZY_KIER\": \"Tak\", \"PYT_1_label\": \"Neutralnie\"}, {\"PYT_1\": 2, \"CZY_KIER\": \"Nie\", \"PYT_1_label\": \"Zdecydowanie si\\u0119 zgadzam\"}, {\"PYT_1\": 0, \"CZY_KIER\": \"Nie\", \"PYT_1_label\": \"Neutralnie\"}, {\"PYT_1\": 1, \"CZY_KIER\": \"Nie\", \"PYT_1_label\": \"Zgadzam si\\u0119\"}, {\"PYT_1\": 1, \"CZY_KIER\": \"Nie\", \"PYT_1_label\": \"Zgadzam si\\u0119\"}, {\"PYT_1\": 1, \"CZY_KIER\": \"Nie\", \"PYT_1_label\": \"Zgadzam si\\u0119\"}, {\"PYT_1\": 0, \"CZY_KIER\": \"Nie\", \"PYT_1_label\": \"Neutralnie\"}, {\"PYT_1\": -1, \"CZY_KIER\": \"Nie\", \"PYT_1_label\": \"Nie zgadzam si\\u0119\"}, {\"PYT_1\": -2, \"CZY_KIER\": \"Nie\", \"PYT_1_label\": \"Zdecydowanie si\\u0119 nie zgadzam\"}, {\"PYT_1\": 0, \"CZY_KIER\": \"Nie\", \"PYT_1_label\": \"Neutralnie\"}, {\"PYT_1\": 0, \"CZY_KIER\": \"Tak\", \"PYT_1_label\": \"Neutralnie\"}, {\"PYT_1\": 1, \"CZY_KIER\": \"Nie\", \"PYT_1_label\": \"Zgadzam si\\u0119\"}, {\"PYT_1\": 2, \"CZY_KIER\": \"Nie\", \"PYT_1_label\": \"Zdecydowanie si\\u0119 zgadzam\"}, {\"PYT_1\": 0, \"CZY_KIER\": \"Nie\", \"PYT_1_label\": \"Neutralnie\"}, {\"PYT_1\": -2, \"CZY_KIER\": \"Nie\", \"PYT_1_label\": \"Zdecydowanie si\\u0119 nie zgadzam\"}, {\"PYT_1\": 2, \"CZY_KIER\": \"Nie\", \"PYT_1_label\": \"Zdecydowanie si\\u0119 zgadzam\"}, {\"PYT_1\": 2, \"CZY_KIER\": \"Nie\", \"PYT_1_label\": \"Zdecydowanie si\\u0119 zgadzam\"}, {\"PYT_1\": -1, \"CZY_KIER\": \"Nie\", \"PYT_1_label\": \"Nie zgadzam si\\u0119\"}, {\"PYT_1\": 2, \"CZY_KIER\": \"Nie\", \"PYT_1_label\": \"Zdecydowanie si\\u0119 zgadzam\"}, {\"PYT_1\": 1, \"CZY_KIER\": \"Nie\", \"PYT_1_label\": \"Zgadzam si\\u0119\"}, {\"PYT_1\": -1, \"CZY_KIER\": \"Nie\", \"PYT_1_label\": \"Nie zgadzam si\\u0119\"}, {\"PYT_1\": 1, \"CZY_KIER\": \"Nie\", \"PYT_1_label\": \"Zgadzam si\\u0119\"}, {\"PYT_1\": 0, \"CZY_KIER\": \"Nie\", \"PYT_1_label\": \"Neutralnie\"}, {\"PYT_1\": 0, \"CZY_KIER\": \"Nie\", \"PYT_1_label\": \"Neutralnie\"}, {\"PYT_1\": 1, \"CZY_KIER\": \"Nie\", \"PYT_1_label\": \"Zgadzam si\\u0119\"}, {\"PYT_1\": 2, \"CZY_KIER\": \"Nie\", \"PYT_1_label\": \"Zdecydowanie si\\u0119 zgadzam\"}, {\"PYT_1\": 1, \"CZY_KIER\": \"Nie\", \"PYT_1_label\": \"Zgadzam si\\u0119\"}, {\"PYT_1\": 0, \"CZY_KIER\": \"Nie\", \"PYT_1_label\": \"Neutralnie\"}, {\"PYT_1\": 0, \"CZY_KIER\": \"Tak\", \"PYT_1_label\": \"Neutralnie\"}, {\"PYT_1\": -2, \"CZY_KIER\": \"Nie\", \"PYT_1_label\": \"Zdecydowanie si\\u0119 nie zgadzam\"}, {\"PYT_1\": 0, \"CZY_KIER\": \"Nie\", \"PYT_1_label\": \"Neutralnie\"}, {\"PYT_1\": 1, \"CZY_KIER\": \"Nie\", \"PYT_1_label\": \"Zgadzam si\\u0119\"}, {\"PYT_1\": 1, \"CZY_KIER\": \"Nie\", \"PYT_1_label\": \"Zgadzam si\\u0119\"}, {\"PYT_1\": 2, \"CZY_KIER\": \"Nie\", \"PYT_1_label\": \"Zdecydowanie si\\u0119 zgadzam\"}, {\"PYT_1\": 0, \"CZY_KIER\": \"Nie\", \"PYT_1_label\": \"Neutralnie\"}, {\"PYT_1\": 1, \"CZY_KIER\": \"Nie\", \"PYT_1_label\": \"Zgadzam si\\u0119\"}, {\"PYT_1\": 0, \"CZY_KIER\": \"Nie\", \"PYT_1_label\": \"Neutralnie\"}, {\"PYT_1\": 0, \"CZY_KIER\": \"Nie\", \"PYT_1_label\": \"Neutralnie\"}, {\"PYT_1\": 1, \"CZY_KIER\": \"Nie\", \"PYT_1_label\": \"Zgadzam si\\u0119\"}, {\"PYT_1\": 1, \"CZY_KIER\": \"Nie\", \"PYT_1_label\": \"Zgadzam si\\u0119\"}, {\"PYT_1\": 2, \"CZY_KIER\": \"Nie\", \"PYT_1_label\": \"Zdecydowanie si\\u0119 zgadzam\"}, {\"PYT_1\": 2, \"CZY_KIER\": \"Nie\", \"PYT_1_label\": \"Zdecydowanie si\\u0119 zgadzam\"}, {\"PYT_1\": 0, \"CZY_KIER\": \"Nie\", \"PYT_1_label\": \"Neutralnie\"}, {\"PYT_1\": 1, \"CZY_KIER\": \"Nie\", \"PYT_1_label\": \"Zgadzam si\\u0119\"}, {\"PYT_1\": 1, \"CZY_KIER\": \"Tak\", \"PYT_1_label\": \"Zgadzam si\\u0119\"}, {\"PYT_1\": 0, \"CZY_KIER\": \"Nie\", \"PYT_1_label\": \"Neutralnie\"}, {\"PYT_1\": 2, \"CZY_KIER\": \"Nie\", \"PYT_1_label\": \"Zdecydowanie si\\u0119 zgadzam\"}, {\"PYT_1\": 2, \"CZY_KIER\": \"Nie\", \"PYT_1_label\": \"Zdecydowanie si\\u0119 zgadzam\"}, {\"PYT_1\": 1, \"CZY_KIER\": \"Nie\", \"PYT_1_label\": \"Zgadzam si\\u0119\"}, {\"PYT_1\": -2, \"CZY_KIER\": \"Nie\", \"PYT_1_label\": \"Zdecydowanie si\\u0119 nie zgadzam\"}, {\"PYT_1\": 2, \"CZY_KIER\": \"Nie\", \"PYT_1_label\": \"Zdecydowanie si\\u0119 zgadzam\"}, {\"PYT_1\": 1, \"CZY_KIER\": \"Tak\", \"PYT_1_label\": \"Zgadzam si\\u0119\"}, {\"PYT_1\": 1, \"CZY_KIER\": \"Nie\", \"PYT_1_label\": \"Zgadzam si\\u0119\"}, {\"PYT_1\": 1, \"CZY_KIER\": \"Nie\", \"PYT_1_label\": \"Zgadzam si\\u0119\"}, {\"PYT_1\": 1, \"CZY_KIER\": \"Nie\", \"PYT_1_label\": \"Zgadzam si\\u0119\"}, {\"PYT_1\": 0, \"CZY_KIER\": \"Tak\", \"PYT_1_label\": \"Neutralnie\"}, {\"PYT_1\": 1, \"CZY_KIER\": \"Nie\", \"PYT_1_label\": \"Zgadzam si\\u0119\"}, {\"PYT_1\": 0, \"CZY_KIER\": \"Nie\", \"PYT_1_label\": \"Neutralnie\"}, {\"PYT_1\": 0, \"CZY_KIER\": \"Nie\", \"PYT_1_label\": \"Neutralnie\"}, {\"PYT_1\": -2, \"CZY_KIER\": \"Tak\", \"PYT_1_label\": \"Zdecydowanie si\\u0119 nie zgadzam\"}, {\"PYT_1\": 1, \"CZY_KIER\": \"Nie\", \"PYT_1_label\": \"Zgadzam si\\u0119\"}, {\"PYT_1\": 2, \"CZY_KIER\": \"Nie\", \"PYT_1_label\": \"Zdecydowanie si\\u0119 zgadzam\"}, {\"PYT_1\": 1, \"CZY_KIER\": \"Nie\", \"PYT_1_label\": \"Zgadzam si\\u0119\"}, {\"PYT_1\": 1, \"CZY_KIER\": \"Nie\", \"PYT_1_label\": \"Zgadzam si\\u0119\"}, {\"PYT_1\": 1, \"CZY_KIER\": \"Nie\", \"PYT_1_label\": \"Zgadzam si\\u0119\"}, {\"PYT_1\": 2, \"CZY_KIER\": \"Tak\", \"PYT_1_label\": \"Zdecydowanie si\\u0119 zgadzam\"}, {\"PYT_1\": 1, \"CZY_KIER\": \"Nie\", \"PYT_1_label\": \"Zgadzam si\\u0119\"}, {\"PYT_1\": 1, \"CZY_KIER\": \"Nie\", \"PYT_1_label\": \"Zgadzam si\\u0119\"}, {\"PYT_1\": 1, \"CZY_KIER\": \"Nie\", \"PYT_1_label\": \"Zgadzam si\\u0119\"}, {\"PYT_1\": -1, \"CZY_KIER\": \"Nie\", \"PYT_1_label\": \"Nie zgadzam si\\u0119\"}, {\"PYT_1\": 0, \"CZY_KIER\": \"Nie\", \"PYT_1_label\": \"Neutralnie\"}, {\"PYT_1\": 1, \"CZY_KIER\": \"Tak\", \"PYT_1_label\": \"Zgadzam si\\u0119\"}, {\"PYT_1\": 0, \"CZY_KIER\": \"Nie\", \"PYT_1_label\": \"Neutralnie\"}, {\"PYT_1\": 1, \"CZY_KIER\": \"Tak\", \"PYT_1_label\": \"Zgadzam si\\u0119\"}, {\"PYT_1\": 1, \"CZY_KIER\": \"Nie\", \"PYT_1_label\": \"Zgadzam si\\u0119\"}, {\"PYT_1\": 1, \"CZY_KIER\": \"Nie\", \"PYT_1_label\": \"Zgadzam si\\u0119\"}, {\"PYT_1\": -1, \"CZY_KIER\": \"Nie\", \"PYT_1_label\": \"Nie zgadzam si\\u0119\"}, {\"PYT_1\": 1, \"CZY_KIER\": \"Nie\", \"PYT_1_label\": \"Zgadzam si\\u0119\"}, {\"PYT_1\": 1, \"CZY_KIER\": \"Nie\", \"PYT_1_label\": \"Zgadzam si\\u0119\"}]}}, {\"mode\": \"vega-lite\"});\n",
       "</script>"
      ],
      "text/plain": [
       "alt.HConcatChart(...)"
      ]
     },
     "execution_count": 53,
     "metadata": {},
     "output_type": "execute_result"
    }
   ],
   "source": [
    "df1 = df[['PYT_1', 'CZY_KIER']]\n",
    "\n",
    "labels = {\n",
    "    -2: \"Zdecydowanie się nie zgadzam\",\n",
    "    -1: \"Nie zgadzam się\",\n",
    "    0: \"Neutralnie\",\n",
    "    1: \"Zgadzam się\",\n",
    "    2: \"Zdecydowanie się zgadzam\"\n",
    "}\n",
    "df1['PYT_1_label'] = df1['PYT_1'].map(labels)\n",
    "\n",
    "# Tworzenie wykresu dla całej grupy\n",
    "overall_chart = (\n",
    "    alt.Chart(df1)\n",
    "    .mark_bar()\n",
    "    .encode(\n",
    "        x=alt.X('PYT_1_label:O', title='Ocena', sort=list(labels.values())),\n",
    "        y=alt.Y('count()', title='Liczba odpowiedzi'),\n",
    "        tooltip=['count()']\n",
    "    )\n",
    "    .properties(title='Rozkład odpowiedzi w całej grupie')\n",
    ")\n",
    "\n",
    "# Tworzenie wykresu podzielonego na kierowników i niekierowników\n",
    "subgroup_chart = (\n",
    "    alt.Chart(df1)\n",
    "    .mark_bar()\n",
    "    .encode(\n",
    "        x=alt.X('PYT_1_label:O', title='Ocena', sort=list(labels.values())),\n",
    "        y=alt.Y('count()', title='Liczba odpowiedzi'),\n",
    "        color='CZY_KIER:N',\n",
    "        column=alt.Column('CZY_KIER:N', title='Czy kierownik?'),\n",
    "        tooltip=['count()']\n",
    "    )\n",
    "    .properties(title='Rozkład odpowiedzi w podgrupach')\n",
    ")\n",
    "\n",
    "# Wyświetlenie wykresów\n",
    "alt.hconcat(overall_chart, subgroup_chart)"
   ]
  },
  {
   "cell_type": "code",
   "execution_count": 60,
   "metadata": {},
   "outputs": [
    {
     "data": {
      "text/plain": [
       "'Ze zwracaniem:'"
      ]
     },
     "metadata": {},
     "output_type": "display_data"
    },
    {
     "data": {
      "text/html": [
       "<div>\n",
       "<style scoped>\n",
       "    .dataframe tbody tr th:only-of-type {\n",
       "        vertical-align: middle;\n",
       "    }\n",
       "\n",
       "    .dataframe tbody tr th {\n",
       "        vertical-align: top;\n",
       "    }\n",
       "\n",
       "    .dataframe thead th {\n",
       "        text-align: right;\n",
       "    }\n",
       "</style>\n",
       "<table border=\"1\" class=\"dataframe\">\n",
       "  <thead>\n",
       "    <tr style=\"text-align: right;\">\n",
       "      <th></th>\n",
       "      <th>DZIAL</th>\n",
       "      <th>STAZ</th>\n",
       "      <th>CZY_KIER</th>\n",
       "      <th>PYT_1</th>\n",
       "      <th>PYT_2</th>\n",
       "      <th>PYT_3</th>\n",
       "      <th>PLEC</th>\n",
       "      <th>WIEK</th>\n",
       "      <th>WIEK_KAT</th>\n",
       "      <th>CZY_ZADOW</th>\n",
       "      <th>CZY_ZADOW_1</th>\n",
       "    </tr>\n",
       "  </thead>\n",
       "  <tbody>\n",
       "    <tr>\n",
       "      <th>115</th>\n",
       "      <td>PD</td>\n",
       "      <td>1</td>\n",
       "      <td>Nie</td>\n",
       "      <td>1</td>\n",
       "      <td>-1</td>\n",
       "      <td>-1</td>\n",
       "      <td>M</td>\n",
       "      <td>37</td>\n",
       "      <td>36-45</td>\n",
       "      <td>nie zgadzam się</td>\n",
       "      <td>zgadzam się</td>\n",
       "    </tr>\n",
       "    <tr>\n",
       "      <th>30</th>\n",
       "      <td>PD</td>\n",
       "      <td>1</td>\n",
       "      <td>Nie</td>\n",
       "      <td>1</td>\n",
       "      <td>2</td>\n",
       "      <td>2</td>\n",
       "      <td>M</td>\n",
       "      <td>32</td>\n",
       "      <td>&lt;35</td>\n",
       "      <td>zdecydowanie się zgadzam</td>\n",
       "      <td>zgadzam się</td>\n",
       "    </tr>\n",
       "    <tr>\n",
       "      <th>2</th>\n",
       "      <td>IT</td>\n",
       "      <td>2</td>\n",
       "      <td>Nie</td>\n",
       "      <td>1</td>\n",
       "      <td>2</td>\n",
       "      <td>2</td>\n",
       "      <td>M</td>\n",
       "      <td>65</td>\n",
       "      <td>&gt;55</td>\n",
       "      <td>zdecydowanie się zgadzam</td>\n",
       "      <td>zgadzam się</td>\n",
       "    </tr>\n",
       "    <tr>\n",
       "      <th>21</th>\n",
       "      <td>IT</td>\n",
       "      <td>3</td>\n",
       "      <td>Nie</td>\n",
       "      <td>1</td>\n",
       "      <td>2</td>\n",
       "      <td>-1</td>\n",
       "      <td>K</td>\n",
       "      <td>64</td>\n",
       "      <td>&gt;55</td>\n",
       "      <td>zdecydowanie się zgadzam</td>\n",
       "      <td>zgadzam się</td>\n",
       "    </tr>\n",
       "    <tr>\n",
       "      <th>53</th>\n",
       "      <td>PD</td>\n",
       "      <td>1</td>\n",
       "      <td>Nie</td>\n",
       "      <td>0</td>\n",
       "      <td>-2</td>\n",
       "      <td>-2</td>\n",
       "      <td>M</td>\n",
       "      <td>41</td>\n",
       "      <td>36-45</td>\n",
       "      <td>zdecydowanie się nie zgadzam</td>\n",
       "      <td>Nieokreślone</td>\n",
       "    </tr>\n",
       "    <tr>\n",
       "      <th>88</th>\n",
       "      <td>PD</td>\n",
       "      <td>1</td>\n",
       "      <td>Nie</td>\n",
       "      <td>1</td>\n",
       "      <td>2</td>\n",
       "      <td>2</td>\n",
       "      <td>M</td>\n",
       "      <td>55</td>\n",
       "      <td>46-55</td>\n",
       "      <td>zdecydowanie się zgadzam</td>\n",
       "      <td>zgadzam się</td>\n",
       "    </tr>\n",
       "    <tr>\n",
       "      <th>76</th>\n",
       "      <td>PD</td>\n",
       "      <td>2</td>\n",
       "      <td>Nie</td>\n",
       "      <td>1</td>\n",
       "      <td>2</td>\n",
       "      <td>1</td>\n",
       "      <td>K</td>\n",
       "      <td>41</td>\n",
       "      <td>36-45</td>\n",
       "      <td>zdecydowanie się zgadzam</td>\n",
       "      <td>zgadzam się</td>\n",
       "    </tr>\n",
       "    <tr>\n",
       "      <th>154</th>\n",
       "      <td>MK</td>\n",
       "      <td>2</td>\n",
       "      <td>Nie</td>\n",
       "      <td>2</td>\n",
       "      <td>2</td>\n",
       "      <td>2</td>\n",
       "      <td>M</td>\n",
       "      <td>32</td>\n",
       "      <td>&lt;35</td>\n",
       "      <td>zdecydowanie się zgadzam</td>\n",
       "      <td>zdecydowanie się zgadzam</td>\n",
       "    </tr>\n",
       "    <tr>\n",
       "      <th>141</th>\n",
       "      <td>MK</td>\n",
       "      <td>2</td>\n",
       "      <td>Nie</td>\n",
       "      <td>-1</td>\n",
       "      <td>-2</td>\n",
       "      <td>-1</td>\n",
       "      <td>K</td>\n",
       "      <td>30</td>\n",
       "      <td>&lt;35</td>\n",
       "      <td>zdecydowanie się nie zgadzam</td>\n",
       "      <td>nie zgadzam się</td>\n",
       "    </tr>\n",
       "    <tr>\n",
       "      <th>88</th>\n",
       "      <td>PD</td>\n",
       "      <td>1</td>\n",
       "      <td>Nie</td>\n",
       "      <td>1</td>\n",
       "      <td>2</td>\n",
       "      <td>2</td>\n",
       "      <td>M</td>\n",
       "      <td>55</td>\n",
       "      <td>46-55</td>\n",
       "      <td>zdecydowanie się zgadzam</td>\n",
       "      <td>zgadzam się</td>\n",
       "    </tr>\n",
       "    <tr>\n",
       "      <th>139</th>\n",
       "      <td>MK</td>\n",
       "      <td>2</td>\n",
       "      <td>Nie</td>\n",
       "      <td>2</td>\n",
       "      <td>2</td>\n",
       "      <td>-1</td>\n",
       "      <td>K</td>\n",
       "      <td>38</td>\n",
       "      <td>36-45</td>\n",
       "      <td>zdecydowanie się zgadzam</td>\n",
       "      <td>zdecydowanie się zgadzam</td>\n",
       "    </tr>\n",
       "    <tr>\n",
       "      <th>108</th>\n",
       "      <td>PD</td>\n",
       "      <td>2</td>\n",
       "      <td>Nie</td>\n",
       "      <td>0</td>\n",
       "      <td>-2</td>\n",
       "      <td>-2</td>\n",
       "      <td>K</td>\n",
       "      <td>43</td>\n",
       "      <td>36-45</td>\n",
       "      <td>zdecydowanie się nie zgadzam</td>\n",
       "      <td>Nieokreślone</td>\n",
       "    </tr>\n",
       "    <tr>\n",
       "      <th>168</th>\n",
       "      <td>MK</td>\n",
       "      <td>2</td>\n",
       "      <td>Nie</td>\n",
       "      <td>2</td>\n",
       "      <td>2</td>\n",
       "      <td>2</td>\n",
       "      <td>M</td>\n",
       "      <td>38</td>\n",
       "      <td>36-45</td>\n",
       "      <td>zdecydowanie się zgadzam</td>\n",
       "      <td>zdecydowanie się zgadzam</td>\n",
       "    </tr>\n",
       "    <tr>\n",
       "      <th>127</th>\n",
       "      <td>MK</td>\n",
       "      <td>2</td>\n",
       "      <td>Nie</td>\n",
       "      <td>0</td>\n",
       "      <td>-2</td>\n",
       "      <td>-2</td>\n",
       "      <td>K</td>\n",
       "      <td>45</td>\n",
       "      <td>36-45</td>\n",
       "      <td>zdecydowanie się nie zgadzam</td>\n",
       "      <td>Nieokreślone</td>\n",
       "    </tr>\n",
       "    <tr>\n",
       "      <th>83</th>\n",
       "      <td>PD</td>\n",
       "      <td>1</td>\n",
       "      <td>Nie</td>\n",
       "      <td>1</td>\n",
       "      <td>2</td>\n",
       "      <td>2</td>\n",
       "      <td>M</td>\n",
       "      <td>54</td>\n",
       "      <td>46-55</td>\n",
       "      <td>zdecydowanie się zgadzam</td>\n",
       "      <td>zgadzam się</td>\n",
       "    </tr>\n",
       "    <tr>\n",
       "      <th>33</th>\n",
       "      <td>PD</td>\n",
       "      <td>1</td>\n",
       "      <td>Nie</td>\n",
       "      <td>-1</td>\n",
       "      <td>-2</td>\n",
       "      <td>-2</td>\n",
       "      <td>M</td>\n",
       "      <td>25</td>\n",
       "      <td>&lt;35</td>\n",
       "      <td>zdecydowanie się nie zgadzam</td>\n",
       "      <td>nie zgadzam się</td>\n",
       "    </tr>\n",
       "    <tr>\n",
       "      <th>131</th>\n",
       "      <td>MK</td>\n",
       "      <td>3</td>\n",
       "      <td>Tak</td>\n",
       "      <td>0</td>\n",
       "      <td>-2</td>\n",
       "      <td>-2</td>\n",
       "      <td>K</td>\n",
       "      <td>42</td>\n",
       "      <td>36-45</td>\n",
       "      <td>zdecydowanie się nie zgadzam</td>\n",
       "      <td>Nieokreślone</td>\n",
       "    </tr>\n",
       "    <tr>\n",
       "      <th>108</th>\n",
       "      <td>PD</td>\n",
       "      <td>2</td>\n",
       "      <td>Nie</td>\n",
       "      <td>0</td>\n",
       "      <td>-2</td>\n",
       "      <td>-2</td>\n",
       "      <td>K</td>\n",
       "      <td>43</td>\n",
       "      <td>36-45</td>\n",
       "      <td>zdecydowanie się nie zgadzam</td>\n",
       "      <td>Nieokreślone</td>\n",
       "    </tr>\n",
       "    <tr>\n",
       "      <th>76</th>\n",
       "      <td>PD</td>\n",
       "      <td>2</td>\n",
       "      <td>Nie</td>\n",
       "      <td>1</td>\n",
       "      <td>2</td>\n",
       "      <td>1</td>\n",
       "      <td>K</td>\n",
       "      <td>41</td>\n",
       "      <td>36-45</td>\n",
       "      <td>zdecydowanie się zgadzam</td>\n",
       "      <td>zgadzam się</td>\n",
       "    </tr>\n",
       "    <tr>\n",
       "      <th>111</th>\n",
       "      <td>PD</td>\n",
       "      <td>2</td>\n",
       "      <td>Nie</td>\n",
       "      <td>1</td>\n",
       "      <td>-1</td>\n",
       "      <td>-2</td>\n",
       "      <td>K</td>\n",
       "      <td>42</td>\n",
       "      <td>36-45</td>\n",
       "      <td>nie zgadzam się</td>\n",
       "      <td>zgadzam się</td>\n",
       "    </tr>\n",
       "  </tbody>\n",
       "</table>\n",
       "</div>"
      ],
      "text/plain": [
       "    DZIAL STAZ CZY_KIER  PYT_1  PYT_2  PYT_3 PLEC  WIEK WIEK_KAT   \n",
       "115    PD    1      Nie      1     -1     -1    M    37    36-45  \\\n",
       "30     PD    1      Nie      1      2      2    M    32      <35   \n",
       "2      IT    2      Nie      1      2      2    M    65      >55   \n",
       "21     IT    3      Nie      1      2     -1    K    64      >55   \n",
       "53     PD    1      Nie      0     -2     -2    M    41    36-45   \n",
       "88     PD    1      Nie      1      2      2    M    55    46-55   \n",
       "76     PD    2      Nie      1      2      1    K    41    36-45   \n",
       "154    MK    2      Nie      2      2      2    M    32      <35   \n",
       "141    MK    2      Nie     -1     -2     -1    K    30      <35   \n",
       "88     PD    1      Nie      1      2      2    M    55    46-55   \n",
       "139    MK    2      Nie      2      2     -1    K    38    36-45   \n",
       "108    PD    2      Nie      0     -2     -2    K    43    36-45   \n",
       "168    MK    2      Nie      2      2      2    M    38    36-45   \n",
       "127    MK    2      Nie      0     -2     -2    K    45    36-45   \n",
       "83     PD    1      Nie      1      2      2    M    54    46-55   \n",
       "33     PD    1      Nie     -1     -2     -2    M    25      <35   \n",
       "131    MK    3      Tak      0     -2     -2    K    42    36-45   \n",
       "108    PD    2      Nie      0     -2     -2    K    43    36-45   \n",
       "76     PD    2      Nie      1      2      1    K    41    36-45   \n",
       "111    PD    2      Nie      1     -1     -2    K    42    36-45   \n",
       "\n",
       "                        CZY_ZADOW               CZY_ZADOW_1  \n",
       "115               nie zgadzam się               zgadzam się  \n",
       "30       zdecydowanie się zgadzam               zgadzam się  \n",
       "2        zdecydowanie się zgadzam               zgadzam się  \n",
       "21       zdecydowanie się zgadzam               zgadzam się  \n",
       "53   zdecydowanie się nie zgadzam              Nieokreślone  \n",
       "88       zdecydowanie się zgadzam               zgadzam się  \n",
       "76       zdecydowanie się zgadzam               zgadzam się  \n",
       "154      zdecydowanie się zgadzam  zdecydowanie się zgadzam  \n",
       "141  zdecydowanie się nie zgadzam           nie zgadzam się  \n",
       "88       zdecydowanie się zgadzam               zgadzam się  \n",
       "139      zdecydowanie się zgadzam  zdecydowanie się zgadzam  \n",
       "108  zdecydowanie się nie zgadzam              Nieokreślone  \n",
       "168      zdecydowanie się zgadzam  zdecydowanie się zgadzam  \n",
       "127  zdecydowanie się nie zgadzam              Nieokreślone  \n",
       "83       zdecydowanie się zgadzam               zgadzam się  \n",
       "33   zdecydowanie się nie zgadzam           nie zgadzam się  \n",
       "131  zdecydowanie się nie zgadzam              Nieokreślone  \n",
       "108  zdecydowanie się nie zgadzam              Nieokreślone  \n",
       "76       zdecydowanie się zgadzam               zgadzam się  \n",
       "111               nie zgadzam się               zgadzam się  "
      ]
     },
     "metadata": {},
     "output_type": "display_data"
    },
    {
     "data": {
      "text/plain": [
       "'Bez zwracania:'"
      ]
     },
     "metadata": {},
     "output_type": "display_data"
    },
    {
     "data": {
      "text/html": [
       "<div>\n",
       "<style scoped>\n",
       "    .dataframe tbody tr th:only-of-type {\n",
       "        vertical-align: middle;\n",
       "    }\n",
       "\n",
       "    .dataframe tbody tr th {\n",
       "        vertical-align: top;\n",
       "    }\n",
       "\n",
       "    .dataframe thead th {\n",
       "        text-align: right;\n",
       "    }\n",
       "</style>\n",
       "<table border=\"1\" class=\"dataframe\">\n",
       "  <thead>\n",
       "    <tr style=\"text-align: right;\">\n",
       "      <th></th>\n",
       "      <th>DZIAL</th>\n",
       "      <th>STAZ</th>\n",
       "      <th>CZY_KIER</th>\n",
       "      <th>PYT_1</th>\n",
       "      <th>PYT_2</th>\n",
       "      <th>PYT_3</th>\n",
       "      <th>PLEC</th>\n",
       "      <th>WIEK</th>\n",
       "      <th>WIEK_KAT</th>\n",
       "      <th>CZY_ZADOW</th>\n",
       "      <th>CZY_ZADOW_1</th>\n",
       "    </tr>\n",
       "  </thead>\n",
       "  <tbody>\n",
       "    <tr>\n",
       "      <th>62</th>\n",
       "      <td>PD</td>\n",
       "      <td>2</td>\n",
       "      <td>Nie</td>\n",
       "      <td>2</td>\n",
       "      <td>2</td>\n",
       "      <td>2</td>\n",
       "      <td>M</td>\n",
       "      <td>50</td>\n",
       "      <td>46-55</td>\n",
       "      <td>zdecydowanie się zgadzam</td>\n",
       "      <td>zdecydowanie się zgadzam</td>\n",
       "    </tr>\n",
       "    <tr>\n",
       "      <th>95</th>\n",
       "      <td>PD</td>\n",
       "      <td>2</td>\n",
       "      <td>Nie</td>\n",
       "      <td>-2</td>\n",
       "      <td>-2</td>\n",
       "      <td>-1</td>\n",
       "      <td>M</td>\n",
       "      <td>36</td>\n",
       "      <td>36-45</td>\n",
       "      <td>zdecydowanie się nie zgadzam</td>\n",
       "      <td>zdecydowanie się nie zgadzam</td>\n",
       "    </tr>\n",
       "    <tr>\n",
       "      <th>155</th>\n",
       "      <td>MK</td>\n",
       "      <td>2</td>\n",
       "      <td>Nie</td>\n",
       "      <td>0</td>\n",
       "      <td>-2</td>\n",
       "      <td>-2</td>\n",
       "      <td>M</td>\n",
       "      <td>37</td>\n",
       "      <td>36-45</td>\n",
       "      <td>zdecydowanie się nie zgadzam</td>\n",
       "      <td>Nieokreślone</td>\n",
       "    </tr>\n",
       "    <tr>\n",
       "      <th>160</th>\n",
       "      <td>MK</td>\n",
       "      <td>2</td>\n",
       "      <td>Nie</td>\n",
       "      <td>1</td>\n",
       "      <td>2</td>\n",
       "      <td>2</td>\n",
       "      <td>M</td>\n",
       "      <td>36</td>\n",
       "      <td>36-45</td>\n",
       "      <td>zdecydowanie się zgadzam</td>\n",
       "      <td>zgadzam się</td>\n",
       "    </tr>\n",
       "    <tr>\n",
       "      <th>4</th>\n",
       "      <td>IT</td>\n",
       "      <td>3</td>\n",
       "      <td>Tak</td>\n",
       "      <td>1</td>\n",
       "      <td>2</td>\n",
       "      <td>-1</td>\n",
       "      <td>K</td>\n",
       "      <td>65</td>\n",
       "      <td>&gt;55</td>\n",
       "      <td>zdecydowanie się zgadzam</td>\n",
       "      <td>zgadzam się</td>\n",
       "    </tr>\n",
       "    <tr>\n",
       "      <th>143</th>\n",
       "      <td>MK</td>\n",
       "      <td>2</td>\n",
       "      <td>Nie</td>\n",
       "      <td>0</td>\n",
       "      <td>-2</td>\n",
       "      <td>-2</td>\n",
       "      <td>K</td>\n",
       "      <td>46</td>\n",
       "      <td>46-55</td>\n",
       "      <td>zdecydowanie się nie zgadzam</td>\n",
       "      <td>Nieokreślone</td>\n",
       "    </tr>\n",
       "    <tr>\n",
       "      <th>91</th>\n",
       "      <td>PD</td>\n",
       "      <td>2</td>\n",
       "      <td>Nie</td>\n",
       "      <td>1</td>\n",
       "      <td>2</td>\n",
       "      <td>2</td>\n",
       "      <td>M</td>\n",
       "      <td>45</td>\n",
       "      <td>36-45</td>\n",
       "      <td>zdecydowanie się zgadzam</td>\n",
       "      <td>zgadzam się</td>\n",
       "    </tr>\n",
       "    <tr>\n",
       "      <th>61</th>\n",
       "      <td>PD</td>\n",
       "      <td>2</td>\n",
       "      <td>Nie</td>\n",
       "      <td>2</td>\n",
       "      <td>-1</td>\n",
       "      <td>-2</td>\n",
       "      <td>M</td>\n",
       "      <td>50</td>\n",
       "      <td>46-55</td>\n",
       "      <td>nie zgadzam się</td>\n",
       "      <td>zdecydowanie się zgadzam</td>\n",
       "    </tr>\n",
       "    <tr>\n",
       "      <th>188</th>\n",
       "      <td>HR</td>\n",
       "      <td>2</td>\n",
       "      <td>Nie</td>\n",
       "      <td>1</td>\n",
       "      <td>2</td>\n",
       "      <td>2</td>\n",
       "      <td>M</td>\n",
       "      <td>49</td>\n",
       "      <td>46-55</td>\n",
       "      <td>zdecydowanie się zgadzam</td>\n",
       "      <td>zgadzam się</td>\n",
       "    </tr>\n",
       "    <tr>\n",
       "      <th>54</th>\n",
       "      <td>PD</td>\n",
       "      <td>2</td>\n",
       "      <td>Nie</td>\n",
       "      <td>0</td>\n",
       "      <td>-2</td>\n",
       "      <td>-2</td>\n",
       "      <td>M</td>\n",
       "      <td>41</td>\n",
       "      <td>36-45</td>\n",
       "      <td>zdecydowanie się nie zgadzam</td>\n",
       "      <td>Nieokreślone</td>\n",
       "    </tr>\n",
       "    <tr>\n",
       "      <th>83</th>\n",
       "      <td>PD</td>\n",
       "      <td>1</td>\n",
       "      <td>Nie</td>\n",
       "      <td>1</td>\n",
       "      <td>2</td>\n",
       "      <td>2</td>\n",
       "      <td>M</td>\n",
       "      <td>54</td>\n",
       "      <td>46-55</td>\n",
       "      <td>zdecydowanie się zgadzam</td>\n",
       "      <td>zgadzam się</td>\n",
       "    </tr>\n",
       "    <tr>\n",
       "      <th>18</th>\n",
       "      <td>IT</td>\n",
       "      <td>2</td>\n",
       "      <td>Nie</td>\n",
       "      <td>1</td>\n",
       "      <td>2</td>\n",
       "      <td>-1</td>\n",
       "      <td>K</td>\n",
       "      <td>34</td>\n",
       "      <td>&lt;35</td>\n",
       "      <td>zdecydowanie się zgadzam</td>\n",
       "      <td>zgadzam się</td>\n",
       "    </tr>\n",
       "    <tr>\n",
       "      <th>24</th>\n",
       "      <td>IT</td>\n",
       "      <td>2</td>\n",
       "      <td>Nie</td>\n",
       "      <td>1</td>\n",
       "      <td>-1</td>\n",
       "      <td>-1</td>\n",
       "      <td>K</td>\n",
       "      <td>50</td>\n",
       "      <td>46-55</td>\n",
       "      <td>nie zgadzam się</td>\n",
       "      <td>zgadzam się</td>\n",
       "    </tr>\n",
       "    <tr>\n",
       "      <th>20</th>\n",
       "      <td>IT</td>\n",
       "      <td>2</td>\n",
       "      <td>Nie</td>\n",
       "      <td>1</td>\n",
       "      <td>-1</td>\n",
       "      <td>1</td>\n",
       "      <td>K</td>\n",
       "      <td>60</td>\n",
       "      <td>&gt;55</td>\n",
       "      <td>nie zgadzam się</td>\n",
       "      <td>zgadzam się</td>\n",
       "    </tr>\n",
       "    <tr>\n",
       "      <th>35</th>\n",
       "      <td>PD</td>\n",
       "      <td>1</td>\n",
       "      <td>Nie</td>\n",
       "      <td>-2</td>\n",
       "      <td>-2</td>\n",
       "      <td>1</td>\n",
       "      <td>M</td>\n",
       "      <td>29</td>\n",
       "      <td>&lt;35</td>\n",
       "      <td>zdecydowanie się nie zgadzam</td>\n",
       "      <td>zdecydowanie się nie zgadzam</td>\n",
       "    </tr>\n",
       "    <tr>\n",
       "      <th>44</th>\n",
       "      <td>PD</td>\n",
       "      <td>1</td>\n",
       "      <td>Nie</td>\n",
       "      <td>1</td>\n",
       "      <td>2</td>\n",
       "      <td>2</td>\n",
       "      <td>M</td>\n",
       "      <td>36</td>\n",
       "      <td>36-45</td>\n",
       "      <td>zdecydowanie się zgadzam</td>\n",
       "      <td>zgadzam się</td>\n",
       "    </tr>\n",
       "    <tr>\n",
       "      <th>125</th>\n",
       "      <td>MK</td>\n",
       "      <td>2</td>\n",
       "      <td>Nie</td>\n",
       "      <td>1</td>\n",
       "      <td>2</td>\n",
       "      <td>2</td>\n",
       "      <td>K</td>\n",
       "      <td>36</td>\n",
       "      <td>36-45</td>\n",
       "      <td>zdecydowanie się zgadzam</td>\n",
       "      <td>zgadzam się</td>\n",
       "    </tr>\n",
       "    <tr>\n",
       "      <th>111</th>\n",
       "      <td>PD</td>\n",
       "      <td>2</td>\n",
       "      <td>Nie</td>\n",
       "      <td>1</td>\n",
       "      <td>-1</td>\n",
       "      <td>-2</td>\n",
       "      <td>K</td>\n",
       "      <td>42</td>\n",
       "      <td>36-45</td>\n",
       "      <td>nie zgadzam się</td>\n",
       "      <td>zgadzam się</td>\n",
       "    </tr>\n",
       "    <tr>\n",
       "      <th>62</th>\n",
       "      <td>PD</td>\n",
       "      <td>2</td>\n",
       "      <td>Nie</td>\n",
       "      <td>2</td>\n",
       "      <td>2</td>\n",
       "      <td>2</td>\n",
       "      <td>M</td>\n",
       "      <td>50</td>\n",
       "      <td>46-55</td>\n",
       "      <td>zdecydowanie się zgadzam</td>\n",
       "      <td>zdecydowanie się zgadzam</td>\n",
       "    </tr>\n",
       "    <tr>\n",
       "      <th>47</th>\n",
       "      <td>PD</td>\n",
       "      <td>1</td>\n",
       "      <td>Nie</td>\n",
       "      <td>0</td>\n",
       "      <td>-2</td>\n",
       "      <td>-2</td>\n",
       "      <td>M</td>\n",
       "      <td>45</td>\n",
       "      <td>36-45</td>\n",
       "      <td>zdecydowanie się nie zgadzam</td>\n",
       "      <td>Nieokreślone</td>\n",
       "    </tr>\n",
       "  </tbody>\n",
       "</table>\n",
       "</div>"
      ],
      "text/plain": [
       "    DZIAL STAZ CZY_KIER  PYT_1  PYT_2  PYT_3 PLEC  WIEK WIEK_KAT   \n",
       "62     PD    2      Nie      2      2      2    M    50    46-55  \\\n",
       "95     PD    2      Nie     -2     -2     -1    M    36    36-45   \n",
       "155    MK    2      Nie      0     -2     -2    M    37    36-45   \n",
       "160    MK    2      Nie      1      2      2    M    36    36-45   \n",
       "4      IT    3      Tak      1      2     -1    K    65      >55   \n",
       "143    MK    2      Nie      0     -2     -2    K    46    46-55   \n",
       "91     PD    2      Nie      1      2      2    M    45    36-45   \n",
       "61     PD    2      Nie      2     -1     -2    M    50    46-55   \n",
       "188    HR    2      Nie      1      2      2    M    49    46-55   \n",
       "54     PD    2      Nie      0     -2     -2    M    41    36-45   \n",
       "83     PD    1      Nie      1      2      2    M    54    46-55   \n",
       "18     IT    2      Nie      1      2     -1    K    34      <35   \n",
       "24     IT    2      Nie      1     -1     -1    K    50    46-55   \n",
       "20     IT    2      Nie      1     -1      1    K    60      >55   \n",
       "35     PD    1      Nie     -2     -2      1    M    29      <35   \n",
       "44     PD    1      Nie      1      2      2    M    36    36-45   \n",
       "125    MK    2      Nie      1      2      2    K    36    36-45   \n",
       "111    PD    2      Nie      1     -1     -2    K    42    36-45   \n",
       "62     PD    2      Nie      2      2      2    M    50    46-55   \n",
       "47     PD    1      Nie      0     -2     -2    M    45    36-45   \n",
       "\n",
       "                        CZY_ZADOW                   CZY_ZADOW_1  \n",
       "62       zdecydowanie się zgadzam      zdecydowanie się zgadzam  \n",
       "95   zdecydowanie się nie zgadzam  zdecydowanie się nie zgadzam  \n",
       "155  zdecydowanie się nie zgadzam                  Nieokreślone  \n",
       "160      zdecydowanie się zgadzam                   zgadzam się  \n",
       "4        zdecydowanie się zgadzam                   zgadzam się  \n",
       "143  zdecydowanie się nie zgadzam                  Nieokreślone  \n",
       "91       zdecydowanie się zgadzam                   zgadzam się  \n",
       "61                nie zgadzam się      zdecydowanie się zgadzam  \n",
       "188      zdecydowanie się zgadzam                   zgadzam się  \n",
       "54   zdecydowanie się nie zgadzam                  Nieokreślone  \n",
       "83       zdecydowanie się zgadzam                   zgadzam się  \n",
       "18       zdecydowanie się zgadzam                   zgadzam się  \n",
       "24                nie zgadzam się                   zgadzam się  \n",
       "20                nie zgadzam się                   zgadzam się  \n",
       "35   zdecydowanie się nie zgadzam  zdecydowanie się nie zgadzam  \n",
       "44       zdecydowanie się zgadzam                   zgadzam się  \n",
       "125      zdecydowanie się zgadzam                   zgadzam się  \n",
       "111               nie zgadzam się                   zgadzam się  \n",
       "62       zdecydowanie się zgadzam      zdecydowanie się zgadzam  \n",
       "47   zdecydowanie się nie zgadzam                  Nieokreślone  "
      ]
     },
     "metadata": {},
     "output_type": "display_data"
    }
   ],
   "source": [
    "with_replacement = np.random.choice(df.index, size=int(0.1*len(df)), replace=True)\n",
    "sample_with_replecement = df.loc[with_replacement]\n",
    "\n",
    "without_replacement = np.random.choice(df.index, size=int(0.1*len(df)), replace=True)\n",
    "sample_without_replecement = df.loc[without_replacement]\n",
    "\n",
    "display('Ze zwracaniem:',sample_with_replecement)\n",
    "display('Bez zwracania:', sample_without_replecement)"
   ]
  },
  {
   "cell_type": "code",
   "execution_count": 61,
   "metadata": {},
   "outputs": [
    {
     "name": "stdout",
     "output_type": "stream",
     "text": [
      "Średnia teoretyczna: 3.0000, Empiryczna: 3.0117\n",
      "Wariancja teoretyczna: 2.1000, Empiryczna: 2.0622\n"
     ]
    },
    {
     "data": {
      "image/png": "[encoded data removed]",
      "text/plain": [
       "<Figure size 640x480 with 1 Axes>"
      ]
     },
     "metadata": {},
     "output_type": "display_data"
    }
   ],
   "source": [
    "import numpy as np\n",
    "import matplotlib.pyplot as plt\n",
    "import scipy.stats as stats\n",
    "\n",
    "def simulate_binomial(n, p, size=1000):\n",
    "    \"\"\"Symuluje zmienną losową z rozkładu dwumianowego B(n, p).\"\"\"\n",
    "    samples = np.sum(np.random.rand(size, n) < p, axis=1)\n",
    "    return samples\n",
    "\n",
    "# Parametry rozkładu\n",
    "n, p = 10, 0.3\n",
    "size = 10000  # Liczba symulacji\n",
    "\n",
    "# Generowanie próby\n",
    "samples = simulate_binomial(n, p, size)\n",
    "\n",
    "# Teoretyczne wartości\n",
    "mean_theoretical = n * p\n",
    "var_theoretical = n * p * (1 - p)\n",
    "\n",
    "# Empiryczne wartości\n",
    "mean_empirical = np.mean(samples)\n",
    "var_empirical = np.var(samples, ddof=1)\n",
    "\n",
    "# Porównanie wartości\n",
    "print(f\"Średnia teoretyczna: {mean_theoretical:.4f}, Empiryczna: {mean_empirical:.4f}\")\n",
    "print(f\"Wariancja teoretyczna: {var_theoretical:.4f}, Empiryczna: {var_empirical:.4f}\")\n",
    "\n",
    "# Histogram\n",
    "plt.hist(samples, bins=np.arange(n+2)-0.5, density=True, alpha=0.6, color='b', label='Empiryczny')\n",
    "\n",
    "# Teoretyczny rozkład\n",
    "x = np.arange(n+1)\n",
    "plt.plot(x, stats.binom.pmf(x, n, p), 'ro-', label='Teoretyczny')\n",
    "plt.xlabel(\"Wartości zmiennej losowej\")\n",
    "plt.ylabel(\"Prawdopodobieństwo\")\n",
    "plt.legend()\n",
    "plt.title(\"Porównanie empirycznego i teoretycznego rozkładu dwumianowego\")\n",
    "plt.show()\n"
   ]
  }
 ],
 "metadata": {
  "kernelspec": {
   "display_name": "Python 3",
   "language": "python",
   "name": "python3"
  },
  "language_info": {
   "codemirror_mode": {
    "name": "ipython",
    "version": 3
   },
   "file_extension": ".py",
   "mimetype": "text/x-python",
   "name": "python",
   "nbconvert_exporter": "python",
   "pygments_lexer": "ipython3",
   "version": "3.10.11"
  }
 },
 "nbformat": 4,
 "nbformat_minor": 2
}
