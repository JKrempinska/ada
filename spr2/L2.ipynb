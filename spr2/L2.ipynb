{
 "cells": [
  {
   "cell_type": "markdown",
   "id": "7bdc1713",
   "metadata": {},
   "source": [
    "# **Analiza danych ankietowych - Sprawozdanie I**"
   ]
  },
  {
   "cell_type": "markdown",
   "id": "1c539eaf",
   "metadata": {},
   "source": [
    "## *Autorzy: Julia Krempińska, Filip Miśkiewicz*"
   ]
  },
  {
   "cell_type": "markdown",
   "id": "7e53de7b",
   "metadata": {},
   "source": [
    "## **Biblioteki**"
   ]
  },
  {
   "cell_type": "code",
   "execution_count": null,
   "id": "dabe6b04",
   "metadata": {},
   "outputs": [],
   "source": [
    "import numpy as np\n",
    "import scipy.stats as st\n",
    "import pandas as pd\n",
    "import fisher\n",
    "import warnings\n",
    "\n",
    "warnings.filterwarnings(\"ignore\")\n",
    "%matplotlib inline "
   ]
  },
  {
   "cell_type": "markdown",
   "id": "2923ee04",
   "metadata": {},
   "source": [
    "## **Przygotowanie danych**"
   ]
  },
  {
   "cell_type": "code",
   "execution_count": 13,
   "id": "45142ce6",
   "metadata": {},
   "outputs": [],
   "source": [
    "# Wczytanie danych z pliku ankieta.csv\n",
    "df = pd.read_csv(\"ankieta.csv\", sep=\";\")"
   ]
  },
  {
   "cell_type": "code",
   "execution_count": 14,
   "id": "f20208e2",
   "metadata": {},
   "outputs": [
    {
     "data": {
      "text/html": [
       "<div>\n",
       "<style scoped>\n",
       "    .dataframe tbody tr th:only-of-type {\n",
       "        vertical-align: middle;\n",
       "    }\n",
       "\n",
       "    .dataframe tbody tr th {\n",
       "        vertical-align: top;\n",
       "    }\n",
       "\n",
       "    .dataframe thead th {\n",
       "        text-align: right;\n",
       "    }\n",
       "</style>\n",
       "<table border=\"1\" class=\"dataframe\">\n",
       "  <thead>\n",
       "    <tr style=\"text-align: right;\">\n",
       "      <th></th>\n",
       "      <th>DZIAŁ</th>\n",
       "      <th>STAŻ</th>\n",
       "      <th>CZY_KIER</th>\n",
       "      <th>PYT_1</th>\n",
       "      <th>PYT_2</th>\n",
       "      <th>PYT_3</th>\n",
       "      <th>PŁEĆ</th>\n",
       "      <th>WIEK</th>\n",
       "      <th>WIEK_KAT</th>\n",
       "    </tr>\n",
       "  </thead>\n",
       "  <tbody>\n",
       "    <tr>\n",
       "      <th>195</th>\n",
       "      <td>HR</td>\n",
       "      <td>2</td>\n",
       "      <td>Nie</td>\n",
       "      <td>1</td>\n",
       "      <td>2</td>\n",
       "      <td>2</td>\n",
       "      <td>M</td>\n",
       "      <td>42</td>\n",
       "      <td>1.0</td>\n",
       "    </tr>\n",
       "    <tr>\n",
       "      <th>196</th>\n",
       "      <td>HR</td>\n",
       "      <td>2</td>\n",
       "      <td>Nie</td>\n",
       "      <td>1</td>\n",
       "      <td>-1</td>\n",
       "      <td>-1</td>\n",
       "      <td>K</td>\n",
       "      <td>35</td>\n",
       "      <td>0.0</td>\n",
       "    </tr>\n",
       "    <tr>\n",
       "      <th>197</th>\n",
       "      <td>HR</td>\n",
       "      <td>2</td>\n",
       "      <td>Nie</td>\n",
       "      <td>-1</td>\n",
       "      <td>-2</td>\n",
       "      <td>-2</td>\n",
       "      <td>K</td>\n",
       "      <td>39</td>\n",
       "      <td>1.0</td>\n",
       "    </tr>\n",
       "    <tr>\n",
       "      <th>198</th>\n",
       "      <td>HR</td>\n",
       "      <td>2</td>\n",
       "      <td>Nie</td>\n",
       "      <td>1</td>\n",
       "      <td>2</td>\n",
       "      <td>1</td>\n",
       "      <td>K</td>\n",
       "      <td>48</td>\n",
       "      <td>2.0</td>\n",
       "    </tr>\n",
       "    <tr>\n",
       "      <th>199</th>\n",
       "      <td>HR</td>\n",
       "      <td>2</td>\n",
       "      <td>Nie</td>\n",
       "      <td>1</td>\n",
       "      <td>2</td>\n",
       "      <td>2</td>\n",
       "      <td>K</td>\n",
       "      <td>42</td>\n",
       "      <td>1.0</td>\n",
       "    </tr>\n",
       "  </tbody>\n",
       "</table>\n",
       "</div>"
      ],
      "text/plain": [
       "    DZIAŁ  STAŻ CZY_KIER  PYT_1  PYT_2  PYT_3 PŁEĆ  WIEK  WIEK_KAT\n",
       "195    HR     2      Nie      1      2      2    M    42       1.0\n",
       "196    HR     2      Nie      1     -1     -1    K    35       0.0\n",
       "197    HR     2      Nie     -1     -2     -2    K    39       1.0\n",
       "198    HR     2      Nie      1      2      1    K    48       2.0\n",
       "199    HR     2      Nie      1      2      2    K    42       1.0"
      ]
     },
     "execution_count": 14,
     "metadata": {},
     "output_type": "execute_result"
    }
   ],
   "source": [
    "WIEK_KAT = np.zeros(len(df[\"WIEK\"]))\n",
    "for i in range(len(df[\"WIEK\"])): #sprawdzanie warunków\n",
    "    if 35 < df[\"WIEK\"][i] <= 45:\n",
    "        WIEK_KAT[i] = 1\n",
    "    if 45 < df[\"WIEK\"][i] <= 55:\n",
    "        WIEK_KAT[i] = 2\n",
    "    if df[\"WIEK\"][i] > 55:\n",
    "        WIEK_KAT[i] = 3\n",
    "df[\"WIEK_KAT\"] = WIEK_KAT\n",
    "df.tail() #0 jeśli < 35"
   ]
  },
  {
   "cell_type": "markdown",
   "id": "0e8173d3",
   "metadata": {},
   "source": [
    "## **Część I**"
   ]
  },
  {
   "cell_type": "markdown",
   "id": "21493511",
   "metadata": {},
   "source": [
    "### **Zadanie 1**"
   ]
  },
  {
   "cell_type": "code",
   "execution_count": 5,
   "id": "8eaaac44",
   "metadata": {},
   "outputs": [
    {
     "data": {
      "text/html": [
       "<div>\n",
       "<style scoped>\n",
       "    .dataframe tbody tr th:only-of-type {\n",
       "        vertical-align: middle;\n",
       "    }\n",
       "\n",
       "    .dataframe tbody tr th {\n",
       "        vertical-align: top;\n",
       "    }\n",
       "\n",
       "    .dataframe thead th {\n",
       "        text-align: right;\n",
       "    }\n",
       "</style>\n",
       "<table border=\"1\" class=\"dataframe\">\n",
       "  <thead>\n",
       "    <tr style=\"text-align: right;\">\n",
       "      <th></th>\n",
       "      <th>Kategoria</th>\n",
       "      <th>Liczba odpowiedzi</th>\n",
       "      <th>Estymator p̂</th>\n",
       "      <th>95% CI dolny</th>\n",
       "      <th>95% CI górny</th>\n",
       "    </tr>\n",
       "  </thead>\n",
       "  <tbody>\n",
       "    <tr>\n",
       "      <th>0</th>\n",
       "      <td>Bardzo niezadowolony</td>\n",
       "      <td>14</td>\n",
       "      <td>0.070</td>\n",
       "      <td>0.0346</td>\n",
       "      <td>0.1054</td>\n",
       "    </tr>\n",
       "    <tr>\n",
       "      <th>1</th>\n",
       "      <td>Niezadowolony</td>\n",
       "      <td>17</td>\n",
       "      <td>0.085</td>\n",
       "      <td>0.0463</td>\n",
       "      <td>0.1237</td>\n",
       "    </tr>\n",
       "    <tr>\n",
       "      <th>2</th>\n",
       "      <td>Bez zdania</td>\n",
       "      <td>40</td>\n",
       "      <td>0.200</td>\n",
       "      <td>0.1446</td>\n",
       "      <td>0.2554</td>\n",
       "    </tr>\n",
       "    <tr>\n",
       "      <th>3</th>\n",
       "      <td>Zadowolony</td>\n",
       "      <td>100</td>\n",
       "      <td>0.500</td>\n",
       "      <td>0.4307</td>\n",
       "      <td>0.5693</td>\n",
       "    </tr>\n",
       "    <tr>\n",
       "      <th>4</th>\n",
       "      <td>Bardzo zadowolony</td>\n",
       "      <td>29</td>\n",
       "      <td>0.145</td>\n",
       "      <td>0.0962</td>\n",
       "      <td>0.1938</td>\n",
       "    </tr>\n",
       "  </tbody>\n",
       "</table>\n",
       "</div>"
      ],
      "text/plain": [
       "              Kategoria  Liczba odpowiedzi  Estymator p̂  95% CI dolny   \n",
       "0  Bardzo niezadowolony                 14         0.070        0.0346  \\\n",
       "1         Niezadowolony                 17         0.085        0.0463   \n",
       "2            Bez zdania                 40         0.200        0.1446   \n",
       "3            Zadowolony                100         0.500        0.4307   \n",
       "4     Bardzo zadowolony                 29         0.145        0.0962   \n",
       "\n",
       "   95% CI górny  \n",
       "0        0.1054  \n",
       "1        0.1237  \n",
       "2        0.2554  \n",
       "3        0.5693  \n",
       "4        0.1938  "
      ]
     },
     "metadata": {},
     "output_type": "display_data"
    }
   ],
   "source": [
    "n = 200\n",
    "\n",
    "counts = np.array([14, 17, 40, 100, 29])\n",
    "categories = [\n",
    "    \"Bardzo niezadowolony\", \n",
    "    \"Niezadowolony\", \n",
    "    \"Bez zdania\", \n",
    "    \"Zadowolony\", \n",
    "    \"Bardzo zadowolony\"\n",
    "]\n",
    "\n",
    "# Estymatory p̂\n",
    "p_hat = counts / n\n",
    "\n",
    "# Parametry dla CI\n",
    "alpha = 0.05\n",
    "z = st.norm.ppf(1 - alpha / 2)\n",
    "\n",
    "# Liczenie błędu standardowego bezpiecznie\n",
    "standard_error = np.sqrt(np.clip(p_hat * (1 - p_hat) / n, 0, None))\n",
    "\n",
    "# Przedziały ufności\n",
    "ci_lower = p_hat - z * standard_error\n",
    "ci_upper = p_hat + z * standard_error\n",
    "\n",
    "# Ograniczenie do [0, 1]\n",
    "ci_lower = np.clip(ci_lower, 0, 1)\n",
    "ci_upper = np.clip(ci_upper, 0, 1)\n",
    "\n",
    "# Tabela wyników\n",
    "df = pd.DataFrame({\n",
    "    \"Kategoria\": categories,\n",
    "    \"Liczba odpowiedzi\": counts,\n",
    "    \"Estymator p̂\": p_hat,\n",
    "    \"95% CI dolny\": ci_lower,\n",
    "    \"95% CI górny\": ci_upper\n",
    "})\n",
    "\n",
    "df = df.round(4)\n",
    "\n",
    "display(df)\n"
   ]
  },
  {
   "cell_type": "markdown",
   "id": "74d995e8",
   "metadata": {},
   "source": [
    "### **Zadanie 2**"
   ]
  },
  {
   "cell_type": "code",
   "execution_count": 6,
   "id": "700f12fc",
   "metadata": {},
   "outputs": [],
   "source": [
    "def chi_squared_test(x, p0, alpha=0.05):\n",
    "    \"\"\"\n",
    "    Test chi-kwadrat Pearsona i największej wiarygodności dla hipotezy H0: p = p0\n",
    "    \n",
    "    Parametry:\n",
    "    x     - wektor zliczeń (np. [14, 17, 40, 100, 29])\n",
    "    p0    - wektor p0 z hipotezy zerowej (np. [0.1, 0.1, 0.2, 0.4, 0.2])\n",
    "    alpha - poziom istotności (np. 0.05)\n",
    "    \n",
    "    Zwraca:\n",
    "    Słownik z wynikami testów: statystyki, p-value, decyzja o odrzuceniu H0\n",
    "    \"\"\"\n",
    "    x = np.array(x)\n",
    "    p0 = np.array(p0)\n",
    "    n = np.sum(x)\n",
    "    k = len(x)\n",
    "    \n",
    "    # Oczekiwane wartości\n",
    "    expected = n * p0\n",
    "\n",
    "    # Statystyka testu Pearsona\n",
    "    with np.errstate(divide='ignore', invalid='ignore'):\n",
    "        T_Pearson = np.nansum((x - expected)**2 / expected)\n",
    "\n",
    "    # Statystyka testu największej wiarygodności (log-likelihood ratio)\n",
    "    ratio = np.where(x == 0, 1, x / expected)\n",
    "    T_LR = 2 * np.nansum(np.where(x == 0, 0, x * np.log(ratio)))\n",
    "\n",
    "    # Stopnie swobody\n",
    "    df = k - 1\n",
    "\n",
    "    # Wartości krytyczne\n",
    "    critical_value = st.chi2.ppf(1 - alpha, df)\n",
    "\n",
    "    # P-value\n",
    "    pval_pearson = 1 - st.chi2.cdf(T_Pearson, df)\n",
    "    pval_lr = 1 - st.chi2.cdf(T_LR, df)\n",
    "\n",
    "    # Decyzja\n",
    "    decision_pearson = \"Odrzucamy H0\" if pval_pearson < alpha else \"Brak podstaw do odrzucenia H0\"\n",
    "    decision_lr = \"Odrzucamy H0\" if pval_lr < alpha else \"Brak podstaw do odrzucenia H0\"\n",
    "\n",
    "    return {\n",
    "        \"Test Pearsona\": {\n",
    "            \"Statystyka\": T_Pearson,\n",
    "            \"p-value\": pval_pearson,\n",
    "            \"Wartość krytyczna\": critical_value,\n",
    "            \"Decyzja\": decision_pearson\n",
    "        },\n",
    "        \"Test największej wiarygodności\": {\n",
    "            \"Statystyka\": T_LR,\n",
    "            \"p-value\": pval_lr,\n",
    "            \"Wartość krytyczna\": critical_value,\n",
    "            \"Decyzja\": decision_lr\n",
    "        },\n",
    "        \"Stopnie swobody\": df,\n",
    "        \"Poziom istotności\": alpha\n",
    "    }\n"
   ]
  },
  {
   "cell_type": "markdown",
   "id": "73fc6767",
   "metadata": {},
   "source": [
    "### **Zadanie 3**"
   ]
  },
  {
   "cell_type": "code",
   "execution_count": null,
   "id": "f214de18",
   "metadata": {},
   "outputs": [
    {
     "name": "stdout",
     "output_type": "stream",
     "text": [
      "PYT_1\n",
      " 1    100\n",
      " 0     40\n",
      " 2     29\n",
      "-1     17\n",
      "-2     14\n",
      "Name: count, dtype: int64\n",
      "[0.2 0.2 0.2 0.2 0.2]\n"
     ]
    },
    {
     "data": {
      "text/plain": [
       "'Statystyka chi-kwadrat Pearsona:'"
      ]
     },
     "metadata": {},
     "output_type": "display_data"
    },
    {
     "data": {
      "text/plain": [
       "{'Test Pearsona': {'Statystyka': 123.15,\n",
       "  'p-value': 0.0,\n",
       "  'Wartość krytyczna': 9.487729036781154,\n",
       "  'Decyzja': 'Odrzucamy H0'},\n",
       " 'Test największej wiarygodności': {'Statystyka': 106.11862894751276,\n",
       "  'p-value': 0.0,\n",
       "  'Wartość krytyczna': 9.487729036781154,\n",
       "  'Decyzja': 'Odrzucamy H0'},\n",
       " 'Stopnie swobody': 4,\n",
       " 'Poziom istotności': 0.05}"
      ]
     },
     "metadata": {},
     "output_type": "display_data"
    }
   ],
   "source": [
    "counts = (df['PYT_1'].value_counts())\n",
    "print(counts)\n",
    "     \n",
    "p0 = np.full(len(counts), 1 / len(counts))  \n",
    "print(p0)\n",
    "\n",
    "T_Pearson= chi_squared_test(counts, p0, alpha=0.05)\n",
    "\n",
    "display(\"Statystyka chi-kwadrat Pearsona:\", T_Pearson)"
   ]
  },
  {
   "cell_type": "markdown",
   "id": "f3298d20",
   "metadata": {},
   "source": [
    "## **Część II**"
   ]
  },
  {
   "cell_type": "markdown",
   "id": "c7764434",
   "metadata": {},
   "source": [
    "### **Zadanie 4**"
   ]
  },
  {
   "cell_type": "markdown",
   "id": "0dd97022",
   "metadata": {},
   "source": [
    "Do wykonania testu Fishera oraz testu Freemana-Haltona użyjemy funkcji z bibliotek *fisher* oraz *scipy.stats*"
   ]
  },
  {
   "cell_type": "markdown",
   "id": "ca18b6e8",
   "metadata": {},
   "source": [
    "### **Zadanie 5**"
   ]
  },
  {
   "cell_type": "code",
   "execution_count": 8,
   "id": "30bb1ce1",
   "metadata": {},
   "outputs": [
    {
     "data": {
      "text/html": [
       "<div>\n",
       "<style scoped>\n",
       "    .dataframe tbody tr th:only-of-type {\n",
       "        vertical-align: middle;\n",
       "    }\n",
       "\n",
       "    .dataframe tbody tr th {\n",
       "        vertical-align: top;\n",
       "    }\n",
       "\n",
       "    .dataframe thead th {\n",
       "        text-align: right;\n",
       "    }\n",
       "</style>\n",
       "<table border=\"1\" class=\"dataframe\">\n",
       "  <thead>\n",
       "    <tr style=\"text-align: right;\">\n",
       "      <th>CZY_KIER</th>\n",
       "      <th>Nie</th>\n",
       "      <th>Tak</th>\n",
       "    </tr>\n",
       "    <tr>\n",
       "      <th>PŁEĆ</th>\n",
       "      <th></th>\n",
       "      <th></th>\n",
       "    </tr>\n",
       "  </thead>\n",
       "  <tbody>\n",
       "    <tr>\n",
       "      <th>K</th>\n",
       "      <td>63</td>\n",
       "      <td>8</td>\n",
       "    </tr>\n",
       "    <tr>\n",
       "      <th>M</th>\n",
       "      <td>110</td>\n",
       "      <td>19</td>\n",
       "    </tr>\n",
       "  </tbody>\n",
       "</table>\n",
       "</div>"
      ],
      "text/plain": [
       "CZY_KIER  Nie  Tak\n",
       "PŁEĆ              \n",
       "K          63    8\n",
       "M         110   19"
      ]
     },
     "metadata": {},
     "output_type": "display_data"
    },
    {
     "data": {
      "text/plain": [
       "{'p-value': 0.6659028889666552,\n",
       " 'Decyzja': 'Brak podstaw do odrzucenia H₀ - zmienne są niezależne'}"
      ]
     },
     "metadata": {},
     "output_type": "display_data"
    }
   ],
   "source": [
    "df2 = pd.crosstab(df['PŁEĆ'], df['CZY_KIER'])\n",
    "display(df2)\n",
    "\n",
    "odds_ratio, p_value = st.fisher_exact(df2, alternative='two-sided')\n",
    "    \n",
    "decision = \"Odrzucamy H₀ – zmienne są zależne\" if p_value < 0.05 else \"Brak podstaw do odrzucenia H₀ - zmienne są niezależne\"\n",
    "\n",
    "display({\n",
    "    \"p-value\": p_value,\n",
    "    \"Decyzja\": decision\n",
    "})"
   ]
  },
  {
   "cell_type": "markdown",
   "id": "32e79580",
   "metadata": {},
   "source": [
    "### **Zadanie 6**"
   ]
  },
  {
   "cell_type": "code",
   "execution_count": 31,
   "id": "f70b92da",
   "metadata": {},
   "outputs": [],
   "source": [
    "def fisher_monte_carlo_from_table(data1, data2, B=10000, random_state=None):\n",
    "    data_frame = pd.crosstab(df[data1], df[data2])\n",
    "\n",
    "    np.random.seed(random_state)\n",
    "\n",
    "    # Oryginalna statystyka chi-kwadrat\n",
    "    chi2_obs, _, _, _ = st.chi2_contingency(data_frame, correction=False)\n",
    "\n",
    "    # Rekonstrukcja \"płaskiego\" dataframe do permutacji\n",
    "    expanded_df = df[[data1, data2]]\n",
    "    \n",
    "    shuffled = np.random.permutation(expanded_df[data2])\n",
    "    simulated_table = pd.crosstab(expanded_df[data1], shuffled)\n",
    "\n",
    "    # Symulacje\n",
    "    count = 0\n",
    "    for _ in range(B):\n",
    "        shuffled = np.random.permutation(expanded_df[data2])\n",
    "        simulated_table = pd.crosstab(expanded_df[data1], shuffled)\n",
    "        \n",
    "        # Dopasuj do kształtu oryginału (w razie braków)\n",
    "        simulated_table = simulated_table.reindex(index=data_frame.index, columns=data_frame.columns, fill_value=0)\n",
    "        \n",
    "        chi2_sim, _, _, _ = st.chi2_contingency(simulated_table, correction=False)\n",
    "        \n",
    "        if chi2_sim >= chi2_obs:\n",
    "            count += 1\n",
    "\n",
    "    p_value = count / B\n",
    "    return chi2_obs, p_value"
   ]
  },
  {
   "cell_type": "code",
   "execution_count": null,
   "id": "36171a7f",
   "metadata": {},
   "outputs": [],
   "source": [
    "def check_pvalue(alpha=0.05):\n",
    "    if p_value < alpha:\n",
    "        print(\"\\nWniosek: Odrzucamy hipotezę zerową (jest zależność).\")\n",
    "    else:\n",
    "        print(\"\\nWniosek: Brak podstaw do odrzucenia hipotezy zerowej (brak zależności).\")"
   ]
  },
  {
   "cell_type": "code",
   "execution_count": 35,
   "id": "e6745825",
   "metadata": {},
   "outputs": [],
   "source": [
    "alpha=0.05"
   ]
  },
  {
   "cell_type": "markdown",
   "id": "11022d05",
   "metadata": {},
   "source": [
    "a) zajmowanie stanowiska kierowniczego nie zależy od wieku "
   ]
  },
  {
   "cell_type": "code",
   "execution_count": 37,
   "id": "b9c4aed5",
   "metadata": {},
   "outputs": [
    {
     "name": "stdout",
     "output_type": "stream",
     "text": [
      "Chi² = 1.0803155311825832\n",
      "P-wartość (Monte Carlo) = 0.827\n",
      "\n",
      "Wniosek: Brak podstaw do odrzucenia hipotezy zerowej (brak zależności).\n"
     ]
    }
   ],
   "source": [
    "# Przykład użycia:\n",
    "chi2_obs, p_value = fisher_monte_carlo_from_table('WIEK_KAT', 'CZY_KIER', B=1000)\n",
    "print(f\"Chi² = {chi2_obs}\")\n",
    "print(f\"P-wartość (Monte Carlo) = {p_value}\")\n",
    "\n",
    "check_pvalue(alpha)"
   ]
  },
  {
   "cell_type": "markdown",
   "id": "72a823d3",
   "metadata": {},
   "source": [
    "b) zajmowanie stanowiska kierowniczego nie zależy od stażu pracy"
   ]
  },
  {
   "cell_type": "code",
   "execution_count": 38,
   "id": "d9cdf761",
   "metadata": {},
   "outputs": [
    {
     "name": "stdout",
     "output_type": "stream",
     "text": [
      "Chi² = 23.179908824020515\n",
      "P-wartość (Monte Carlo) = 0.0\n",
      "\n",
      "Wniosek: Odrzucamy hipotezę zerową (jest zależność).\n"
     ]
    }
   ],
   "source": [
    "chi2_obs, p_value = fisher_monte_carlo_from_table('STAŻ', 'CZY_KIER', B=1000)\n",
    "print(f\"Chi² = {chi2_obs}\")\n",
    "print(f\"P-wartość (Monte Carlo) = {p_value}\")\n",
    "\n",
    "check_pvalue(alpha)"
   ]
  },
  {
   "cell_type": "markdown",
   "id": "9801a25a",
   "metadata": {},
   "source": [
    "c) stopień zadowolenia ze szkoleń w kontekście dopasowania do indywidualnych potrzeb\n",
    "w pierwszym badanym okresie nie zależy od zajmowanego stanowiska"
   ]
  },
  {
   "cell_type": "code",
   "execution_count": 39,
   "id": "7c98bef9",
   "metadata": {},
   "outputs": [
    {
     "name": "stdout",
     "output_type": "stream",
     "text": [
      "Chi² = 13.11369172640849\n",
      "P-wartość (Monte Carlo) = 0.024\n",
      "\n",
      "Wniosek: Odrzucamy hipotezę zerową (jest zależność).\n"
     ]
    }
   ],
   "source": [
    "chi2_obs, p_value = fisher_monte_carlo_from_table('PYT_2', 'CZY_KIER', B=1000)\n",
    "print(f\"Chi² = {chi2_obs}\")\n",
    "print(f\"P-wartość (Monte Carlo) = {p_value}\")\n",
    "\n",
    "check_pvalue(alpha)"
   ]
  },
  {
   "cell_type": "markdown",
   "id": "487fa8d3",
   "metadata": {},
   "source": [
    "d) stopień zadowolenia ze szkoleń w kontekście dopasowania do indywidualnych potrzeb w\n",
    "pierwszym badanym okresie nie zależy od stażu "
   ]
  },
  {
   "cell_type": "code",
   "execution_count": 40,
   "id": "7f0b7832",
   "metadata": {},
   "outputs": [
    {
     "name": "stdout",
     "output_type": "stream",
     "text": [
      "Chi² = 26.1193138645\n",
      "P-wartość (Monte Carlo) = 0.0\n",
      "\n",
      "Wniosek: Odrzucamy hipotezę zerową (jest zależność).\n"
     ]
    }
   ],
   "source": [
    "chi2_obs, p_value = fisher_monte_carlo_from_table('PYT_2', 'STAŻ', B=1000)\n",
    "print(f\"Chi² = {chi2_obs}\")\n",
    "print(f\"P-wartość (Monte Carlo) = {p_value}\")\n",
    "\n",
    "check_pvalue(alpha)"
   ]
  },
  {
   "cell_type": "markdown",
   "id": "4fe11387",
   "metadata": {},
   "source": [
    "e) stopień zadowolenia ze szkoleń w kontekście dopasowania do indywidualnych potrzeb w\n",
    "pierwszym badanym okresie nie zależy od płci"
   ]
  },
  {
   "cell_type": "code",
   "execution_count": 41,
   "id": "1f4dc01f",
   "metadata": {},
   "outputs": [
    {
     "name": "stdout",
     "output_type": "stream",
     "text": [
      "Chi² = 2.2700823224897917\n",
      "P-wartość (Monte Carlo) = 0.548\n",
      "\n",
      "Wniosek: Brak podstaw do odrzucenia hipotezy zerowej (brak zależności).\n"
     ]
    }
   ],
   "source": [
    "chi2_obs, p_value = fisher_monte_carlo_from_table('PYT_2', 'PŁEĆ', B=1000)\n",
    "print(f\"Chi² = {chi2_obs}\")\n",
    "print(f\"P-wartość (Monte Carlo) = {p_value}\")\n",
    "\n",
    "check_pvalue(alpha)"
   ]
  },
  {
   "cell_type": "markdown",
   "id": "11af1b37",
   "metadata": {},
   "source": [
    "f) stopień zadowolenia ze szkoleń w kontekście dopasowania do indywidualnych potrzeb w\n",
    "pierwszym badanym okresie nie zależy od wieku"
   ]
  },
  {
   "cell_type": "code",
   "execution_count": 42,
   "id": "7cb0f97a",
   "metadata": {},
   "outputs": [
    {
     "name": "stdout",
     "output_type": "stream",
     "text": [
      "Chi² = 9.845826003518312\n",
      "P-wartość (Monte Carlo) = 0.323\n",
      "\n",
      "Wniosek: Brak podstaw do odrzucenia hipotezy zerowej (brak zależności).\n"
     ]
    }
   ],
   "source": [
    "chi2_obs, p_value = fisher_monte_carlo_from_table('PYT_2', 'WIEK_KAT', B=1000)\n",
    "print(f\"Chi² = {chi2_obs}\")\n",
    "print(f\"P-wartość (Monte Carlo) = {p_value}\")\n",
    "\n",
    "check_pvalue(alpha)"
   ]
  },
  {
   "cell_type": "code",
   "execution_count": 43,
   "id": "2712f2f2",
   "metadata": {},
   "outputs": [
    {
     "data": {
      "text/html": [
       "<div>\n",
       "<style scoped>\n",
       "    .dataframe tbody tr th:only-of-type {\n",
       "        vertical-align: middle;\n",
       "    }\n",
       "\n",
       "    .dataframe tbody tr th {\n",
       "        vertical-align: top;\n",
       "    }\n",
       "\n",
       "    .dataframe thead th {\n",
       "        text-align: right;\n",
       "    }\n",
       "</style>\n",
       "<table border=\"1\" class=\"dataframe\">\n",
       "  <thead>\n",
       "    <tr style=\"text-align: right;\">\n",
       "      <th></th>\n",
       "      <th>DZIAŁ</th>\n",
       "      <th>STAŻ</th>\n",
       "      <th>CZY_KIER</th>\n",
       "      <th>PYT_1</th>\n",
       "      <th>PYT_2</th>\n",
       "      <th>PYT_3</th>\n",
       "      <th>PŁEĆ</th>\n",
       "      <th>WIEK</th>\n",
       "      <th>WIEK_KAT</th>\n",
       "      <th>CZY_ZADOW</th>\n",
       "    </tr>\n",
       "  </thead>\n",
       "  <tbody>\n",
       "    <tr>\n",
       "      <th>195</th>\n",
       "      <td>HR</td>\n",
       "      <td>2</td>\n",
       "      <td>Nie</td>\n",
       "      <td>1</td>\n",
       "      <td>2</td>\n",
       "      <td>2</td>\n",
       "      <td>M</td>\n",
       "      <td>42</td>\n",
       "      <td>1.0</td>\n",
       "      <td>1.0</td>\n",
       "    </tr>\n",
       "    <tr>\n",
       "      <th>196</th>\n",
       "      <td>HR</td>\n",
       "      <td>2</td>\n",
       "      <td>Nie</td>\n",
       "      <td>1</td>\n",
       "      <td>-1</td>\n",
       "      <td>-1</td>\n",
       "      <td>K</td>\n",
       "      <td>35</td>\n",
       "      <td>0.0</td>\n",
       "      <td>-1.0</td>\n",
       "    </tr>\n",
       "    <tr>\n",
       "      <th>197</th>\n",
       "      <td>HR</td>\n",
       "      <td>2</td>\n",
       "      <td>Nie</td>\n",
       "      <td>-1</td>\n",
       "      <td>-2</td>\n",
       "      <td>-2</td>\n",
       "      <td>K</td>\n",
       "      <td>39</td>\n",
       "      <td>1.0</td>\n",
       "      <td>-1.0</td>\n",
       "    </tr>\n",
       "    <tr>\n",
       "      <th>198</th>\n",
       "      <td>HR</td>\n",
       "      <td>2</td>\n",
       "      <td>Nie</td>\n",
       "      <td>1</td>\n",
       "      <td>2</td>\n",
       "      <td>1</td>\n",
       "      <td>K</td>\n",
       "      <td>48</td>\n",
       "      <td>2.0</td>\n",
       "      <td>1.0</td>\n",
       "    </tr>\n",
       "    <tr>\n",
       "      <th>199</th>\n",
       "      <td>HR</td>\n",
       "      <td>2</td>\n",
       "      <td>Nie</td>\n",
       "      <td>1</td>\n",
       "      <td>2</td>\n",
       "      <td>2</td>\n",
       "      <td>K</td>\n",
       "      <td>42</td>\n",
       "      <td>1.0</td>\n",
       "      <td>1.0</td>\n",
       "    </tr>\n",
       "  </tbody>\n",
       "</table>\n",
       "</div>"
      ],
      "text/plain": [
       "    DZIAŁ  STAŻ CZY_KIER  PYT_1  PYT_2  PYT_3 PŁEĆ  WIEK  WIEK_KAT  CZY_ZADOW\n",
       "195    HR     2      Nie      1      2      2    M    42       1.0        1.0\n",
       "196    HR     2      Nie      1     -1     -1    K    35       0.0       -1.0\n",
       "197    HR     2      Nie     -1     -2     -2    K    39       1.0       -1.0\n",
       "198    HR     2      Nie      1      2      1    K    48       2.0        1.0\n",
       "199    HR     2      Nie      1      2      2    K    42       1.0        1.0"
      ]
     },
     "execution_count": 43,
     "metadata": {},
     "output_type": "execute_result"
    }
   ],
   "source": [
    "CZY_ZADOW = np.zeros(len(df[\"PYT_2\"]))\n",
    "for i in range(len(df[\"PYT_2\"])):\n",
    "    CZY_ZADOW[i] = np.sign(df[\"PYT_2\"][i]) #pozytywna odpowiedź > 0, negatywna < 0\n",
    "df[\"CZY_ZADOW\"] = CZY_ZADOW\n",
    "df.tail()"
   ]
  },
  {
   "cell_type": "code",
   "execution_count": 44,
   "id": "9fc62923",
   "metadata": {},
   "outputs": [
    {
     "name": "stdout",
     "output_type": "stream",
     "text": [
      "Chi² = 0.08183603554685095\n",
      "P-wartość (Monte Carlo) = 0.825\n",
      "\n",
      "Wniosek: Brak podstaw do odrzucenia hipotezy zerowej (brak zależności).\n"
     ]
    }
   ],
   "source": [
    "chi2_obs, p_value = fisher_monte_carlo_from_table('CZY_ZADOW', 'CZY_KIER', B=1000)\n",
    "print(f\"Chi² = {chi2_obs}\")\n",
    "print(f\"P-wartość (Monte Carlo) = {p_value}\")\n",
    "\n",
    "check_pvalue(alpha)"
   ]
  },
  {
   "cell_type": "code",
   "execution_count": 45,
   "id": "8395e3e8",
   "metadata": {},
   "outputs": [
    {
     "name": "stdout",
     "output_type": "stream",
     "text": [
      "Chi² = 1.7773575924124572\n",
      "P-wartość (Monte Carlo) = 0.442\n",
      "\n",
      "Wniosek: Brak podstaw do odrzucenia hipotezy zerowej (brak zależności).\n"
     ]
    }
   ],
   "source": [
    "chi2_obs, p_value = fisher_monte_carlo_from_table('CZY_ZADOW', 'STAŻ', B=1000)\n",
    "print(f\"Chi² = {chi2_obs}\")\n",
    "print(f\"P-wartość (Monte Carlo) = {p_value}\")\n",
    "\n",
    "check_pvalue(alpha)"
   ]
  },
  {
   "cell_type": "code",
   "execution_count": 46,
   "id": "e478e84b",
   "metadata": {},
   "outputs": [
    {
     "name": "stdout",
     "output_type": "stream",
     "text": [
      "Chi² = 0.23290747005849552\n",
      "P-wartość (Monte Carlo) = 0.658\n",
      "\n",
      "Wniosek: Brak podstaw do odrzucenia hipotezy zerowej (brak zależności).\n"
     ]
    }
   ],
   "source": [
    "chi2_obs, p_value = fisher_monte_carlo_from_table('CZY_ZADOW', 'PŁEĆ', B=1000)\n",
    "print(f\"Chi² = {chi2_obs}\")\n",
    "print(f\"P-wartość (Monte Carlo) = {p_value}\")\n",
    "\n",
    "check_pvalue(alpha)"
   ]
  },
  {
   "cell_type": "code",
   "execution_count": null,
   "id": "3b9306e2",
   "metadata": {},
   "outputs": [],
   "source": [
    "chi2_obs, p_value = fisher_monte_carlo_from_table('CZY_ZADOW', 'WIEK_KAT', B=1000)\n",
    "print(f\"Chi² = {chi2_obs}\")\n",
    "print(f\"P-wartość (Monte Carlo) = {p_value}\")\n",
    "\n",
    "check_pvalue(alpha)"
   ]
  }
 ],
 "metadata": {
  "kernelspec": {
   "display_name": "Python 3",
   "language": "python",
   "name": "python3"
  },
  "language_info": {
   "codemirror_mode": {
    "name": "ipython",
    "version": 3
   },
   "file_extension": ".py",
   "mimetype": "text/x-python",
   "name": "python",
   "nbconvert_exporter": "python",
   "pygments_lexer": "ipython3",
   "version": "3.10.11"
  }
 },
 "nbformat": 4,
 "nbformat_minor": 5
}
